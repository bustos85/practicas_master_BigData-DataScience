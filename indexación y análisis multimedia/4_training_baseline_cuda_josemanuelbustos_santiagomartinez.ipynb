{
  "nbformat": 4,
  "nbformat_minor": 0,
  "metadata": {
    "colab": {
      "name": "4_training_baseline_cuda_josemanuelbustos_santiagomartinez.ipynb",
      "version": "0.3.2",
      "provenance": [],
      "collapsed_sections": [],
      "toc_visible": true
    },
    "kernelspec": {
      "name": "python2",
      "display_name": "Python 2"
    },
    "accelerator": "GPU"
  },
  "cells": [
    {
      "metadata": {
        "id": "MbrPXkSGlcmB",
        "colab_type": "text"
      },
      "cell_type": "markdown",
      "source": [
        "#Máster en Big Data y Data Science: Ciencia e Ingeniería de Datos\n",
        "### ASIGNATURA: Indexación, búsqueda y análisis en repositorios multimedia\n",
        "### PARTE: Multimedia (imagen, video)\n",
        "### Práctica 1: Introducción al diseño de redes neuronales convolucionales con Pytorch mediante Google Colaboratory\n",
        "\n",
        "---\n",
        "\n",
        "Autor: Juan C. SanMiguel (juancarlos.sanmiguel@uam.es), Universidad Autónoma de Madrid\n"
      ]
    },
    {
      "metadata": {
        "id": "H7_EXhmb8zwb",
        "colab_type": "text"
      },
      "cell_type": "markdown",
      "source": [
        "# 4. Entrenamiento de una red con GPU (training)"
      ]
    },
    {
      "metadata": {
        "id": "TH6WlZfx_L3n",
        "colab_type": "text"
      },
      "cell_type": "markdown",
      "source": [
        "En este script, realizaremos la misma tarea que la parte 4, pero utilizando la GPU para el cálculo. Antes de continuar, por favor verifique que en \"Notebook Settings\" está el recurso GPU seleccionado.\n",
        "\n",
        "**En general, el único cambio sustancial será el añadir la extensión '.cuda()' a las variables matriciales que utilicemos**\n",
        "\n"
      ]
    },
    {
      "metadata": {
        "id": "RHl8oKTMUatn",
        "colab_type": "text"
      },
      "cell_type": "markdown",
      "source": [
        " ## Preparación del entorno de trabajo: \n"
      ]
    },
    {
      "metadata": {
        "id": "UOv5AC7z9_Gm",
        "colab_type": "text"
      },
      "cell_type": "markdown",
      "source": [
        "### Pytorch CUDA\n",
        "\n",
        "A continuación tiene un conjunto de instrucciones que instalan el software necesario para esta parte de la práctica.\n",
        "\n",
        "Para ello se proporciona un fichero *utils.zip* que contiene ficheros y utilidades necesarios.\n",
        "\n",
        "Observe que con respecto a partes anteriores, ahora utilizamos el fichero *requirements_cuda.txt* para instalar la versión CUDA 8.0 de Pytorch."
      ]
    },
    {
      "metadata": {
        "id": "Cq7viwqX-D5j",
        "colab_type": "code",
        "colab": {
          "base_uri": "https://localhost:8080/",
          "height": 768
        },
        "outputId": "817fa920-b3c9-478e-f2a3-2aaa88cd4a11"
      },
      "cell_type": "code",
      "source": [
        "import os\n",
        "import subprocess\n",
        "\n",
        "tmpdir = '/content/tmp/' #temporal location to download and store the dataset\n",
        "\n",
        "out=subprocess.call([\"mkdir\",tmpdir]) #create a empty directory\n",
        "os.chdir(tmpdir) #move to directory\n",
        "\n",
        "!wget http://www-vpu.eps.uam.es/~jcs/pub/utils.zip -O utils.zip #download utils\n",
        "!unzip -o -q utils.zip -d . #unzip file\n",
        "\n",
        "#install software requirements (pytorch, pillow, google-drive-ocamlfuse)\n",
        "#!pip uninstall -y torch #remove any previous version\n",
        "!pip install -r ./utils/requirements_cuda.txt"
      ],
      "execution_count": 4,
      "outputs": [
        {
          "output_type": "stream",
          "text": [
            "--2019-02-09 11:14:02--  http://www-vpu.eps.uam.es/~jcs/pub/utils.zip\n",
            "Resolving www-vpu.eps.uam.es (www-vpu.eps.uam.es)... 150.244.57.170\n",
            "Connecting to www-vpu.eps.uam.es (www-vpu.eps.uam.es)|150.244.57.170|:80... connected.\n",
            "HTTP request sent, awaiting response... 200 OK\n",
            "Length: 2404 (2.3K) [application/zip]\n",
            "Saving to: ‘utils.zip’\n",
            "\n",
            "utils.zip           100%[===================>]   2.35K  --.-KB/s    in 0s      \n",
            "\n",
            "2019-02-09 11:14:03 (375 MB/s) - ‘utils.zip’ saved [2404/2404]\n",
            "\n",
            "Collecting torch==0.3.1 from http://download.pytorch.org/whl/cu80/torch-0.3.1-cp27-cp27mu-linux_x86_64.whl (from -r ./utils/requirements_cuda.txt (line 5))\n",
            "\u001b[?25l  Downloading http://download.pytorch.org/whl/cu80/torch-0.3.1-cp27-cp27mu-linux_x86_64.whl (496.9MB)\n",
            "\u001b[K    100% |████████████████████████████████| 496.9MB 131.6MB/s \n",
            "\u001b[?25hRequirement already satisfied: torchvision in /usr/local/lib/python2.7/dist-packages (from -r ./utils/requirements_cuda.txt (line 8)) (0.2.1)\n",
            "Collecting Pillow==5.0.0 (from -r ./utils/requirements_cuda.txt (line 11))\n",
            "\u001b[?25l  Downloading https://files.pythonhosted.org/packages/89/bd/1d9a10f3e8157b7df275740b0782a892a0db387f8286620110c41e5146c7/Pillow-5.0.0-cp27-cp27mu-manylinux1_x86_64.whl (5.8MB)\n",
            "\u001b[K    100% |████████████████████████████████| 5.9MB 5.7MB/s \n",
            "\u001b[?25hRequirement already satisfied: matplotlib in /usr/local/lib/python2.7/dist-packages (from -r ./utils/requirements_cuda.txt (line 13)) (2.2.3)\n",
            "Requirement already satisfied: numpy in /usr/local/lib/python2.7/dist-packages (from torch==0.3.1->-r ./utils/requirements_cuda.txt (line 5)) (1.14.6)\n",
            "Requirement already satisfied: pyyaml in /usr/local/lib/python2.7/dist-packages (from torch==0.3.1->-r ./utils/requirements_cuda.txt (line 5)) (3.13)\n",
            "Requirement already satisfied: six in /usr/local/lib/python2.7/dist-packages (from torchvision->-r ./utils/requirements_cuda.txt (line 8)) (1.11.0)\n",
            "Requirement already satisfied: cycler>=0.10 in /usr/local/lib/python2.7/dist-packages (from matplotlib->-r ./utils/requirements_cuda.txt (line 13)) (0.10.0)\n",
            "Requirement already satisfied: backports.functools-lru-cache in /usr/local/lib/python2.7/dist-packages (from matplotlib->-r ./utils/requirements_cuda.txt (line 13)) (1.5)\n",
            "Requirement already satisfied: subprocess32 in /usr/local/lib/python2.7/dist-packages (from matplotlib->-r ./utils/requirements_cuda.txt (line 13)) (3.5.3)\n",
            "Requirement already satisfied: kiwisolver>=1.0.1 in /usr/local/lib/python2.7/dist-packages (from matplotlib->-r ./utils/requirements_cuda.txt (line 13)) (1.0.1)\n",
            "Requirement already satisfied: pytz in /usr/local/lib/python2.7/dist-packages (from matplotlib->-r ./utils/requirements_cuda.txt (line 13)) (2018.9)\n",
            "Requirement already satisfied: python-dateutil>=2.1 in /usr/local/lib/python2.7/dist-packages (from matplotlib->-r ./utils/requirements_cuda.txt (line 13)) (2.5.3)\n",
            "Requirement already satisfied: pyparsing!=2.0.4,!=2.1.2,!=2.1.6,>=2.0.1 in /usr/local/lib/python2.7/dist-packages (from matplotlib->-r ./utils/requirements_cuda.txt (line 13)) (2.3.1)\n",
            "Requirement already satisfied: setuptools in /usr/local/lib/python2.7/dist-packages (from kiwisolver>=1.0.1->matplotlib->-r ./utils/requirements_cuda.txt (line 13)) (40.8.0)\n",
            "Installing collected packages: torch, Pillow\n",
            "  Found existing installation: torch 1.0.0\n",
            "    Uninstalling torch-1.0.0:\n",
            "      Successfully uninstalled torch-1.0.0\n",
            "  Found existing installation: Pillow 4.0.0\n",
            "    Uninstalling Pillow-4.0.0:\n",
            "      Successfully uninstalled Pillow-4.0.0\n",
            "Successfully installed Pillow-5.0.0 torch-0.3.1\n"
          ],
          "name": "stdout"
        },
        {
          "output_type": "display_data",
          "data": {
            "application/vnd.colab-display-data+json": {
              "pip_warning": {
                "packages": [
                  "PIL",
                  "torch"
                ]
              }
            }
          },
          "metadata": {
            "tags": []
          }
        }
      ]
    },
    {
      "metadata": {
        "id": "yVfvPFXOV_2j",
        "colab_type": "text"
      },
      "cell_type": "markdown",
      "source": [
        "\n",
        "A lo largo del código utilizaremos una condición para indicar si se realiza el cálculo con GPU o CPU"
      ]
    },
    {
      "metadata": {
        "id": "YPvF235EUZUD",
        "colab_type": "code",
        "colab": {
          "base_uri": "https://localhost:8080/",
          "height": 34
        },
        "outputId": "caaf18e8-3a7f-44d1-803e-592cacf670af"
      },
      "cell_type": "code",
      "source": [
        "import torch \n",
        "\n",
        "#flag to indicate that we want to use CUDA\n",
        "use_cuda = True \n",
        "\n",
        "#check condition\n",
        "if use_cuda and torch.cuda.is_available():\n",
        "  print \"GPU enabled\"\n",
        "else:\n",
        "  print \"CPU enabled\""
      ],
      "execution_count": 1,
      "outputs": [
        {
          "output_type": "stream",
          "text": [
            "GPU enabled\n"
          ],
          "name": "stdout"
        }
      ]
    },
    {
      "metadata": {
        "id": "YV42kq1yEh3I",
        "colab_type": "text"
      },
      "cell_type": "markdown",
      "source": [
        "### Rutas de trabajo\n",
        "En este script, se utilizarán las siguientes rutas"
      ]
    },
    {
      "metadata": {
        "id": "qSZZsS4i_KP1",
        "colab_type": "code",
        "colab": {}
      },
      "cell_type": "code",
      "source": [
        "tmpdir = '/content/tmp/' #temporal location to download and store the dataset\n",
        "\n",
        "drivedir = '/content/gdrive'\n",
        "pracdir = drivedir + '/My Drive/p1indexacion' #directory for practica 1 indexacion\n",
        "datadir = pracdir + '/data' #directory for storing datasets\n",
        "resudir = pracdir + '/result' #directory to save results"
      ],
      "execution_count": 0,
      "outputs": []
    },
    {
      "metadata": {
        "id": "9zoOE4V7l5tS",
        "colab_type": "text"
      },
      "cell_type": "markdown",
      "source": [
        "### Google Drive\n",
        "\n",
        "Ejecute el siguiente código para enlazar este script con su cuenta de Google Drive. Los datos que se generen aquí se guardarán en su carpeta Drive para posterior uso. Por defecto, la unidad de Google Drive es enlaza con el directorio **/content/gdrive/**."
      ]
    },
    {
      "metadata": {
        "id": "YdwRGAHB3nM1",
        "colab_type": "code",
        "colab": {
          "base_uri": "https://localhost:8080/",
          "height": 292
        },
        "outputId": "28ccdcc5-541c-40b3-e81d-bec18af0a66d"
      },
      "cell_type": "code",
      "source": [
        "from google.colab import drive\n",
        "drive.mount(drivedir)\n",
        "\n",
        "print 'Google Drive mount completed'\n",
        "\n",
        "#check correct mount of drive directory\n",
        "!df -h"
      ],
      "execution_count": 3,
      "outputs": [
        {
          "output_type": "stream",
          "text": [
            "Go to this URL in a browser: https://accounts.google.com/o/oauth2/auth?client_id=947318989803-6bn6qk8qdgf4n4g3pfee6491hc0brc4i.apps.googleusercontent.com&redirect_uri=urn%3Aietf%3Awg%3Aoauth%3A2.0%3Aoob&scope=email%20https%3A%2F%2Fwww.googleapis.com%2Fauth%2Fdocs.test%20https%3A%2F%2Fwww.googleapis.com%2Fauth%2Fdrive%20https%3A%2F%2Fwww.googleapis.com%2Fauth%2Fdrive.photos.readonly%20https%3A%2F%2Fwww.googleapis.com%2Fauth%2Fpeopleapi.readonly&response_type=code\n",
            "\n",
            "Enter your authorization code:\n",
            "··········\n",
            "Mounted at /content/gdrive\n",
            "Google Drive mount completed\n",
            "Filesystem      Size  Used Avail Use% Mounted on\n",
            "overlay         359G   23G  318G   7% /\n",
            "tmpfs           6.4G     0  6.4G   0% /dev\n",
            "tmpfs           6.4G     0  6.4G   0% /sys/fs/cgroup\n",
            "/dev/sda1       365G   28G  338G   8% /opt/bin\n",
            "tmpfs           6.4G   12K  6.4G   1% /var/colab\n",
            "shm             6.0G     0  6.0G   0% /dev/shm\n",
            "tmpfs           6.4G     0  6.4G   0% /sys/firmware\n",
            "drive            15G  167M   15G   2% /content/gdrive\n"
          ],
          "name": "stdout"
        }
      ]
    },
    {
      "metadata": {
        "id": "74-1H-SB6U_p",
        "colab_type": "text"
      },
      "cell_type": "markdown",
      "source": [
        "## Dataset\n",
        "\n",
        "En este ejemplo de entrenamiento, vamos a utilizar el dataset Scenes15"
      ]
    },
    {
      "metadata": {
        "id": "fq6c0XQy6d2X",
        "colab_type": "code",
        "colab": {
          "base_uri": "https://localhost:8080/",
          "height": 272
        },
        "outputId": "378e788e-a98d-4fc6-8f6e-ac8eec1484ea"
      },
      "cell_type": "code",
      "source": [
        "import subprocess\n",
        "import os\n",
        "\n",
        "out=subprocess.call([\"mkdir\",pracdir])#create directory\n",
        "out=subprocess.call([\"mkdir\",datadir])#create directory\n",
        "out=subprocess.call([\"mkdir\",resudir])#create directory\n",
        "\n",
        "os.chdir(datadir) #move to directory\n",
        "\n",
        "#download and unzip the file\n",
        "!wget http://www-vpu.eps.uam.es/~jcs/pub/Scene15.zip -O Scene15.zip\n",
        "!unzip -o -q Scene15.zip -d .\n",
        "\n",
        "print 'Dataset downloaded and unzipped'\n",
        "\n",
        "!ls -lah #show directory & file usage"
      ],
      "execution_count": 4,
      "outputs": [
        {
          "output_type": "stream",
          "text": [
            "--2019-02-09 11:16:59--  http://www-vpu.eps.uam.es/~jcs/pub/Scene15.zip\n",
            "Resolving www-vpu.eps.uam.es (www-vpu.eps.uam.es)... 150.244.57.170\n",
            "Connecting to www-vpu.eps.uam.es (www-vpu.eps.uam.es)|150.244.57.170|:80... connected.\n",
            "HTTP request sent, awaiting response... 200 OK\n",
            "Length: 86395596 (82M) [application/zip]\n",
            "Saving to: ‘Scene15.zip’\n",
            "\n",
            "Scene15.zip         100%[===================>]  82.39M  5.68MB/s    in 29s     \n",
            "\n",
            "2019-02-09 11:17:29 (2.80 MB/s) - ‘Scene15.zip’ saved [86395596/86395596]\n",
            "\n",
            "Dataset downloaded and unzipped\n",
            "total 83M\n",
            "drwx------ 4 root root 4.0K Feb  9 10:36 Scene15\n",
            "-rw------- 1 root root  83M Feb 28  2018 Scene15.zip\n"
          ],
          "name": "stdout"
        }
      ]
    },
    {
      "metadata": {
        "id": "Acnx8c5Q3n4K",
        "colab_type": "text"
      },
      "cell_type": "markdown",
      "source": [
        "Parametros para la generación del dataset"
      ]
    },
    {
      "metadata": {
        "id": "R6Q0dZw6Hq2E",
        "colab_type": "code",
        "colab": {}
      },
      "cell_type": "code",
      "source": [
        "import os\n",
        "import torch\n",
        "from torchvision import datasets\n",
        "import torchvision.transforms as transforms\n",
        "\n",
        "#path to the downloaded dataset\n",
        "dataset_dir = datadir + '/Scene15/'\n",
        "\n",
        "#number of samples/images per group\n",
        "batch_size=4\n",
        "\n",
        "#data transformation\n",
        "Resizing_factor = (128,128)\n",
        "transform = transforms.Compose([ transforms.Resize(size=Resizing_factor),                                 \n",
        "                                transforms.ToTensor()                                \n",
        "                                ])\n",
        "#list & load images\n",
        "image_datasets = {x: datasets.ImageFolder(os.path.join(dataset_dir, x), transform) for x in ['train', 'val']}\n",
        "class_names = image_datasets['train'].classes\n",
        "\n",
        "#load & convert images to tensors in Python\n",
        "dataloaders = {x: torch.utils.data.DataLoader(image_datasets[x], batch_size, shuffle=True, num_workers=2) for x in ['train', 'val']}"
      ],
      "execution_count": 0,
      "outputs": []
    },
    {
      "metadata": {
        "id": "7QK8uZt7CCRb",
        "colab_type": "text"
      },
      "cell_type": "markdown",
      "source": [
        "## Creación de la red\n",
        "\n",
        "A continuación, creamos una red tipo Lenet (modificada para soportar imágenes distintas a 32x32)"
      ]
    },
    {
      "metadata": {
        "id": "HWEfU3PqCRCV",
        "colab_type": "code",
        "colab": {
          "base_uri": "https://localhost:8080/",
          "height": 170
        },
        "outputId": "2f555a92-ab94-4612-e78b-4f6715040917"
      },
      "cell_type": "code",
      "source": [
        "import os\n",
        "os.chdir(tmpdir) #move to directory\n",
        "\n",
        "#runs script and keeps variables\n",
        "%run -i ./utils/mylenet.py\n",
        "\n",
        "# get some random training images to initialize network\n",
        "images, labels = iter(dataloaders['train']).next()\n",
        "\n",
        "net = Net(input_shape=images[0].size(), num_outputs=len(class_names))\n",
        "print(net)\n",
        "\n",
        "if use_cuda and torch.cuda.is_available():\n",
        "  net.cuda()\n",
        "  \n",
        "print \"Network ready to train!\""
      ],
      "execution_count": 6,
      "outputs": [
        {
          "output_type": "stream",
          "text": [
            "Net(\n",
            "  (conv1): Conv2d(3, 6, kernel_size=(5, 5), stride=(1, 1))\n",
            "  (pool): MaxPool2d(kernel_size=(2, 2), stride=(2, 2), dilation=(1, 1), ceil_mode=False)\n",
            "  (conv2): Conv2d(6, 16, kernel_size=(5, 5), stride=(1, 1))\n",
            "  (fc1): Linear(in_features=13456, out_features=120, bias=True)\n",
            "  (fc2): Linear(in_features=120, out_features=84, bias=True)\n",
            "  (fc3): Linear(in_features=84, out_features=15, bias=True)\n",
            ")\n",
            "Network ready to train!\n"
          ],
          "name": "stdout"
        }
      ]
    },
    {
      "metadata": {
        "id": "flm5_wFbKdpo",
        "colab_type": "code",
        "colab": {
          "base_uri": "https://localhost:8080/",
          "height": 938
        },
        "outputId": "12efa3e2-e020-4729-c95a-4ae2bf88ac95"
      },
      "cell_type": "code",
      "source": [
        "!cat ./utils/mylenet.py"
      ],
      "execution_count": 7,
      "outputs": [
        {
          "output_type": "stream",
          "text": [
            "#Lenet network\r\n",
            "#https://github.com/kuangliu/pytorch-cifar/tree/master/models\r\n",
            "\r\n",
            "#Extensions\r\n",
            "#https://discuss.pytorch.org/t/inferring-shape-via-flatten-operator/138/3\r\n",
            "#https://stackoverflow.com/questions/42479902/how-view-method-works-for-tensor-in-torch\r\n",
            "\r\n",
            "import torch.nn as nn\r\n",
            "import torch.nn.functional as F\r\n",
            "from torch.autograd import Variable\r\n",
            "\r\n",
            "class Net(nn.Module):\r\n",
            "  \r\n",
            "    #define the structure of the network\r\n",
            "    def __init__(self, input_shape=(3, 224, 224),num_outputs=15):\r\n",
            "        super(Net, self).__init__()\r\n",
            "        # Convolutional layer - 3 input image channel, 6 output channels, 5x5 square convolution \r\n",
            "        self.conv1 = nn.Conv2d(in_channels=input_shape[0], out_channels=6, kernel_size=5, stride=1, padding=0)\r\n",
            "        \r\n",
            "        # Max pooling over a (2, 2) window\r\n",
            "        self.pool = nn.MaxPool2d(kernel_size=2, stride=2, padding=0)\r\n",
            "        \r\n",
            "        # Convolutional layer - 6 input data channel, 16 output channels, 5x5 square convolution \r\n",
            "        self.conv2 = nn.Conv2d(in_channels=6, out_channels=16, kernel_size=5)       \r\n",
            "\r\n",
            "        n_size = self._get_conv_output(input_shape)\r\n",
            "        \r\n",
            "        # Fully connected neural network layers       \r\n",
            "        self.fc1 = nn.Linear(in_features=n_size, out_features=120)\r\n",
            "        self.fc2 = nn.Linear(in_features=120,    out_features=84)\r\n",
            "        self.fc3 = nn.Linear(in_features=84,     out_features=num_outputs)\r\n",
            "\r\n",
            "    #define how data flows through the network\r\n",
            "    def forward(self, x):\r\n",
            "        x = self.pool(F.relu(self.conv1(x)))\r\n",
            "        x = self.pool(F.relu(self.conv2(x)))\r\n",
            "        \r\n",
            "        #The view function is meant to reshape the tensor (flatten operator).\r\n",
            "        x = x.view( x.size(0),-1)\r\n",
            "                \r\n",
            "        x = F.relu(self.fc1(x))\r\n",
            "        x = F.relu(self.fc2(x))\r\n",
            "        x = self.fc3(x)\r\n",
            "        return x \r\n",
            "        \r\n",
            "    def _get_conv_output(self, shape):\r\n",
            "        bs = 1\r\n",
            "        x = Variable(torch.rand(bs, *shape))\r\n",
            "        x = self.pool(F.relu(self.conv1(x)))\r\n",
            "        output_feat = self.pool(F.relu(self.conv2(x)))\r\n",
            "               \r\n",
            "        n_size = output_feat.data.view(bs, -1).size(1)\r\n",
            "        return n_size"
          ],
          "name": "stdout"
        }
      ]
    },
    {
      "metadata": {
        "id": "umau1YMBKeN_",
        "colab_type": "text"
      },
      "cell_type": "markdown",
      "source": [
        "## Definir una función de coste/optimizador\n",
        "\n",
        "En este ejemplo utilizamos Cross-Entropy para medir la precisión de nuestro clasificador y SGD como optimizador."
      ]
    },
    {
      "metadata": {
        "id": "kQDA6EkKKem_",
        "colab_type": "code",
        "colab": {}
      },
      "cell_type": "code",
      "source": [
        "import torch.optim as optim\n",
        "import torch.nn as nn\n",
        "\n",
        "criterion = nn.CrossEntropyLoss()\n",
        "optimizer = optim.SGD(net.parameters(), lr=0.001, momentum=0.9)"
      ],
      "execution_count": 0,
      "outputs": []
    },
    {
      "metadata": {
        "id": "GaYSTVfOK1lD",
        "colab_type": "text"
      },
      "cell_type": "markdown",
      "source": [
        "## Entrenar la red\n",
        "\n",
        "Ejecución iterativa sobre los datos de entrenamiento/test y actualización de los pesos"
      ]
    },
    {
      "metadata": {
        "id": "5jcjp9XGLAeR",
        "colab_type": "code",
        "colab": {
          "base_uri": "https://localhost:8080/",
          "height": 2128
        },
        "outputId": "56a90850-e970-4d60-fd45-ea8fa416e07c"
      },
      "cell_type": "code",
      "source": [
        "import time\n",
        "import numpy as np\n",
        "from torch.autograd import Variable\n",
        "\n",
        "display_batch_iter = 100\n",
        "number_epochs = 30\n",
        "\n",
        "epoch_loss =  np.zeros((number_epochs,1))\n",
        "epoch_train_acc =  np.zeros((number_epochs,1))\n",
        "epoch_test_acc =  np.zeros((number_epochs,1))  \n",
        "train_time =  0.0\n",
        "\n",
        "Ntrain = len(image_datasets['train']) #number of samples for training\n",
        "Ntest = len(image_datasets['val']) #number of samples for test/validation\n",
        "    \n",
        "start = time.time()\n",
        "\n",
        "if use_cuda and torch.cuda.is_available():\n",
        "  print('Training in GPUmode #epochs=%d #batches=%d batchsize=%d' % (number_epochs, len(dataloaders['train']),batch_size))\n",
        "else:\n",
        "  print('Training in CPUmode #epochs=%d #batches=%d batchsize=%d' % (number_epochs, len(dataloaders['train']),batch_size))\n",
        "\n",
        "print('**** Printing loss every %5d batches ****' % (display_batch_iter))  \n",
        "for epoch in range(number_epochs):  # loop over the dataset multiple times\n",
        "    running_loss = 0.0\n",
        "    for i, data in enumerate(dataloaders['train'], 0):\n",
        "        # get the inputs\n",
        "        inputs, labels = data\n",
        "\n",
        "        # wrap them in Variable\n",
        "        if use_cuda and torch.cuda.is_available():\n",
        "          inputs, labels = Variable(inputs.cuda()), Variable(labels.cuda())\n",
        "        else:\n",
        "          inputs, labels = Variable(inputs), Variable(labels)\n",
        "\n",
        "        # zero the parameter gradients\n",
        "        optimizer.zero_grad()\n",
        "\n",
        "        # forward + backward + optimize\n",
        "        outputs = net(inputs)\n",
        "        loss = criterion(outputs, labels)\n",
        "        loss.backward()\n",
        "        optimizer.step()\n",
        "\n",
        "        # print statistics\n",
        "        running_loss += loss.data[0]\n",
        "        epoch_loss[epoch] += loss.data[0]\n",
        "        if i % display_batch_iter == display_batch_iter-1:    # print every XXX mini-batches\n",
        "            print('[%d, %5d] loss: %.3f' % (epoch + 1, i + 1, running_loss / display_batch_iter))\n",
        "            running_loss = 0.0\n",
        "\n",
        "    # compute accuracy on training set\n",
        "    correct1 = 0.0\n",
        "    for data in dataloaders['train']:    \n",
        "      images, labels = data\n",
        "      if use_cuda and torch.cuda.is_available():\n",
        "        outputs = net(Variable(images.cuda()))\n",
        "      else:\n",
        "        outputs = net(Variable(images))\n",
        "      _, predicted = torch.max(outputs.data, 1)\n",
        "      if use_cuda and torch.cuda.is_available():\n",
        "        correct1 += (predicted == labels.cuda()).sum()\n",
        "      else:\n",
        "        correct1 += (predicted == labels).sum()      \n",
        "      \n",
        "    # compute accuracy on test set\n",
        "    correct2 = 0.0\n",
        "    for data in dataloaders['val']:    \n",
        "      images, labels = data\n",
        "      if use_cuda and torch.cuda.is_available():\n",
        "        outputs = net(Variable(images.cuda()))\n",
        "      else:\n",
        "        outputs = net(Variable(images))\n",
        "      _, predicted = torch.max(outputs.data, 1)\n",
        "      if use_cuda and torch.cuda.is_available():\n",
        "        correct2 += (predicted == labels.cuda()).sum()\n",
        "      else:\n",
        "        correct2 += (predicted == labels).sum()\n",
        "    \n",
        "    epoch_loss[epoch] = epoch_loss[epoch] / len(dataloaders['train']) # average loss for each epoch\n",
        "    epoch_train_acc[epoch] =  100 * correct1 / Ntrain   # average train accuracy for each epoch\n",
        "    epoch_test_acc[epoch]  =  100 * correct2 / Ntest    # average test accuracy for each epoch\n",
        "    print('Epoch %02d, loss: %1.3f, accuracy train: %2.3f %% (correct %04d total %04d ) accuracy test: %2.3f %% (correct %04d total %04d )' % (epoch + 1, epoch_loss[epoch], epoch_train_acc[epoch], correct1, Ntrain, epoch_test_acc[epoch], correct2, Ntest ))\n",
        "    \n",
        "train_time = time.time() - start\n",
        "print('Finished Training (' + str(train_time) + ' secs)')"
      ],
      "execution_count": 9,
      "outputs": [
        {
          "output_type": "stream",
          "text": [
            "Training in GPUmode #epochs=30 #batches=375 batchsize=4\n",
            "**** Printing loss every   100 batches ****\n",
            "[1,   100] loss: 2.708\n",
            "[1,   200] loss: 2.713\n",
            "[1,   300] loss: 2.711\n",
            "Epoch 01, loss: 2.711, accuracy train: 6.667 % (correct 0100 total 1500 ) accuracy test: 7.203 % (correct 0215 total 2985 )\n",
            "[2,   100] loss: 2.709\n",
            "[2,   200] loss: 2.709\n",
            "[2,   300] loss: 2.708\n",
            "Epoch 02, loss: 2.709, accuracy train: 7.533 % (correct 0113 total 1500 ) accuracy test: 8.543 % (correct 0255 total 2985 )\n",
            "[3,   100] loss: 2.706\n",
            "[3,   200] loss: 2.707\n",
            "[3,   300] loss: 2.703\n",
            "Epoch 03, loss: 2.705, accuracy train: 8.867 % (correct 0133 total 1500 ) accuracy test: 9.146 % (correct 0273 total 2985 )\n",
            "[4,   100] loss: 2.692\n",
            "[4,   200] loss: 2.680\n",
            "[4,   300] loss: 2.645\n",
            "Epoch 04, loss: 2.670, accuracy train: 12.067 % (correct 0181 total 1500 ) accuracy test: 8.643 % (correct 0258 total 2985 )\n",
            "[5,   100] loss: 2.629\n",
            "[5,   200] loss: 2.593\n",
            "[5,   300] loss: 2.588\n",
            "Epoch 05, loss: 2.579, accuracy train: 16.867 % (correct 0253 total 1500 ) accuracy test: 12.596 % (correct 0376 total 2985 )\n",
            "[6,   100] loss: 2.517\n",
            "[6,   200] loss: 2.470\n",
            "[6,   300] loss: 2.545\n",
            "Epoch 06, loss: 2.504, accuracy train: 23.400 % (correct 0351 total 1500 ) accuracy test: 16.918 % (correct 0505 total 2985 )\n",
            "[7,   100] loss: 2.439\n",
            "[7,   200] loss: 2.460\n",
            "[7,   300] loss: 2.398\n",
            "Epoch 07, loss: 2.431, accuracy train: 23.467 % (correct 0352 total 1500 ) accuracy test: 16.147 % (correct 0482 total 2985 )\n",
            "[8,   100] loss: 2.365\n",
            "[8,   200] loss: 2.301\n",
            "[8,   300] loss: 2.312\n",
            "Epoch 08, loss: 2.352, accuracy train: 28.067 % (correct 0421 total 1500 ) accuracy test: 20.838 % (correct 0622 total 2985 )\n",
            "[9,   100] loss: 2.320\n",
            "[9,   200] loss: 2.208\n",
            "[9,   300] loss: 2.325\n",
            "Epoch 09, loss: 2.293, accuracy train: 29.000 % (correct 0435 total 1500 ) accuracy test: 20.838 % (correct 0622 total 2985 )\n",
            "[10,   100] loss: 2.290\n",
            "[10,   200] loss: 2.193\n",
            "[10,   300] loss: 2.236\n",
            "Epoch 10, loss: 2.232, accuracy train: 31.600 % (correct 0474 total 1500 ) accuracy test: 22.312 % (correct 0666 total 2985 )\n",
            "[11,   100] loss: 2.179\n",
            "[11,   200] loss: 2.169\n",
            "[11,   300] loss: 2.168\n",
            "Epoch 11, loss: 2.156, accuracy train: 34.400 % (correct 0516 total 1500 ) accuracy test: 23.719 % (correct 0708 total 2985 )\n",
            "[12,   100] loss: 2.008\n",
            "[12,   200] loss: 1.950\n",
            "[12,   300] loss: 2.019\n",
            "Epoch 12, loss: 1.987, accuracy train: 42.933 % (correct 0644 total 1500 ) accuracy test: 27.169 % (correct 0811 total 2985 )\n",
            "[13,   100] loss: 1.749\n",
            "[13,   200] loss: 1.903\n",
            "[13,   300] loss: 1.797\n",
            "Epoch 13, loss: 1.799, accuracy train: 51.333 % (correct 0770 total 1500 ) accuracy test: 27.772 % (correct 0829 total 2985 )\n",
            "[14,   100] loss: 1.505\n",
            "[14,   200] loss: 1.420\n",
            "[14,   300] loss: 1.445\n",
            "Epoch 14, loss: 1.490, accuracy train: 68.467 % (correct 1027 total 1500 ) accuracy test: 32.898 % (correct 0982 total 2985 )\n",
            "[15,   100] loss: 1.042\n",
            "[15,   200] loss: 1.219\n",
            "[15,   300] loss: 1.228\n",
            "Epoch 15, loss: 1.193, accuracy train: 73.933 % (correct 1109 total 1500 ) accuracy test: 32.295 % (correct 0964 total 2985 )\n",
            "[16,   100] loss: 0.794\n",
            "[16,   200] loss: 0.886\n",
            "[16,   300] loss: 0.963\n",
            "Epoch 16, loss: 0.901, accuracy train: 86.867 % (correct 1303 total 1500 ) accuracy test: 33.702 % (correct 1006 total 2985 )\n",
            "[17,   100] loss: 0.500\n",
            "[17,   200] loss: 0.490\n",
            "[17,   300] loss: 0.893\n",
            "Epoch 17, loss: 0.615, accuracy train: 88.867 % (correct 1333 total 1500 ) accuracy test: 30.854 % (correct 0921 total 2985 )\n",
            "[18,   100] loss: 0.695\n",
            "[18,   200] loss: 0.737\n",
            "[18,   300] loss: 0.665\n",
            "Epoch 18, loss: 0.724, accuracy train: 91.667 % (correct 1375 total 1500 ) accuracy test: 31.189 % (correct 0931 total 2985 )\n",
            "[19,   100] loss: 0.257\n",
            "[19,   200] loss: 0.216\n",
            "[19,   300] loss: 0.303\n",
            "Epoch 19, loss: 0.269, accuracy train: 92.467 % (correct 1387 total 1500 ) accuracy test: 30.452 % (correct 0909 total 2985 )\n",
            "[20,   100] loss: 0.178\n",
            "[20,   200] loss: 0.160\n",
            "[20,   300] loss: 0.190\n",
            "Epoch 20, loss: 0.188, accuracy train: 97.000 % (correct 1455 total 1500 ) accuracy test: 34.070 % (correct 1017 total 2985 )\n",
            "[21,   100] loss: 0.113\n",
            "[21,   200] loss: 0.061\n",
            "[21,   300] loss: 0.088\n",
            "Epoch 21, loss: 0.105, accuracy train: 97.933 % (correct 1469 total 1500 ) accuracy test: 31.625 % (correct 0944 total 2985 )\n",
            "[22,   100] loss: 0.115\n",
            "[22,   200] loss: 0.036\n",
            "[22,   300] loss: 0.087\n",
            "Epoch 22, loss: 0.072, accuracy train: 99.200 % (correct 1488 total 1500 ) accuracy test: 34.137 % (correct 1019 total 2985 )\n",
            "[23,   100] loss: 0.023\n",
            "[23,   200] loss: 0.085\n",
            "[23,   300] loss: 0.105\n",
            "Epoch 23, loss: 0.112, accuracy train: 97.467 % (correct 1462 total 1500 ) accuracy test: 30.117 % (correct 0899 total 2985 )\n",
            "[24,   100] loss: 0.063\n",
            "[24,   200] loss: 0.122\n",
            "[24,   300] loss: 0.122\n",
            "Epoch 24, loss: 0.103, accuracy train: 99.333 % (correct 1490 total 1500 ) accuracy test: 32.328 % (correct 0965 total 2985 )\n",
            "[25,   100] loss: 0.025\n",
            "[25,   200] loss: 0.026\n",
            "[25,   300] loss: 0.019\n",
            "Epoch 25, loss: 0.059, accuracy train: 97.600 % (correct 1464 total 1500 ) accuracy test: 30.955 % (correct 0924 total 2985 )\n",
            "[26,   100] loss: 0.093\n",
            "[26,   200] loss: 0.033\n",
            "[26,   300] loss: 0.033\n",
            "Epoch 26, loss: 0.051, accuracy train: 99.267 % (correct 1489 total 1500 ) accuracy test: 32.931 % (correct 0983 total 2985 )\n",
            "[27,   100] loss: 0.010\n",
            "[27,   200] loss: 0.020\n",
            "[27,   300] loss: 0.017\n",
            "Epoch 27, loss: 0.015, accuracy train: 100.000 % (correct 1500 total 1500 ) accuracy test: 31.993 % (correct 0955 total 2985 )\n",
            "[28,   100] loss: 0.009\n",
            "[28,   200] loss: 0.003\n",
            "[28,   300] loss: 0.002\n",
            "Epoch 28, loss: 0.008, accuracy train: 99.867 % (correct 1498 total 1500 ) accuracy test: 32.663 % (correct 0975 total 2985 )\n",
            "[29,   100] loss: 0.004\n",
            "[29,   200] loss: 0.003\n",
            "[29,   300] loss: 0.003\n",
            "Epoch 29, loss: 0.003, accuracy train: 100.000 % (correct 1500 total 1500 ) accuracy test: 33.065 % (correct 0987 total 2985 )\n",
            "[30,   100] loss: 0.002\n",
            "[30,   200] loss: 0.001\n",
            "[30,   300] loss: 0.001\n",
            "Epoch 30, loss: 0.001, accuracy train: 100.000 % (correct 1500 total 1500 ) accuracy test: 33.300 % (correct 0994 total 2985 )\n",
            "Finished Training (580.271302938 secs)\n"
          ],
          "name": "stdout"
        }
      ]
    },
    {
      "metadata": {
        "id": "84AJx1XzjfRm",
        "colab_type": "text"
      },
      "cell_type": "markdown",
      "source": [
        "Finalmente podemos guardar los datos tras el entrenamiento"
      ]
    },
    {
      "metadata": {
        "id": "GRv6KngBjkha",
        "colab_type": "code",
        "colab": {
          "base_uri": "https://localhost:8080/",
          "height": 34
        },
        "outputId": "1031d0b5-8283-487a-ea4e-69e0aa29c4d5"
      },
      "cell_type": "code",
      "source": [
        "#save results in a single file\n",
        "import pickle\n",
        "import os\n",
        "import subprocess\n",
        "\n",
        "out=subprocess.call([\"mkdir\",resudir])#create directory\n",
        "os.chdir(resudir) #move to drive directory\n",
        "\n",
        "# Saving the objects:\n",
        "f = open('training_baseline_cuda_results_epochs_'+ str(number_epochs) +'.pkl', 'wb')\n",
        "pickle.dump([epoch_train_acc, epoch_test_acc, epoch_loss, train_time, number_epochs, batch_size], f)\n",
        "f.close()\n",
        "print('Saved data')"
      ],
      "execution_count": 10,
      "outputs": [
        {
          "output_type": "stream",
          "text": [
            "Saved data\n"
          ],
          "name": "stdout"
        }
      ]
    },
    {
      "metadata": {
        "id": "rPObxyZU89Jl",
        "colab_type": "text"
      },
      "cell_type": "markdown",
      "source": [
        "Posteriormente, si quisieramos recuperar las variables/objetos para analizar, utilizaremos el siguiente código"
      ]
    },
    {
      "metadata": {
        "id": "NqdVEHkX880s",
        "colab_type": "code",
        "colab": {}
      },
      "cell_type": "code",
      "source": [
        "#get results from a single file\n",
        "import pickle\n",
        "import os\n",
        "os.chdir(resudir) #move to drive directory\n",
        "\n",
        "# Load the objects\n",
        "f = open('training_baseline_cuda_results_epochs_30.pkl', 'rb')\n",
        "epoch_train_acc, epoch_test_acc, epoch_loss, train_time, number_epochs, batch_size = pickle.load(f)"
      ],
      "execution_count": 0,
      "outputs": []
    },
    {
      "metadata": {
        "id": "WIpYsUwtmk9v",
        "colab_type": "text"
      },
      "cell_type": "markdown",
      "source": [
        "## Resultados tras entrenamiento \n",
        "\n"
      ]
    },
    {
      "metadata": {
        "id": "E2kqMm6FmuMT",
        "colab_type": "text"
      },
      "cell_type": "markdown",
      "source": [
        "### Análisis de precisión y función de pérdidas\n",
        "A continuación pintamos las variables que hemos acumulado durante el entrenamiento."
      ]
    },
    {
      "metadata": {
        "id": "6vlAL68xjl1-",
        "colab_type": "code",
        "colab": {
          "base_uri": "https://localhost:8080/",
          "height": 376
        },
        "outputId": "0cc3f621-7f71-4e24-b6b3-fc0e98e0e7cf"
      },
      "cell_type": "code",
      "source": [
        "import matplotlib.pyplot as plt\n",
        "\n",
        "t = range(number_epochs)\n",
        "lineObjects =plt.plot(t,epoch_train_acc,'r--',t,epoch_test_acc,'bs')\n",
        "plt.legend(lineObjects, ('train', 'test'))\n",
        "plt.ylabel('Accuracy (%)')\n",
        "plt.xlabel('Epoch')\n",
        "plt.title('Accuracy results')\n",
        "\n",
        "import os\n",
        "os.chdir(resudir) #move to drive directory for saving data\n",
        "\n",
        "plt.savefig('training_accuracy_baseline__epochs'+ str(number_epochs) + '_GPU.png',bbox_inches='tight')#call this function before \"plt.show()\"\n",
        "plt.show()"
      ],
      "execution_count": 12,
      "outputs": [
        {
          "output_type": "display_data",
          "data": {
            "image/png": "[encoded data removed]",
            "text/plain": [
              "<Figure size 576x396 with 1 Axes>"
            ]
          },
          "metadata": {
            "tags": []
          }
        }
      ]
    },
    {
      "metadata": {
        "id": "AlaiffYgmOok",
        "colab_type": "code",
        "colab": {
          "base_uri": "https://localhost:8080/",
          "height": 376
        },
        "outputId": "f1041465-1c20-434d-e07b-24efc70d5ba7"
      },
      "cell_type": "code",
      "source": [
        "import matplotlib.pyplot as plt\n",
        "\n",
        "import os\n",
        "os.chdir(resudir) #move to drive directory for saving data\n",
        "\n",
        "t = range(number_epochs)\n",
        "plt.plot(t,epoch_loss,'r--')\n",
        "plt.ylabel('Loss')\n",
        "plt.xlabel('Epoch')\n",
        "plt.title('Epoch loss for training') \n",
        "plt.show()"
      ],
      "execution_count": 13,
      "outputs": [
        {
          "output_type": "display_data",
          "data": {
            "image/png": "[encoded data removed]",
            "text/plain": [
              "<Figure size 576x396 with 1 Axes>"
            ]
          },
          "metadata": {
            "tags": []
          }
        }
      ]
    },
    {
      "metadata": {
        "id": "evgVriqsXN7Q",
        "colab_type": "text"
      },
      "cell_type": "markdown",
      "source": [
        "### Ejemplos de resultado\n",
        "\n",
        "Es recomendable repasar los resultados obtenidos tanto gráficamente como estadísticamente.\n",
        "\n",
        "Primero, seleccionamos algunos datos y visualmente verificamos errores:\n"
      ]
    },
    {
      "metadata": {
        "id": "79GFRR-XQjdc",
        "colab_type": "code",
        "colab": {
          "base_uri": "https://localhost:8080/",
          "height": 198
        },
        "outputId": "5cfde263-e162-4577-8f7e-23f6cdd5bc0f"
      },
      "cell_type": "code",
      "source": [
        "import torchvision\n",
        "\n",
        "# function to show an image\n",
        "def imshow(img):\n",
        "    #img = img / 2 + 0.5  # unnormalize if normalization is done in transform\n",
        "    npimg = img.numpy()\n",
        "    plt.imshow(np.transpose(npimg, (1, 2, 0)))\n",
        "    \n",
        "#get sample data\n",
        "images, labels = iter(dataloaders['val']).next()\n",
        "   \n",
        "# print images\n",
        "imshow(torchvision.utils.make_grid(images))\n",
        "print('GroundTruth: ', ' '.join('%5s' % class_names[labels[j]] for j in range(batch_size)))\n",
        "\n",
        "outputs = net(Variable(images.cuda()))\n",
        "_, predicted = torch.max(outputs.data, 1)\n",
        "\n",
        "print('Predicted: ', ' '.join('%5s' % class_names[predicted[j]] for j in range(batch_size)))"
      ],
      "execution_count": 14,
      "outputs": [
        {
          "output_type": "stream",
          "text": [
            "('GroundTruth: ', 'Coast OpenCountry OpenCountry InsideCity')\n",
            "('Predicted: ', 'Office Highway Coast LivingRoom')\n"
          ],
          "name": "stdout"
        },
        {
          "output_type": "display_data",
          "data": {
            "image/png": "[encoded data removed]",
            "text/plain": [
              "<Figure size 576x396 with 1 Axes>"
            ]
          },
          "metadata": {
            "tags": []
          }
        }
      ]
    },
    {
      "metadata": {
        "id": "h7fYSZtMXdY-",
        "colab_type": "text"
      },
      "cell_type": "markdown",
      "source": [
        "Posteriormente estudiamos los resultados para cada clase"
      ]
    },
    {
      "metadata": {
        "id": "Z6Qgu3X0QtIL",
        "colab_type": "code",
        "colab": {
          "base_uri": "https://localhost:8080/",
          "height": 289
        },
        "outputId": "30119a50-1f34-44d5-cd8d-2b83d9d5e75d"
      },
      "cell_type": "code",
      "source": [
        "class_correct = list(0. for i in range(len(class_names)))\n",
        "class_total = list(0. for i in range(len(class_names)))\n",
        "for data in dataloaders['val']:\n",
        "    images, labels = data\n",
        "    outputs = net(Variable(images.cuda()))\n",
        "    _, predicted = torch.max(outputs.data, 1)\n",
        "    c = (predicted == labels.cuda()).squeeze()\n",
        "    for i in range(len(labels)):\n",
        "        label = labels[i]\n",
        "        class_correct[label] += c[i]\n",
        "        class_total[label] += 1\n",
        "\n",
        "class_totalT = 0\n",
        "for i in range(len(class_names)):\n",
        "    print('Accuracy of %5s : %2d %%' % (class_names[i], 100 * class_correct[i] / class_total[i]))\n",
        "    class_totalT += class_total[i]\n",
        "print('Total test data = %d images' % (class_totalT))"
      ],
      "execution_count": 15,
      "outputs": [
        {
          "output_type": "stream",
          "text": [
            "Accuracy of Bedroom : 22 %\n",
            "Accuracy of Coast : 48 %\n",
            "Accuracy of Forest : 31 %\n",
            "Accuracy of Highway : 55 %\n",
            "Accuracy of Industrial : 14 %\n",
            "Accuracy of InsideCity : 16 %\n",
            "Accuracy of Kitchen : 11 %\n",
            "Accuracy of LivingRoom : 20 %\n",
            "Accuracy of Mountain : 23 %\n",
            "Accuracy of Office : 28 %\n",
            "Accuracy of OpenCountry : 41 %\n",
            "Accuracy of Store : 31 %\n",
            "Accuracy of Street : 48 %\n",
            "Accuracy of Suburb : 52 %\n",
            "Accuracy of TallBuilding : 40 %\n",
            "Total test data = 2985 images\n"
          ],
          "name": "stdout"
        }
      ]
    }
  ]
}