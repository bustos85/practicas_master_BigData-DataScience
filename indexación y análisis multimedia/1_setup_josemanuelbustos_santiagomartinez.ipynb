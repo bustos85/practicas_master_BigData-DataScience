{
  "nbformat": 4,
  "nbformat_minor": 0,
  "metadata": {
    "colab": {
      "name": "1.setup.ipynb",
      "version": "0.3.2",
      "provenance": [],
      "collapsed_sections": [
        "9zoOE4V7l5tS",
        "klP4mwmXqe4S",
        "3Vc3u6EoOlWR",
        "9Qh1axCOPpyp",
        "xmg8-D_3SUCh",
        "7ZorEikzbvvB",
        "wVQg60QVXE8m",
        "55oysizVn1Rp",
        "U0ZHNFrBo2sa"
      ],
      "toc_visible": true
    },
    "kernelspec": {
      "name": "python2",
      "display_name": "Python 2"
    },
    "accelerator": "GPU"
  },
  "cells": [
    {
      "metadata": {
        "id": "0jJwbyFc60Rx",
        "colab_type": "text"
      },
      "cell_type": "markdown",
      "source": [
        "#Máster en Big Data y Data Science: Ciencia e Ingeniería de Datos\n",
        "### ASIGNATURA: Indexación, búsqueda y análisis en repositorios multimedia\n",
        "### PARTE: Multimedia (imagen, video)\n",
        "### Práctica 1: Introducción al diseño de redes neuronales convolucionales con Pytorch mediante Google Colaboratory\n",
        "\n",
        "---\n",
        "\n",
        "Autor: Juan C. SanMiguel (juancarlos.sanmiguel@uam.es), Universidad Autónoma de Madrid\n"
      ]
    },
    {
      "metadata": {
        "id": "MbrPXkSGlcmB",
        "colab_type": "text"
      },
      "cell_type": "markdown",
      "source": [
        "# 1. Setup\n",
        "En este script interativo de python aprendera como utilizar la herramienta Google Colaboratory https://colab.research.google.com \n",
        "\n",
        "Colaboratory permite utilizar gratuitamente una máquina virtual con Ubuntu que proporciona un entorno de Jupyter para ejecutar interactivamente instrucciones en una consola de Python. \n",
        "\n",
        "Información adicional (política de uso, restricciones,...) disponible en https://research.google.com/colaboratory/faq.html"
      ]
    },
    {
      "metadata": {
        "id": "9zoOE4V7l5tS",
        "colab_type": "text"
      },
      "cell_type": "markdown",
      "source": [
        "## Ejecutar instrucciones de sistema\n",
        "\n",
        "Utilize el símbolo '!' delante de cada instrucción de sistema que desee ejecutar. Como por ejemplo la instruccion 'ls' muestra el contenido del directorio actual\n",
        "\n",
        "```\n",
        "$ !ls\n",
        "```\n",
        "Por ejemplo, ejecute cualquiera de las siguientes instrucciones para analizar los detalles de la máquina virtual ejecutando este entorno de Jupyter"
      ]
    },
    {
      "metadata": {
        "id": "XqR8mC1UNLJq",
        "colab_type": "code",
        "colab": {
          "base_uri": "https://localhost:8080/",
          "height": 102
        },
        "outputId": "daeb338c-fe78-434c-ef6d-67cbb753edaa"
      },
      "cell_type": "code",
      "source": [
        "# Show linux release\n",
        "!lsb_release -a"
      ],
      "execution_count": 1,
      "outputs": [
        {
          "output_type": "stream",
          "text": [
            "No LSB modules are available.\n",
            "Distributor ID:\tUbuntu\n",
            "Description:\tUbuntu 18.04.1 LTS\n",
            "Release:\t18.04\n",
            "Codename:\tbionic\n"
          ],
          "name": "stdout"
        }
      ]
    },
    {
      "metadata": {
        "id": "y4YD9m1RNukQ",
        "colab_type": "code",
        "colab": {
          "base_uri": "https://localhost:8080/",
          "height": 955
        },
        "outputId": "ff3820af-92dd-441a-a534-104d417a4126"
      },
      "cell_type": "code",
      "source": [
        "# Show CPU info\n",
        "!cat /proc/cpuinfo"
      ],
      "execution_count": 2,
      "outputs": [
        {
          "output_type": "stream",
          "text": [
            "processor\t: 0\n",
            "vendor_id\t: GenuineIntel\n",
            "cpu family\t: 6\n",
            "model\t\t: 63\n",
            "model name\t: Intel(R) Xeon(R) CPU @ 2.30GHz\n",
            "stepping\t: 0\n",
            "microcode\t: 0x1\n",
            "cpu MHz\t\t: 2300.000\n",
            "cache size\t: 46080 KB\n",
            "physical id\t: 0\n",
            "siblings\t: 2\n",
            "core id\t\t: 0\n",
            "cpu cores\t: 1\n",
            "apicid\t\t: 0\n",
            "initial apicid\t: 0\n",
            "fpu\t\t: yes\n",
            "fpu_exception\t: yes\n",
            "cpuid level\t: 13\n",
            "wp\t\t: yes\n",
            "flags\t\t: fpu vme de pse tsc msr pae mce cx8 apic sep mtrr pge mca cmov pat pse36 clflush mmx fxsr sse sse2 ss ht syscall nx pdpe1gb rdtscp lm constant_tsc rep_good nopl xtopology nonstop_tsc cpuid tsc_known_freq pni pclmulqdq ssse3 fma cx16 pcid sse4_1 sse4_2 x2apic movbe popcnt aes xsave avx f16c rdrand hypervisor lahf_lm abm invpcid_single pti ssbd ibrs ibpb stibp fsgsbase tsc_adjust bmi1 avx2 smep bmi2 erms invpcid xsaveopt arat arch_capabilities\n",
            "bugs\t\t: cpu_meltdown spectre_v1 spectre_v2 spec_store_bypass l1tf\n",
            "bogomips\t: 4600.00\n",
            "clflush size\t: 64\n",
            "cache_alignment\t: 64\n",
            "address sizes\t: 46 bits physical, 48 bits virtual\n",
            "power management:\n",
            "\n",
            "processor\t: 1\n",
            "vendor_id\t: GenuineIntel\n",
            "cpu family\t: 6\n",
            "model\t\t: 63\n",
            "model name\t: Intel(R) Xeon(R) CPU @ 2.30GHz\n",
            "stepping\t: 0\n",
            "microcode\t: 0x1\n",
            "cpu MHz\t\t: 2300.000\n",
            "cache size\t: 46080 KB\n",
            "physical id\t: 0\n",
            "siblings\t: 2\n",
            "core id\t\t: 0\n",
            "cpu cores\t: 1\n",
            "apicid\t\t: 1\n",
            "initial apicid\t: 1\n",
            "fpu\t\t: yes\n",
            "fpu_exception\t: yes\n",
            "cpuid level\t: 13\n",
            "wp\t\t: yes\n",
            "flags\t\t: fpu vme de pse tsc msr pae mce cx8 apic sep mtrr pge mca cmov pat pse36 clflush mmx fxsr sse sse2 ss ht syscall nx pdpe1gb rdtscp lm constant_tsc rep_good nopl xtopology nonstop_tsc cpuid tsc_known_freq pni pclmulqdq ssse3 fma cx16 pcid sse4_1 sse4_2 x2apic movbe popcnt aes xsave avx f16c rdrand hypervisor lahf_lm abm invpcid_single pti ssbd ibrs ibpb stibp fsgsbase tsc_adjust bmi1 avx2 smep bmi2 erms invpcid xsaveopt arat arch_capabilities\n",
            "bugs\t\t: cpu_meltdown spectre_v1 spectre_v2 spec_store_bypass l1tf\n",
            "bogomips\t: 4600.00\n",
            "clflush size\t: 64\n",
            "cache_alignment\t: 64\n",
            "address sizes\t: 46 bits physical, 48 bits virtual\n",
            "power management:\n",
            "\n"
          ],
          "name": "stdout"
        }
      ]
    },
    {
      "metadata": {
        "id": "7moKjV2GNvcA",
        "colab_type": "code",
        "colab": {
          "base_uri": "https://localhost:8080/",
          "height": 782
        },
        "outputId": "e54fcdb1-c803-463f-c1bc-fbf837bd53be"
      },
      "cell_type": "code",
      "source": [
        "# Show RAM info\n",
        "!cat /proc/meminfo"
      ],
      "execution_count": 3,
      "outputs": [
        {
          "output_type": "stream",
          "text": [
            "MemTotal:       13335276 kB\n",
            "MemFree:        11075956 kB\n",
            "MemAvailable:   12631972 kB\n",
            "Buffers:           66508 kB\n",
            "Cached:          1656596 kB\n",
            "SwapCached:            0 kB\n",
            "Active:           553132 kB\n",
            "Inactive:        1453488 kB\n",
            "Active(anon):     265640 kB\n",
            "Inactive(anon):      384 kB\n",
            "Active(file):     287492 kB\n",
            "Inactive(file):  1453104 kB\n",
            "Unevictable:           0 kB\n",
            "Mlocked:               0 kB\n",
            "SwapTotal:             0 kB\n",
            "SwapFree:              0 kB\n",
            "Dirty:               264 kB\n",
            "Writeback:             0 kB\n",
            "AnonPages:        283528 kB\n",
            "Mapped:           151624 kB\n",
            "Shmem:               900 kB\n",
            "Slab:             145760 kB\n",
            "SReclaimable:     113036 kB\n",
            "SUnreclaim:        32724 kB\n",
            "KernelStack:        3840 kB\n",
            "PageTables:         4708 kB\n",
            "NFS_Unstable:          0 kB\n",
            "Bounce:                0 kB\n",
            "WritebackTmp:          0 kB\n",
            "CommitLimit:     6667636 kB\n",
            "Committed_AS:    1833680 kB\n",
            "VmallocTotal:   34359738367 kB\n",
            "VmallocUsed:           0 kB\n",
            "VmallocChunk:          0 kB\n",
            "AnonHugePages:         0 kB\n",
            "ShmemHugePages:        0 kB\n",
            "ShmemPmdMapped:        0 kB\n",
            "HugePages_Total:       0\n",
            "HugePages_Free:        0\n",
            "HugePages_Rsvd:        0\n",
            "HugePages_Surp:        0\n",
            "Hugepagesize:       2048 kB\n",
            "DirectMap4k:       90100 kB\n",
            "DirectMap2M:     6201344 kB\n",
            "DirectMap1G:     9437184 kB\n"
          ],
          "name": "stdout"
        }
      ]
    },
    {
      "metadata": {
        "id": "R9EoCHJtN1JF",
        "colab_type": "code",
        "colab": {
          "base_uri": "https://localhost:8080/",
          "height": 153
        },
        "outputId": "e8379bed-0690-4d36-a33d-f84abea99976"
      },
      "cell_type": "code",
      "source": [
        "# Show mounted directories \n",
        "!df -h"
      ],
      "execution_count": 4,
      "outputs": [
        {
          "output_type": "stream",
          "text": [
            "Filesystem      Size  Used Avail Use% Mounted on\n",
            "overlay         359G   22G  319G   7% /\n",
            "tmpfs           6.4G     0  6.4G   0% /dev\n",
            "tmpfs           6.4G     0  6.4G   0% /sys/fs/cgroup\n",
            "tmpfs           6.4G   12K  6.4G   1% /var/colab\n",
            "/dev/sda1       365G   26G  340G   8% /opt/bin\n",
            "shm             6.0G     0  6.0G   0% /dev/shm\n",
            "tmpfs           6.4G     0  6.4G   0% /sys/firmware\n"
          ],
          "name": "stdout"
        }
      ]
    },
    {
      "metadata": {
        "id": "Q9wVz9UKM7w7",
        "colab_type": "text"
      },
      "cell_type": "markdown",
      "source": [
        "En esta práctica, vamos a verificar la versión de Python que estamos ejecutando (recuerde que el código de esta práctica se ha comprobado sobre Python 2.7)"
      ]
    },
    {
      "metadata": {
        "id": "Dm_31ZAnl8wl",
        "colab_type": "code",
        "colab": {
          "base_uri": "https://localhost:8080/",
          "height": 34
        },
        "outputId": "de8fa117-64b8-41d2-c7b4-65221c52d090"
      },
      "cell_type": "code",
      "source": [
        "#Check Python version\n",
        "import sys\n",
        "sys.version"
      ],
      "execution_count": 5,
      "outputs": [
        {
          "output_type": "execute_result",
          "data": {
            "text/plain": [
              "'2.7.15rc1 (default, Nov 12 2018, 14:31:15) \\n[GCC 7.3.0]'"
            ]
          },
          "metadata": {
            "tags": []
          },
          "execution_count": 5
        }
      ]
    },
    {
      "metadata": {
        "id": "klP4mwmXqe4S",
        "colab_type": "text"
      },
      "cell_type": "markdown",
      "source": [
        "## Verificar existencia de GPU\n",
        "Una de las principales ventajas de *Google Colaboratory* es la disponibilidad gratuita de recursos de calculo intensivo mediante GPUs (Graphic Processing Unit). En esta sección describiremos como verificar la existencia de esta GPU."
      ]
    },
    {
      "metadata": {
        "id": "b7yo4y71q644",
        "colab_type": "text"
      },
      "cell_type": "markdown",
      "source": [
        "Primeramente, debe activar el recurso GPU. Para ello navege por el menu \"Edit-->Notebook Settings\" y seleccione la opción \"GPU\" en la parte \"Hardware acceleretor\". En la otra parte \"Runtime type\", seleccione \"Python2\" pues que todo el código de esta práctica ha sido verificado con Python 2. \n",
        "\n",
        "A continuación se muestra un ejemplo visual de las opciones en \"Notebook Settings\"\n",
        "\n",
        "![alt text](https://cdn-images-1.medium.com/max/1600/1*WNovJnpGMOys8Rv7YIsZzA.png)"
      ]
    },
    {
      "metadata": {
        "id": "gAuXy-n-sdCc",
        "colab_type": "text"
      },
      "cell_type": "markdown",
      "source": [
        "[link text](https://)Posteriormente vamos a utilizar la instrucción  *nvidia-smi* para identificar cuantas GPUs existen en nuestro sistema:"
      ]
    },
    {
      "metadata": {
        "id": "2ULmb0BQqkQz",
        "colab_type": "code",
        "outputId": "24c01744-5abd-479f-86ca-13f097d61967",
        "colab": {
          "base_uri": "https://localhost:8080/",
          "height": 306
        }
      },
      "cell_type": "code",
      "source": [
        "!nvidia-smi"
      ],
      "execution_count": 6,
      "outputs": [
        {
          "output_type": "stream",
          "text": [
            "Sat Feb  9 09:48:19 2019       \n",
            "+-----------------------------------------------------------------------------+\n",
            "| NVIDIA-SMI 410.79       Driver Version: 410.79       CUDA Version: 10.0     |\n",
            "|-------------------------------+----------------------+----------------------+\n",
            "| GPU  Name        Persistence-M| Bus-Id        Disp.A | Volatile Uncorr. ECC |\n",
            "| Fan  Temp  Perf  Pwr:Usage/Cap|         Memory-Usage | GPU-Util  Compute M. |\n",
            "|===============================+======================+======================|\n",
            "|   0  Tesla K80           Off  | 00000000:00:04.0 Off |                    0 |\n",
            "| N/A   32C    P8    30W / 149W |      0MiB / 11441MiB |      0%      Default |\n",
            "+-------------------------------+----------------------+----------------------+\n",
            "                                                                               \n",
            "+-----------------------------------------------------------------------------+\n",
            "| Processes:                                                       GPU Memory |\n",
            "|  GPU       PID   Type   Process name                             Usage      |\n",
            "|=============================================================================|\n",
            "|  No running processes found                                                 |\n",
            "+-----------------------------------------------------------------------------+\n"
          ],
          "name": "stdout"
        }
      ]
    },
    {
      "metadata": {
        "id": "3Vc3u6EoOlWR",
        "colab_type": "text"
      },
      "cell_type": "markdown",
      "source": [
        "## Instalacion de paquetes necesarios\n",
        "\n",
        "En esta sección vamos a mostrar el procedimiento para instalar el software necesario para realizar esta práctica"
      ]
    },
    {
      "metadata": {
        "id": "H4dIice9P1zR",
        "colab_type": "text"
      },
      "cell_type": "markdown",
      "source": [
        "### Jupyter notebook\n",
        "En el caso de que la máquina virtual de https://colab.research.google.com/ no esté disponible (puede verificar que aparece la palabra \"CONNECTED\" arriba a la derecha de su pantalla). Se sugiere realizar la práctica en local (e.g. PC o portátil personal). Para ejecutar los scripts interactivos \\*.ipynb, necesitará instalar *Jupyter*. \n",
        "\n",
        "Ejecute los siguientes comandos en un terminal de linux\n",
        "\n",
        "\n",
        "```\n",
        "$ pip install jupyter #version 2.X python (recomendada)\n",
        "$ pip3 install jupyter #version 3.X python\n",
        "$ jupyter notebook # lanza jupyter y abre un navegador para ejecutar scripts ipynb\n",
        "```\n",
        "\n",
        "El procedimiento completo está descrito en http://jupyter.readthedocs.io/en/latest/install.html\n",
        "\n",
        "NOTA: los scripts ipynb de esta práctica están preparados para funcionar tanto en local como en colab.research.google.com (asumiendo una conexión directa a internet, sin proxy alguno).\n"
      ]
    },
    {
      "metadata": {
        "id": "9Qh1axCOPpyp",
        "colab_type": "text"
      },
      "cell_type": "markdown",
      "source": [
        "### Pytorch \n",
        "En esta práctica utilizaremos ```Pytorch``` para las tareas de *deep learning* y el paquete ``torchvision`` que proporciona funcionalidad extendida. \n",
        "\n",
        "A continuación se muestran las instrucciones necesarias para instalar Pytorch con/sin soporte para cálculo intensivo mediante GPUs (descomente aquella opción que desee instalar):"
      ]
    },
    {
      "metadata": {
        "id": "8T8AKTMnPogu",
        "colab_type": "code",
        "outputId": "84af86fa-ed6a-41ec-cd14-809bcd589fae",
        "colab": {
          "base_uri": "https://localhost:8080/",
          "height": 530
        }
      },
      "cell_type": "code",
      "source": [
        "#install pytorch for python 2.7 without CUDA support\n",
        "#!pip install http://download.pytorch.org/whl/cpu/torch-0.3.1-cp27-cp27mu-linux_x86_64.whl \n",
        "#!pip install torchvision \n",
        "\n",
        "#install pytorch for python 2.7 with CUDA 8.0 support\n",
        "!pip install http://download.pytorch.org/whl/cu80/torch-0.3.1-cp27-cp27mu-linux_x86_64.whl \n",
        "!pip install torchvision"
      ],
      "execution_count": 7,
      "outputs": [
        {
          "output_type": "stream",
          "text": [
            "Collecting torch==0.3.1 from http://download.pytorch.org/whl/cu80/torch-0.3.1-cp27-cp27mu-linux_x86_64.whl\n",
            "\u001b[?25l  Downloading http://download.pytorch.org/whl/cu80/torch-0.3.1-cp27-cp27mu-linux_x86_64.whl (496.9MB)\n",
            "\u001b[K    100% |████████████████████████████████| 496.9MB 106.4MB/s \n",
            "\u001b[?25hRequirement already satisfied: numpy in /usr/local/lib/python2.7/dist-packages (from torch==0.3.1) (1.14.6)\n",
            "Requirement already satisfied: pyyaml in /usr/local/lib/python2.7/dist-packages (from torch==0.3.1) (3.13)\n",
            "\u001b[31mtorchvision 0.2.1 has requirement pillow>=4.1.1, but you'll have pillow 4.0.0 which is incompatible.\u001b[0m\n",
            "Installing collected packages: torch\n",
            "  Found existing installation: torch 1.0.0\n",
            "    Uninstalling torch-1.0.0:\n",
            "      Successfully uninstalled torch-1.0.0\n",
            "Successfully installed torch-0.3.1\n",
            "Requirement already satisfied: torchvision in /usr/local/lib/python2.7/dist-packages (0.2.1)\n",
            "Requirement already satisfied: six in /usr/local/lib/python2.7/dist-packages (from torchvision) (1.11.0)\n",
            "Requirement already satisfied: numpy in /usr/local/lib/python2.7/dist-packages (from torchvision) (1.14.6)\n",
            "Requirement already satisfied: torch in /usr/local/lib/python2.7/dist-packages (from torchvision) (0.3.1)\n",
            "Collecting pillow>=4.1.1 (from torchvision)\n",
            "\u001b[?25l  Downloading https://files.pythonhosted.org/packages/0d/f3/421598450cb9503f4565d936860763b5af413a61009d87a5ab1e34139672/Pillow-5.4.1-cp27-cp27mu-manylinux1_x86_64.whl (2.0MB)\n",
            "\u001b[K    100% |████████████████████████████████| 2.0MB 10.2MB/s \n",
            "\u001b[?25hRequirement already satisfied: pyyaml in /usr/local/lib/python2.7/dist-packages (from torch->torchvision) (3.13)\n",
            "Installing collected packages: pillow\n",
            "  Found existing installation: Pillow 4.0.0\n",
            "    Uninstalling Pillow-4.0.0:\n",
            "      Successfully uninstalled Pillow-4.0.0\n",
            "Successfully installed pillow-5.4.1\n"
          ],
          "name": "stdout"
        },
        {
          "output_type": "display_data",
          "data": {
            "application/vnd.colab-display-data+json": {
              "pip_warning": {
                "packages": [
                  "PIL"
                ]
              }
            }
          },
          "metadata": {
            "tags": []
          }
        }
      ]
    },
    {
      "metadata": {
        "id": "xmg8-D_3SUCh",
        "colab_type": "text"
      },
      "cell_type": "markdown",
      "source": [
        "### Pillow\n",
        "\n",
        "También utilizaremos la librería ``Pillow`` para lectura/escritura de imágenes. En esta práctica utilizaremos la versión 5.0.0 debido a que \n",
        "la versión 4.0.0 tiene problemas de compatibilidad con Colaborative (en concreto para la lectura de imágenes con plugins de lectura *TiffImageFile*)"
      ]
    },
    {
      "metadata": {
        "id": "9tNr4GLBSUzY",
        "colab_type": "code",
        "colab": {
          "base_uri": "https://localhost:8080/",
          "height": 428
        },
        "outputId": "03b34ddd-58c3-4c27-f30f-d513fcfce74b"
      },
      "cell_type": "code",
      "source": [
        "!pip install Pillow==5.0.0\n",
        "!pip show pillow #check pillow version"
      ],
      "execution_count": 1,
      "outputs": [
        {
          "output_type": "stream",
          "text": [
            "Collecting Pillow==5.0.0\n",
            "\u001b[?25l  Downloading https://files.pythonhosted.org/packages/89/bd/1d9a10f3e8157b7df275740b0782a892a0db387f8286620110c41e5146c7/Pillow-5.0.0-cp27-cp27mu-manylinux1_x86_64.whl (5.8MB)\n",
            "\u001b[K    100% |████████████████████████████████| 5.9MB 1.0MB/s \n",
            "\u001b[?25hInstalling collected packages: Pillow\n",
            "  Found existing installation: Pillow 5.4.1\n",
            "    Uninstalling Pillow-5.4.1:\n",
            "      Successfully uninstalled Pillow-5.4.1\n",
            "Successfully installed Pillow-5.0.0\n"
          ],
          "name": "stdout"
        },
        {
          "output_type": "display_data",
          "data": {
            "application/vnd.colab-display-data+json": {
              "pip_warning": {
                "packages": [
                  "PIL"
                ]
              }
            }
          },
          "metadata": {
            "tags": []
          }
        },
        {
          "output_type": "stream",
          "text": [
            "Name: Pillow\n",
            "Version: 5.0.0\n",
            "Summary: Python Imaging Library (Fork)\n",
            "Home-page: https://python-pillow.org\n",
            "Author: Alex Clark (Fork Author)\n",
            "Author-email: aclark@aclark.net\n",
            "License: Standard PIL License\n",
            "Location: /usr/local/lib/python2.7/dist-packages\n",
            "Requires: \n",
            "Required-by: tflearn, magenta, fastai\n"
          ],
          "name": "stdout"
        }
      ]
    },
    {
      "metadata": {
        "id": "w-j_kzfxgHP3",
        "colab_type": "text"
      },
      "cell_type": "markdown",
      "source": [
        "Para actualizar el entorno y se utilice la versión 5.0 del paquete ``Pillow``, deberá resetear el *runtime* de esta sesión de ``Jupyter``.\n",
        "\n",
        "Para ello, utilice la opción del menu \"Runtime\"->\"Restart Runtime\" ó seleccione Ctrl+M."
      ]
    },
    {
      "metadata": {
        "id": "7ZorEikzbvvB",
        "colab_type": "text"
      },
      "cell_type": "markdown",
      "source": [
        "## Conectarse a sus carpetas en google drive\n",
        "Debido a que el uso del entorno *colab.research.google.com* está registringido a un máximo de 12 horas continuadas (tras las cuales, se reseteará su máquina virtual y podrá volver a utilizar otra distinta) se sugiere conectar esta máquina virtual a la unidad de *Google Drive* asociada a su usuario con cuenta @gmail. Así podrá guardar datos y resultados que genere para un posterior uso.\n",
        "\n",
        "Debido a que el procedimiento descrito a continuación requiere acceder a su cuenta personal @gmail, **se sugiere crear una nueva cuenta @gmail para la realización de esta práctica**.\n",
        "\n",
        "Tras identificarse con su nueva cuenta @gmail, vuelva a cargar este script refrescando esta página web en el navegador.\n"
      ]
    },
    {
      "metadata": {
        "id": "onB0-K98g8xa",
        "colab_type": "text"
      },
      "cell_type": "markdown",
      "source": [
        "A continuación utilizaremos el paquete *drive* de *Google.Colab* que permite montar sus directorios de Drive en la carpeta del sistema */content/gdrive/*\n",
        "\n",
        "Estas instrucciónes le pediran autorizar el acceso a su cuenta proporcionándole un enlace. Haga click sore el enlace y copie en el código que obtenga en el cuadro de texto."
      ]
    },
    {
      "metadata": {
        "id": "yqAWqJiEbxoz",
        "colab_type": "code",
        "colab": {
          "base_uri": "https://localhost:8080/",
          "height": 122
        },
        "outputId": "47f98cda-da46-4ad8-fbcf-48aef968cb6f"
      },
      "cell_type": "code",
      "source": [
        "from google.colab import drive\n",
        "drive.mount('/content/gdrive')"
      ],
      "execution_count": 1,
      "outputs": [
        {
          "output_type": "stream",
          "text": [
            "Go to this URL in a browser: https://accounts.google.com/o/oauth2/auth?client_id=947318989803-6bn6qk8qdgf4n4g3pfee6491hc0brc4i.apps.googleusercontent.com&redirect_uri=urn%3Aietf%3Awg%3Aoauth%3A2.0%3Aoob&scope=email%20https%3A%2F%2Fwww.googleapis.com%2Fauth%2Fdocs.test%20https%3A%2F%2Fwww.googleapis.com%2Fauth%2Fdrive%20https%3A%2F%2Fwww.googleapis.com%2Fauth%2Fdrive.photos.readonly%20https%3A%2F%2Fwww.googleapis.com%2Fauth%2Fpeopleapi.readonly&response_type=code\n",
            "\n",
            "Enter your authorization code:\n",
            "··········\n",
            "Mounted at /content/gdrive\n"
          ],
          "name": "stdout"
        }
      ]
    },
    {
      "metadata": {
        "id": "cjz32tS4Ag_x",
        "colab_type": "text"
      },
      "cell_type": "markdown",
      "source": [
        "Podemos visualizar el contenido de nuestra carpeta raíz en Google Drive con la siguiente instrucción"
      ]
    },
    {
      "metadata": {
        "id": "COePZRUiAnxl",
        "colab_type": "code",
        "colab": {
          "base_uri": "https://localhost:8080/",
          "height": 34
        },
        "outputId": "51ab60ce-eb1e-4675-e836-9db194bee1bb"
      },
      "cell_type": "code",
      "source": [
        "!ls /content/gdrive/My\\ Drive/"
      ],
      "execution_count": 6,
      "outputs": [
        {
          "output_type": "stream",
          "text": [
            "1.setup.ipynb  foo.txt\tpractica1indexacion\n"
          ],
          "name": "stdout"
        }
      ]
    },
    {
      "metadata": {
        "id": "bV6vRyrCAPJm",
        "colab_type": "text"
      },
      "cell_type": "markdown",
      "source": [
        "A continuación creamos un fichero de ejemplo para verificar el correcto funcionamiento de las instrucciones anteriores\n",
        "\n"
      ]
    },
    {
      "metadata": {
        "id": "P38Vz9uBAPrk",
        "colab_type": "code",
        "colab": {
          "base_uri": "https://localhost:8080/",
          "height": 34
        },
        "outputId": "b4165578-a954-461e-9f42-c17cc167ba6f"
      },
      "cell_type": "code",
      "source": [
        "with open('/content/gdrive/My Drive/foo.txt', 'w') as f:\n",
        "  f.write('Hello Google Drive!')\n",
        "!cat /content/gdrive/My\\ Drive/foo.txt"
      ],
      "execution_count": 3,
      "outputs": [
        {
          "output_type": "stream",
          "text": [
            "Hello Google Drive!"
          ],
          "name": "stdout"
        }
      ]
    },
    {
      "metadata": {
        "id": "TwRPNw6AArIR",
        "colab_type": "text"
      },
      "cell_type": "markdown",
      "source": [
        "Por último podemos crear un carpeta para guardar los datos de esta práctica"
      ]
    },
    {
      "metadata": {
        "id": "muOvZswOAbU3",
        "colab_type": "code",
        "colab": {
          "base_uri": "https://localhost:8080/",
          "height": 34
        },
        "outputId": "e64cf3e2-73f4-46c6-9057-848d193116fd"
      },
      "cell_type": "code",
      "source": [
        "!mkdir /content/gdrive/My\\ Drive/practica1indexacion"
      ],
      "execution_count": 5,
      "outputs": [
        {
          "output_type": "stream",
          "text": [
            "mkdir: cannot create directory ‘/content/gdrive/My Drive/practica1indexacion’: File exists\n"
          ],
          "name": "stdout"
        }
      ]
    },
    {
      "metadata": {
        "id": "YhO-oaoDnrFh",
        "colab_type": "text"
      },
      "cell_type": "markdown",
      "source": [
        "## Operaciones comúnes"
      ]
    },
    {
      "metadata": {
        "id": "MJtM1Mxbnu4B",
        "colab_type": "text"
      },
      "cell_type": "markdown",
      "source": [
        "En esta sección repasaremos operaciones/comandos de utilidad para el resto de partes de la práctica"
      ]
    },
    {
      "metadata": {
        "id": "wVQg60QVXE8m",
        "colab_type": "text"
      },
      "cell_type": "markdown",
      "source": [
        "### Moverse a otros directorios\n",
        "\n",
        "El directorio de trabajo por defecto es '/content'. Si hemos seguido el paso anterior, lo deseable es que trabajemos en nuestros directorios de *Google Drive*. \n",
        "\n",
        "Para movernos entre directorios normalmente utilizariamos la instrucción **cd**. De manera alternativa se sugiere utilizar la libreria *os* para moverse entre directorios.\n"
      ]
    },
    {
      "metadata": {
        "id": "k1RVQzSTXFpE",
        "colab_type": "code",
        "colab": {
          "base_uri": "https://localhost:8080/",
          "height": 34
        },
        "outputId": "7ef926af-19f4-4c62-a2ee-32682182423f"
      },
      "cell_type": "code",
      "source": [
        "#show current directory\n",
        "!pwd\n",
        "\n",
        "#move to a specific directory\n",
        "import os\n",
        "os.chdir('/content/gdrive/My Drive/masterbigdata/data/')"
      ],
      "execution_count": 12,
      "outputs": [
        {
          "output_type": "stream",
          "text": [
            "/content\n"
          ],
          "name": "stdout"
        }
      ]
    },
    {
      "metadata": {
        "id": "55oysizVn1Rp",
        "colab_type": "text"
      },
      "cell_type": "markdown",
      "source": [
        "### Generación de scripts\n",
        "\n",
        "Frecuentemente, tras desarrollar una nueva funcionalidad es conveniente utilizar un fichero *.py* para encapsular esta funcionalidad.\n",
        "\n",
        "En el siguiente código puede ver como se generan el fichero *textproc.py*"
      ]
    },
    {
      "metadata": {
        "id": "HUJTl8uvoPbT",
        "colab_type": "code",
        "colab": {
          "base_uri": "https://localhost:8080/",
          "height": 34
        },
        "outputId": "b33af7e3-b535-4689-d36b-af6290844077"
      },
      "cell_type": "code",
      "source": [
        "%%writefile textproc.py\n",
        "\n",
        "def plural(word):\n",
        "    if word.endswith('y'):\n",
        "        return word[:-1] + 'ies'\n",
        "    elif word[-1] in 'sx' or word[-2:] in ['sh', 'ch']:\n",
        "        return word + 'es'\n",
        "    elif word.endswith('an'):\n",
        "        return word[:-2] + 'en'\n",
        "    else:\n",
        "        return word + 's'"
      ],
      "execution_count": 13,
      "outputs": [
        {
          "output_type": "stream",
          "text": [
            "Writing textproc.py\n"
          ],
          "name": "stdout"
        }
      ]
    },
    {
      "metadata": {
        "id": "pB9DzOtcoxKe",
        "colab_type": "code",
        "colab": {
          "base_uri": "https://localhost:8080/",
          "height": 34
        },
        "outputId": "af7729b0-f746-45d6-a0e1-81d908d54e65"
      },
      "cell_type": "code",
      "source": [
        "#list directory contents\n",
        "!ls"
      ],
      "execution_count": 16,
      "outputs": [
        {
          "output_type": "stream",
          "text": [
            "textproc.py\n"
          ],
          "name": "stdout"
        }
      ]
    },
    {
      "metadata": {
        "id": "U0ZHNFrBo2sa",
        "colab_type": "text"
      },
      "cell_type": "markdown",
      "source": [
        "### Ejecución de scripts\n",
        "\n",
        "Tras encapsular la funcionalidad deseada en un fichero *.py*, tenemos dos maneras utilizar dicha funcionalidad"
      ]
    },
    {
      "metadata": {
        "id": "dvnoFzvzo1wo",
        "colab_type": "code",
        "colab": {
          "base_uri": "https://localhost:8080/",
          "height": 34
        },
        "outputId": "24c72466-3a4b-41bc-dd27-79c5c970da1e"
      },
      "cell_type": "code",
      "source": [
        "#example 1 for importing library\n",
        "from textproc import plural\n",
        "\n",
        "#create object\n",
        "plural('wish') "
      ],
      "execution_count": 17,
      "outputs": [
        {
          "output_type": "execute_result",
          "data": {
            "text/plain": [
              "'wishes'"
            ]
          },
          "metadata": {
            "tags": []
          },
          "execution_count": 17
        }
      ]
    },
    {
      "metadata": {
        "id": "3yjTxFM7pmSV",
        "colab_type": "code",
        "colab": {
          "base_uri": "https://localhost:8080/",
          "height": 34
        },
        "outputId": "7785baae-9f9c-4f2b-dbe6-602cd4f81a86"
      },
      "cell_type": "code",
      "source": [
        "#example 2 for running an external script\n",
        "\n",
        "%run -i textproc.py #runs script and keeps variables\n",
        "plural('wish')"
      ],
      "execution_count": 18,
      "outputs": [
        {
          "output_type": "execute_result",
          "data": {
            "text/plain": [
              "'wishes'"
            ]
          },
          "metadata": {
            "tags": []
          },
          "execution_count": 18
        }
      ]
    },
    {
      "metadata": {
        "id": "LbW88PSLEyv7",
        "colab_type": "text"
      },
      "cell_type": "markdown",
      "source": [
        "### Reiniciar la máquina virtual\n",
        "Es posible que realice diversas operaciones sobre el sistema (e.g. instalación de paquetes) que produzca un sistema inestable. \n",
        "\n",
        "En ese caso, se recomienda:\n",
        "\n",
        "1) Haga un \"restart runtime\" mediante las teclas Ctrl+M\n",
        "\n",
        "2) En el caso de que no se resuelva su problema, ejecute la siguiente instrucción para forzar un reseteo del sistema. Tras ejecutar esta instrucción la máquina sufrirá un bloqueo durante un pequeño lapso de tiempo (1-2 minutos). Refresque la página y verifique que se conecta a la máquina virtual (\"CONNECTED\" en la esquina superior derecha)\n",
        "\n",
        "```\n",
        "!kill -9 -1\n",
        "```\n",
        "   \n",
        "\n",
        "\n"
      ]
    },
    {
      "metadata": {
        "id": "P2Uuh4kzE9j7",
        "colab_type": "code",
        "colab": {}
      },
      "cell_type": "code",
      "source": [
        "!kill -9 -1"
      ],
      "execution_count": 0,
      "outputs": []
    }
  ]
}