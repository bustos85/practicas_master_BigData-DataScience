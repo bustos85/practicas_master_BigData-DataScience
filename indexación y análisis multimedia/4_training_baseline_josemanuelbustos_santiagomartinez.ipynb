{
  "nbformat": 4,
  "nbformat_minor": 0,
  "metadata": {
    "colab": {
      "name": "4_training_baseline_josemanuelbustos_santiagomartinez.ipynb",
      "version": "0.3.2",
      "provenance": [],
      "collapsed_sections": [],
      "toc_visible": true
    },
    "kernelspec": {
      "name": "python2",
      "display_name": "Python 2"
    },
    "accelerator": "GPU"
  },
  "cells": [
    {
      "metadata": {
        "id": "MbrPXkSGlcmB",
        "colab_type": "text"
      },
      "cell_type": "markdown",
      "source": [
        "#Máster en Big Data y Data Science: Ciencia e Ingeniería de Datos\n",
        "### ASIGNATURA: Indexación, búsqueda y análisis en repositorios multimedia\n",
        "### PARTE: Multimedia (imagen, video)\n",
        "### Práctica 1: Introducción al diseño de redes neuronales convolucionales con Pytorch mediante Google Colaboratory\n",
        "\n",
        "---\n",
        "\n",
        "Autor: Juan C. SanMiguel (juancarlos.sanmiguel@uam.es), Universidad Autónoma de Madrid\n"
      ]
    },
    {
      "metadata": {
        "id": "H7_EXhmb8zwb",
        "colab_type": "text"
      },
      "cell_type": "markdown",
      "source": [
        "# 4. Entrenamiento de una red con CPU (training)"
      ]
    },
    {
      "metadata": {
        "id": "TH6WlZfx_L3n",
        "colab_type": "text"
      },
      "cell_type": "markdown",
      "source": [
        "## Preparación del entorno de trabajo\n",
        "\n"
      ]
    },
    {
      "metadata": {
        "id": "UOv5AC7z9_Gm",
        "colab_type": "text"
      },
      "cell_type": "markdown",
      "source": [
        "### Pytorch\n",
        "\n",
        "A continuación tiene un conjunto de instrucciones que instalan el software necesario para esta parte de la práctica.\n",
        "\n",
        "Para ello se proporciona un fichero *utils.zip* que contiene ficheros y utilidades necesarios."
      ]
    },
    {
      "metadata": {
        "id": "Cq7viwqX-D5j",
        "colab_type": "code",
        "outputId": "0714ed46-2087-43da-f434-5fdfcaf5b858",
        "colab": {
          "base_uri": "https://localhost:8080/",
          "height": 479
        }
      },
      "cell_type": "code",
      "source": [
        "import os\n",
        "import subprocess\n",
        "\n",
        "tmpdir = '/content/tmp/' #temporal location to download and store the dataset\n",
        "\n",
        "out=subprocess.call([\"mkdir\",tmpdir]) #create a empty directory\n",
        "os.chdir(tmpdir) #move to directory\n",
        "\n",
        "!wget http://www-vpu.eps.uam.es/~jcs/pub/utils.zip -O utils.zip #download utils\n",
        "!unzip -o -q utils.zip -d . #unzip file\n",
        "\n",
        "#install software requirements (pytorch, pillow, google-drive-ocamlfuse)\n",
        "!pip install -r ./utils/requirements.txt"
      ],
      "execution_count": 1,
      "outputs": [
        {
          "output_type": "stream",
          "text": [
            "--2019-02-09 10:33:38--  http://www-vpu.eps.uam.es/~jcs/pub/utils.zip\n",
            "Resolving www-vpu.eps.uam.es (www-vpu.eps.uam.es)... 150.244.57.170\n",
            "Connecting to www-vpu.eps.uam.es (www-vpu.eps.uam.es)|150.244.57.170|:80... connected.\n",
            "HTTP request sent, awaiting response... 200 OK\n",
            "Length: 2404 (2.3K) [application/zip]\n",
            "Saving to: ‘utils.zip’\n",
            "\n",
            "\rutils.zip             0%[                    ]       0  --.-KB/s               \rutils.zip           100%[===================>]   2.35K  --.-KB/s    in 0s      \n",
            "\n",
            "2019-02-09 10:33:38 (417 MB/s) - ‘utils.zip’ saved [2404/2404]\n",
            "\n",
            "Requirement already satisfied: torch==0.3.1 from http://download.pytorch.org/whl/cpu/torch-0.3.1-cp27-cp27mu-linux_x86_64.whl in /usr/local/lib/python2.7/dist-packages (from -r ./utils/requirements.txt (line 2)) (0.3.1)\n",
            "Requirement already satisfied: torchvision in /usr/local/lib/python2.7/dist-packages (from -r ./utils/requirements.txt (line 8)) (0.2.1)\n",
            "Requirement already satisfied: Pillow==5.0.0 in /usr/local/lib/python2.7/dist-packages (from -r ./utils/requirements.txt (line 11)) (5.0.0)\n",
            "Requirement already satisfied: matplotlib in /usr/local/lib/python2.7/dist-packages (from -r ./utils/requirements.txt (line 13)) (2.2.3)\n",
            "Requirement already satisfied: numpy in /usr/local/lib/python2.7/dist-packages (from torch==0.3.1->-r ./utils/requirements.txt (line 2)) (1.14.6)\n",
            "Requirement already satisfied: pyyaml in /usr/local/lib/python2.7/dist-packages (from torch==0.3.1->-r ./utils/requirements.txt (line 2)) (3.13)\n",
            "Requirement already satisfied: six in /usr/local/lib/python2.7/dist-packages (from torchvision->-r ./utils/requirements.txt (line 8)) (1.11.0)\n",
            "Requirement already satisfied: cycler>=0.10 in /usr/local/lib/python2.7/dist-packages (from matplotlib->-r ./utils/requirements.txt (line 13)) (0.10.0)\n",
            "Requirement already satisfied: backports.functools-lru-cache in /usr/local/lib/python2.7/dist-packages (from matplotlib->-r ./utils/requirements.txt (line 13)) (1.5)\n",
            "Requirement already satisfied: subprocess32 in /usr/local/lib/python2.7/dist-packages (from matplotlib->-r ./utils/requirements.txt (line 13)) (3.5.3)\n",
            "Requirement already satisfied: kiwisolver>=1.0.1 in /usr/local/lib/python2.7/dist-packages (from matplotlib->-r ./utils/requirements.txt (line 13)) (1.0.1)\n",
            "Requirement already satisfied: pytz in /usr/local/lib/python2.7/dist-packages (from matplotlib->-r ./utils/requirements.txt (line 13)) (2018.9)\n",
            "Requirement already satisfied: python-dateutil>=2.1 in /usr/local/lib/python2.7/dist-packages (from matplotlib->-r ./utils/requirements.txt (line 13)) (2.5.3)\n",
            "Requirement already satisfied: pyparsing!=2.0.4,!=2.1.2,!=2.1.6,>=2.0.1 in /usr/local/lib/python2.7/dist-packages (from matplotlib->-r ./utils/requirements.txt (line 13)) (2.3.1)\n",
            "Requirement already satisfied: setuptools in /usr/local/lib/python2.7/dist-packages (from kiwisolver>=1.0.1->matplotlib->-r ./utils/requirements.txt (line 13)) (40.8.0)\n"
          ],
          "name": "stdout"
        }
      ]
    },
    {
      "metadata": {
        "id": "SZit_KRdExkF",
        "colab_type": "text"
      },
      "cell_type": "markdown",
      "source": [
        "### Rutas de trabajo\n",
        "En este script, se utilizarán las siguientes rutas"
      ]
    },
    {
      "metadata": {
        "id": "qSZZsS4i_KP1",
        "colab_type": "code",
        "colab": {}
      },
      "cell_type": "code",
      "source": [
        "drivedir = '/content/gdrive'\n",
        "tmpdir = '/content/tmp/' #temporal location to download and store the dataset\n",
        "\n",
        "pracdir = drivedir + '/My Drive/p1indexacion' #directory for practica 1 indexacion\n",
        "datadir = pracdir + '/data' #directory for storing datasets\n",
        "resudir = pracdir + '/result' #directory to save results"
      ],
      "execution_count": 0,
      "outputs": []
    },
    {
      "metadata": {
        "id": "9zoOE4V7l5tS",
        "colab_type": "text"
      },
      "cell_type": "markdown",
      "source": [
        "### Google Drive\n",
        "\n",
        "Ejecute el siguiente código para enlazar este script con su cuenta de Google Drive. Los datos que se generen aquí se guardarán en su carpeta Drive para posterior uso. Por defecto, la unidad de Google Drive es enlaza con el directorio **/content/gdrive/**."
      ]
    },
    {
      "metadata": {
        "id": "YdwRGAHB3nM1",
        "colab_type": "code",
        "outputId": "1fba1ca4-ffa4-4f09-d319-23909ca1603a",
        "colab": {
          "base_uri": "https://localhost:8080/",
          "height": 292
        }
      },
      "cell_type": "code",
      "source": [
        "from google.colab import drive\n",
        "drive.mount(drivedir)\n",
        "\n",
        "print 'Google Drive mount completed'\n",
        "\n",
        "#check correct mount of drive directory\n",
        "!df -h"
      ],
      "execution_count": 3,
      "outputs": [
        {
          "output_type": "stream",
          "text": [
            "Go to this URL in a browser: https://accounts.google.com/o/oauth2/auth?client_id=947318989803-6bn6qk8qdgf4n4g3pfee6491hc0brc4i.apps.googleusercontent.com&redirect_uri=urn%3Aietf%3Awg%3Aoauth%3A2.0%3Aoob&scope=email%20https%3A%2F%2Fwww.googleapis.com%2Fauth%2Fdocs.test%20https%3A%2F%2Fwww.googleapis.com%2Fauth%2Fdrive%20https%3A%2F%2Fwww.googleapis.com%2Fauth%2Fdrive.photos.readonly%20https%3A%2F%2Fwww.googleapis.com%2Fauth%2Fpeopleapi.readonly&response_type=code\n",
            "\n",
            "Enter your authorization code:\n",
            "··········\n",
            "Mounted at /content/gdrive\n",
            "Google Drive mount completed\n",
            "Filesystem      Size  Used Avail Use% Mounted on\n",
            "overlay         359G   22G  319G   7% /\n",
            "tmpfs           6.4G     0  6.4G   0% /dev\n",
            "tmpfs           6.4G     0  6.4G   0% /sys/fs/cgroup\n",
            "/dev/sda1       365G   26G  340G   8% /opt/bin\n",
            "tmpfs           6.4G   12K  6.4G   1% /var/colab\n",
            "shm             6.0G     0  6.0G   0% /dev/shm\n",
            "tmpfs           6.4G     0  6.4G   0% /sys/firmware\n",
            "drive            15G  1.6M   15G   1% /content/gdrive\n"
          ],
          "name": "stdout"
        }
      ]
    },
    {
      "metadata": {
        "id": "74-1H-SB6U_p",
        "colab_type": "text"
      },
      "cell_type": "markdown",
      "source": [
        "## Dataset\n",
        "\n",
        "En este ejemplo de entrenamiento, vamos a utilizar el dataset *Scenes15*"
      ]
    },
    {
      "metadata": {
        "id": "fq6c0XQy6d2X",
        "colab_type": "code",
        "outputId": "653e97e4-8792-471a-f607-f1ceffaecb70",
        "colab": {
          "base_uri": "https://localhost:8080/",
          "height": 272
        }
      },
      "cell_type": "code",
      "source": [
        "import subprocess\n",
        "import os\n",
        "\n",
        "out=subprocess.call([\"mkdir\",pracdir])#create directory\n",
        "out=subprocess.call([\"mkdir\",datadir])#create directory\n",
        "out=subprocess.call([\"mkdir\",resudir])#create directory\n",
        "\n",
        "os.chdir(datadir) #move to directory\n",
        "\n",
        "#download and unzip the file\n",
        "!wget http://www-vpu.eps.uam.es/~jcs/pub/Scene15.zip -O Scene15.zip\n",
        "!unzip -o -q Scene15.zip -d .\n",
        "\n",
        "print 'Dataset downloaded and unzipped'\n",
        "\n",
        "!ls -lah #show directory & file usage"
      ],
      "execution_count": 4,
      "outputs": [
        {
          "output_type": "stream",
          "text": [
            "--2019-02-09 10:35:43--  http://www-vpu.eps.uam.es/~jcs/pub/Scene15.zip\n",
            "Resolving www-vpu.eps.uam.es (www-vpu.eps.uam.es)... 150.244.57.170\n",
            "Connecting to www-vpu.eps.uam.es (www-vpu.eps.uam.es)|150.244.57.170|:80... connected.\n",
            "HTTP request sent, awaiting response... 200 OK\n",
            "Length: 86395596 (82M) [application/zip]\n",
            "Saving to: ‘Scene15.zip’\n",
            "\n",
            "Scene15.zip         100%[===================>]  82.39M  5.41MB/s    in 31s     \n",
            "\n",
            "2019-02-09 10:36:14 (2.68 MB/s) - ‘Scene15.zip’ saved [86395596/86395596]\n",
            "\n",
            "Dataset downloaded and unzipped\n",
            "total 83M\n",
            "drwx------ 4 root root 4.0K Feb 28  2018 Scene15\n",
            "-rw------- 1 root root  83M Feb 28  2018 Scene15.zip\n"
          ],
          "name": "stdout"
        }
      ]
    },
    {
      "metadata": {
        "id": "Acnx8c5Q3n4K",
        "colab_type": "text"
      },
      "cell_type": "markdown",
      "source": [
        "Parametros para la generación del dataset"
      ]
    },
    {
      "metadata": {
        "id": "R6Q0dZw6Hq2E",
        "colab_type": "code",
        "colab": {}
      },
      "cell_type": "code",
      "source": [
        "import os\n",
        "import torch\n",
        "from torchvision import datasets\n",
        "import torchvision.transforms as transforms\n",
        "\n",
        "#path to the downloaded dataset\n",
        "dataset_dir = datadir + '/Scene15/'\n",
        "\n",
        "#number of samples/images per group\n",
        "batch_size=4\n",
        "\n",
        "#data transformation\n",
        "Resizing_factor = (128,128)\n",
        "transform = transforms.Compose([ transforms.Resize(size=Resizing_factor),                                 \n",
        "                                transforms.ToTensor()                                \n",
        "                                ])\n",
        "\n",
        "#list & load images\n",
        "image_datasets = {x: datasets.ImageFolder(os.path.join(dataset_dir, x), transform) for x in ['train', 'val']}\n",
        "class_names = image_datasets['train'].classes\n",
        "\n",
        "#load & convert images to tensors in Python\n",
        "dataloaders = {x: torch.utils.data.DataLoader(image_datasets[x], batch_size, shuffle=True, num_workers=2) for x in ['train', 'val']}"
      ],
      "execution_count": 0,
      "outputs": []
    },
    {
      "metadata": {
        "id": "7QK8uZt7CCRb",
        "colab_type": "text"
      },
      "cell_type": "markdown",
      "source": [
        "## Creación de la red\n",
        "\n",
        "A continuación, creamos una red tipo Lenet (modificada para soportar imágenes distintas a 32x32)"
      ]
    },
    {
      "metadata": {
        "id": "HWEfU3PqCRCV",
        "colab_type": "code",
        "outputId": "a95c1a0c-53ec-41fd-fd01-5b32472be909",
        "colab": {
          "base_uri": "https://localhost:8080/",
          "height": 170
        }
      },
      "cell_type": "code",
      "source": [
        "import os\n",
        "#os.chdir(resudir) #move to directory\n",
        "os.chdir(tmpdir)\n",
        "\n",
        "#runs script and keeps variables\n",
        "%run -i ./utils/mylenet.py\n",
        "\n",
        "# get some random training images to initialize network\n",
        "images, labels = iter(dataloaders['train']).next()\n",
        "\n",
        "net = Net(input_shape=images[0].size(), num_outputs=len(class_names))\n",
        "print(net)\n",
        "\n",
        "print \"Network ready to train!\""
      ],
      "execution_count": 6,
      "outputs": [
        {
          "output_type": "stream",
          "text": [
            "Net(\n",
            "  (conv1): Conv2d(3, 6, kernel_size=(5, 5), stride=(1, 1))\n",
            "  (pool): MaxPool2d(kernel_size=(2, 2), stride=(2, 2), dilation=(1, 1), ceil_mode=False)\n",
            "  (conv2): Conv2d(6, 16, kernel_size=(5, 5), stride=(1, 1))\n",
            "  (fc1): Linear(in_features=13456, out_features=120, bias=True)\n",
            "  (fc2): Linear(in_features=120, out_features=84, bias=True)\n",
            "  (fc3): Linear(in_features=84, out_features=15, bias=True)\n",
            ")\n",
            "Network ready to train!\n"
          ],
          "name": "stdout"
        }
      ]
    },
    {
      "metadata": {
        "id": "umau1YMBKeN_",
        "colab_type": "text"
      },
      "cell_type": "markdown",
      "source": [
        "## Definir una función de coste/optimizador\n",
        "\n",
        "En este ejemplo utilizamos Cross-Entropy para medir la precisión de nuestro clasificador y SGD como optimizador."
      ]
    },
    {
      "metadata": {
        "id": "kQDA6EkKKem_",
        "colab_type": "code",
        "colab": {}
      },
      "cell_type": "code",
      "source": [
        "import torch.optim as optim\n",
        "import torch.nn as nn\n",
        "\n",
        "criterion = nn.CrossEntropyLoss()\n",
        "optimizer = optim.SGD(net.parameters(), lr=0.001, momentum=0.9)"
      ],
      "execution_count": 0,
      "outputs": []
    },
    {
      "metadata": {
        "id": "GaYSTVfOK1lD",
        "colab_type": "text"
      },
      "cell_type": "markdown",
      "source": [
        "## Entrenar la red\n",
        "\n",
        "Ejecución iterativa sobre los datos de entrenamiento/test y actualización de los pesos"
      ]
    },
    {
      "metadata": {
        "id": "5jcjp9XGLAeR",
        "colab_type": "code",
        "outputId": "00b35d5a-153f-44dc-b2af-b54a187c6bcd",
        "colab": {
          "base_uri": "https://localhost:8080/",
          "height": 768
        }
      },
      "cell_type": "code",
      "source": [
        "import time\n",
        "import numpy as np\n",
        "from torch.autograd import Variable\n",
        "\n",
        "display_batch_iter = 100\n",
        "number_epochs = 10\n",
        "\n",
        "epoch_loss =  np.zeros((number_epochs,1))\n",
        "epoch_train_acc =  np.zeros((number_epochs,1))\n",
        "epoch_test_acc =  np.zeros((number_epochs,1))  \n",
        "train_time =  0.0\n",
        "\n",
        "Ntrain = len(image_datasets['train']) #number of samples for training\n",
        "Ntest = len(image_datasets['val']) #number of samples for test/validation\n",
        "    \n",
        "start = time.time()\n",
        "\n",
        "print('Training in CPUmode #epochs=%d #batches=%d batchsize=%d' % (number_epochs, len(dataloaders['train']),batch_size))\n",
        "print('**** Printing loss every %5d batches ****' % (display_batch_iter))  \n",
        "for epoch in range(number_epochs):  # loop over the dataset multiple times\n",
        "    running_loss = 0.0\n",
        "    for i, data in enumerate(dataloaders['train'], 0):\n",
        "        # get the inputs\n",
        "        inputs, labels = data\n",
        "\n",
        "        # wrap them in Variable\n",
        "        inputs, labels = Variable(inputs), Variable(labels)\n",
        "\n",
        "        # zero the parameter gradients\n",
        "        optimizer.zero_grad()\n",
        "\n",
        "        # forward + backward + optimize\n",
        "        outputs = net(inputs)\n",
        "        loss = criterion(outputs, labels)\n",
        "        loss.backward()\n",
        "        optimizer.step()\n",
        "\n",
        "        # print statistics\n",
        "        running_loss += loss.data[0]\n",
        "        epoch_loss[epoch] += loss.data[0]\n",
        "        if i % display_batch_iter == display_batch_iter-1:    # print every XXX mini-batches\n",
        "            print('[%d, %5d] loss: %.3f' % (epoch + 1, i + 1, running_loss / display_batch_iter))\n",
        "            running_loss = 0.0\n",
        "\n",
        "    # compute accuracy on training set\n",
        "    correct1 = 0.0\n",
        "    for data in dataloaders['train']:    \n",
        "      images, labels = data\n",
        "      outputs = net(Variable(images))\n",
        "      _, predicted = torch.max(outputs.data, 1)\n",
        "      correct1 += (predicted == labels).sum()\n",
        "      \n",
        "    # compute accuracy on test set\n",
        "    correct2 = 0.0\n",
        "    for data in dataloaders['val']:    \n",
        "      images, labels = data\n",
        "      outputs = net(Variable(images))\n",
        "      _, predicted = torch.max(outputs.data, 1)\n",
        "      correct2 += (predicted == labels).sum()\n",
        "    \n",
        "    epoch_loss[epoch] = epoch_loss[epoch] / len(dataloaders['train']) # average loss for each epoch\n",
        "    epoch_train_acc[epoch] =  100 * correct1 / Ntrain   # average train accuracy for each epoch\n",
        "    epoch_test_acc[epoch]  =  100 * correct2 / Ntest    # average test accuracy for each epoch\n",
        "    print('Epoch %02d, loss: %1.3f, accuracy train: %2.3f %% (correct %04d total %04d ) accuracy test: %2.3f %% (correct %04d total %04d )' % (epoch + 1, epoch_loss[epoch], epoch_train_acc[epoch], correct1, Ntrain, epoch_test_acc[epoch], correct2, Ntest ))\n",
        "    \n",
        "train_time = time.time() - start\n",
        "print('Finished Training (' + str(train_time) + ' secs)')"
      ],
      "execution_count": 8,
      "outputs": [
        {
          "output_type": "stream",
          "text": [
            "Training in CPUmode #epochs=10 #batches=375 batchsize=4\n",
            "**** Printing loss every   100 batches ****\n",
            "[1,   100] loss: 2.711\n",
            "[1,   200] loss: 2.712\n",
            "[1,   300] loss: 2.711\n",
            "Epoch 01, loss: 2.710, accuracy train: 6.667 % (correct 0100 total 1500 ) accuracy test: 6.265 % (correct 0187 total 2985 )\n",
            "[2,   100] loss: 2.707\n",
            "[2,   200] loss: 2.697\n",
            "[2,   300] loss: 2.697\n",
            "Epoch 02, loss: 2.696, accuracy train: 13.867 % (correct 0208 total 1500 ) accuracy test: 9.514 % (correct 0284 total 2985 )\n",
            "[3,   100] loss: 2.653\n",
            "[3,   200] loss: 2.608\n",
            "[3,   300] loss: 2.594\n",
            "Epoch 03, loss: 2.600, accuracy train: 16.000 % (correct 0240 total 1500 ) accuracy test: 10.586 % (correct 0316 total 2985 )\n",
            "[4,   100] loss: 2.499\n",
            "[4,   200] loss: 2.488\n",
            "[4,   300] loss: 2.497\n",
            "Epoch 04, loss: 2.500, accuracy train: 20.200 % (correct 0303 total 1500 ) accuracy test: 14.171 % (correct 0423 total 2985 )\n",
            "[5,   100] loss: 2.483\n",
            "[5,   200] loss: 2.385\n",
            "[5,   300] loss: 2.444\n",
            "Epoch 05, loss: 2.445, accuracy train: 21.933 % (correct 0329 total 1500 ) accuracy test: 16.315 % (correct 0487 total 2985 )\n",
            "[6,   100] loss: 2.335\n",
            "[6,   200] loss: 2.363\n",
            "[6,   300] loss: 2.457\n",
            "Epoch 06, loss: 2.374, accuracy train: 27.333 % (correct 0410 total 1500 ) accuracy test: 19.631 % (correct 0586 total 2985 )\n",
            "[7,   100] loss: 2.294\n",
            "[7,   200] loss: 2.260\n",
            "[7,   300] loss: 2.228\n",
            "Epoch 07, loss: 2.271, accuracy train: 28.867 % (correct 0433 total 1500 ) accuracy test: 21.072 % (correct 0629 total 2985 )\n",
            "[8,   100] loss: 2.200\n",
            "[8,   200] loss: 2.061\n",
            "[8,   300] loss: 2.119\n",
            "Epoch 08, loss: 2.127, accuracy train: 39.533 % (correct 0593 total 1500 ) accuracy test: 27.370 % (correct 0817 total 2985 )\n",
            "[9,   100] loss: 2.034\n",
            "[9,   200] loss: 1.871\n",
            "[9,   300] loss: 1.816\n",
            "Epoch 09, loss: 1.921, accuracy train: 51.467 % (correct 0772 total 1500 ) accuracy test: 32.060 % (correct 0957 total 2985 )\n",
            "[10,   100] loss: 1.576\n",
            "[10,   200] loss: 1.803\n",
            "[10,   300] loss: 1.640\n",
            "Epoch 10, loss: 1.692, accuracy train: 54.333 % (correct 0815 total 1500 ) accuracy test: 31.424 % (correct 0938 total 2985 )\n",
            "Finished Training (437.016400814 secs)\n"
          ],
          "name": "stdout"
        }
      ]
    },
    {
      "metadata": {
        "id": "84AJx1XzjfRm",
        "colab_type": "text"
      },
      "cell_type": "markdown",
      "source": [
        "Finalmente podemos guardar los datos tras el entrenamiento en nuestra carpeta de Google Drive"
      ]
    },
    {
      "metadata": {
        "id": "GRv6KngBjkha",
        "colab_type": "code",
        "cellView": "both",
        "colab": {
          "base_uri": "https://localhost:8080/",
          "height": 34
        },
        "outputId": "c1469374-98ae-4ee2-ea17-e9ad3078f1b6"
      },
      "cell_type": "code",
      "source": [
        "#@title\n",
        "#save results in a single file\n",
        "import pickle\n",
        "import os\n",
        "import subprocess\n",
        "\n",
        "out=subprocess.call([\"mkdir\",resudir])#create directory\n",
        "os.chdir(resudir) #move to drive directory\n",
        "\n",
        "# Saving the objects:\n",
        "f = open('training_baseline_results_epochs_'+ str(number_epochs) +'.pkl', 'wb')\n",
        "pickle.dump([epoch_train_acc, epoch_test_acc, epoch_loss, train_time, number_epochs, batch_size], f)\n",
        "f.close()\n",
        "print('Saved data')"
      ],
      "execution_count": 9,
      "outputs": [
        {
          "output_type": "stream",
          "text": [
            "Saved data\n"
          ],
          "name": "stdout"
        }
      ]
    },
    {
      "metadata": {
        "id": "i9fHv1kN70nG",
        "colab_type": "text"
      },
      "cell_type": "markdown",
      "source": [
        "Posteriormente, si quisieramos recuperar las variables/objetos para analizar, utilizaremos el siguiente código"
      ]
    },
    {
      "metadata": {
        "id": "iyIVJxTi7p1s",
        "colab_type": "code",
        "colab": {}
      },
      "cell_type": "code",
      "source": [
        "#get results from a single file\n",
        "import pickle\n",
        "import os\n",
        "os.chdir(resudir) #move to drive directory\n",
        "\n",
        "# Load the objects\n",
        "f = open('training_baseline_results_epochs_10.pkl', 'rb')\n",
        "epoch_train_acc, epoch_test_acc, epoch_loss, train_time, number_epochs, batch_size = pickle.load(f)"
      ],
      "execution_count": 0,
      "outputs": []
    },
    {
      "metadata": {
        "id": "WIpYsUwtmk9v",
        "colab_type": "text"
      },
      "cell_type": "markdown",
      "source": [
        "## Resultados tras entrenamiento \n",
        "\n"
      ]
    },
    {
      "metadata": {
        "id": "E2kqMm6FmuMT",
        "colab_type": "text"
      },
      "cell_type": "markdown",
      "source": [
        "### Análisis de precisión y función de pérdidas\n",
        "A continuación pintamos las variables que hemos acumulado durante el entrenamiento."
      ]
    },
    {
      "metadata": {
        "id": "6vlAL68xjl1-",
        "colab_type": "code",
        "colab": {
          "base_uri": "https://localhost:8080/",
          "height": 376
        },
        "outputId": "70dd5de6-e1ca-4263-f089-a2e758096638"
      },
      "cell_type": "code",
      "source": [
        "import matplotlib.pyplot as plt\n",
        "\n",
        "t = range(number_epochs)\n",
        "lineObjects =plt.plot(t,epoch_train_acc,'r--',t,epoch_test_acc,'bs')\n",
        "plt.legend(lineObjects, ('train', 'test'))\n",
        "plt.ylabel('Accuracy (%)')\n",
        "plt.xlabel('Epoch')\n",
        "plt.title('Accuracy results') \n",
        "\n",
        "import os\n",
        "os.chdir(resudir) #move to drive directory for saving data\n",
        "\n",
        "plt.savefig('training_accuracy_baseline__epochs'+ str(number_epochs) + '_CPU.png',bbox_inches='tight')#call this function before \"plt.show()\"\n",
        "plt.show()"
      ],
      "execution_count": 12,
      "outputs": [
        {
          "output_type": "display_data",
          "data": {
            "image/png": "[encoded data removed]",
            "text/plain": [
              "<Figure size 576x396 with 1 Axes>"
            ]
          },
          "metadata": {
            "tags": []
          }
        }
      ]
    },
    {
      "metadata": {
        "id": "AlaiffYgmOok",
        "colab_type": "code",
        "colab": {
          "base_uri": "https://localhost:8080/",
          "height": 376
        },
        "outputId": "12a35689-3973-4e44-be57-2711d1c0eb7f"
      },
      "cell_type": "code",
      "source": [
        "import matplotlib.pyplot as plt\n",
        "\n",
        "t = range(number_epochs)\n",
        "plt.plot(t,epoch_loss,'r--')\n",
        "plt.ylabel('Loss')\n",
        "plt.xlabel('Epoch')\n",
        "plt.title('Epoch loss for training') \n",
        "plt.show()"
      ],
      "execution_count": 13,
      "outputs": [
        {
          "output_type": "display_data",
          "data": {
            "image/png": "[encoded data removed]",
            "text/plain": [
              "<Figure size 576x396 with 1 Axes>"
            ]
          },
          "metadata": {
            "tags": []
          }
        }
      ]
    },
    {
      "metadata": {
        "id": "evgVriqsXN7Q",
        "colab_type": "text"
      },
      "cell_type": "markdown",
      "source": [
        "### Ejemplos de resultado\n",
        "\n",
        "Es recomendable repasar los resultados obtenidos tanto gráficamente como estadísticamente.\n",
        "\n",
        "Primero, seleccionamos algunos datos y visualmente verificamos errores:\n"
      ]
    },
    {
      "metadata": {
        "id": "79GFRR-XQjdc",
        "colab_type": "code",
        "colab": {
          "base_uri": "https://localhost:8080/",
          "height": 198
        },
        "outputId": "01189f8d-585b-4193-b16f-1f1201794caa"
      },
      "cell_type": "code",
      "source": [
        "import torchvision\n",
        "\n",
        "# function to show an image\n",
        "def imshow(img):\n",
        "    #img = img / 2 + 0.5  # unnormalize if normalization is done in transform\n",
        "    npimg = img.numpy()\n",
        "    plt.imshow(np.transpose(npimg, (1, 2, 0)))\n",
        "    \n",
        "#get sample data\n",
        "images, labels = iter(dataloaders['val']).next()\n",
        "   \n",
        "# print images\n",
        "imshow(torchvision.utils.make_grid(images))\n",
        "print('GroundTruth: ', ' '.join('%5s' % class_names[labels[j]] for j in range(batch_size)))\n",
        "\n",
        "outputs = net(Variable(images))\n",
        "_, predicted = torch.max(outputs.data, 1)\n",
        "\n",
        "print('Predicted: ', ' '.join('%5s' % class_names[predicted[j]] for j in range(batch_size)))"
      ],
      "execution_count": 14,
      "outputs": [
        {
          "output_type": "stream",
          "text": [
            "('GroundTruth: ', 'OpenCountry Forest Highway Street')\n",
            "('Predicted: ', 'Coast Mountain OpenCountry Street')\n"
          ],
          "name": "stdout"
        },
        {
          "output_type": "display_data",
          "data": {
            "image/png": "[encoded data removed]",
            "text/plain": [
              "<Figure size 576x396 with 1 Axes>"
            ]
          },
          "metadata": {
            "tags": []
          }
        }
      ]
    },
    {
      "metadata": {
        "id": "h7fYSZtMXdY-",
        "colab_type": "text"
      },
      "cell_type": "markdown",
      "source": [
        "Posteriormente estudiamos los resultados para cada clase"
      ]
    },
    {
      "metadata": {
        "id": "Z6Qgu3X0QtIL",
        "colab_type": "code",
        "colab": {
          "base_uri": "https://localhost:8080/",
          "height": 289
        },
        "outputId": "f6a0c85e-c088-47bc-934b-0ccc7d10e351"
      },
      "cell_type": "code",
      "source": [
        "class_correct = list(0. for i in range(len(class_names)))\n",
        "class_total = list(0. for i in range(len(class_names)))\n",
        "for data in dataloaders['val']:\n",
        "    images, labels = data\n",
        "    outputs = net(Variable(images))\n",
        "    _, predicted = torch.max(outputs.data, 1)\n",
        "    c = (predicted == labels).squeeze()\n",
        "    for i in range(len(labels)):\n",
        "        label = labels[i]\n",
        "        class_correct[label] += c[i]\n",
        "        class_total[label] += 1\n",
        "\n",
        "class_totalT = 0\n",
        "for i in range(len(class_names)):\n",
        "    print('Accuracy of %5s : %2d %%' % (class_names[i], 100 * class_correct[i] / class_total[i]))\n",
        "    class_totalT += class_total[i]\n",
        "print('Total test data = %d images' % (class_totalT))"
      ],
      "execution_count": 15,
      "outputs": [
        {
          "output_type": "stream",
          "text": [
            "Accuracy of Bedroom : 34 %\n",
            "Accuracy of Coast : 35 %\n",
            "Accuracy of Forest : 31 %\n",
            "Accuracy of Highway : 61 %\n",
            "Accuracy of Industrial : 17 %\n",
            "Accuracy of InsideCity :  5 %\n",
            "Accuracy of Kitchen : 19 %\n",
            "Accuracy of LivingRoom : 38 %\n",
            "Accuracy of Mountain : 37 %\n",
            "Accuracy of Office : 25 %\n",
            "Accuracy of OpenCountry : 25 %\n",
            "Accuracy of Store :  3 %\n",
            "Accuracy of Street : 43 %\n",
            "Accuracy of Suburb : 49 %\n",
            "Accuracy of TallBuilding : 48 %\n",
            "Total test data = 2985 images\n"
          ],
          "name": "stdout"
        }
      ]
    }
  ]
}