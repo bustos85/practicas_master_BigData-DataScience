{
  "nbformat": 4,
  "nbformat_minor": 0,
  "metadata": {
    "colab": {
      "name": "3_network_josemanuelbustos_santiagomartinez.ipynb",
      "version": "0.3.2",
      "provenance": [],
      "collapsed_sections": [],
      "toc_visible": true
    },
    "kernelspec": {
      "name": "python2",
      "display_name": "Python 2"
    },
    "accelerator": "GPU"
  },
  "cells": [
    {
      "metadata": {
        "id": "MbrPXkSGlcmB",
        "colab_type": "text"
      },
      "cell_type": "markdown",
      "source": [
        "#Máster en Big Data y Data Science: Ciencia e Ingeniería de Datos\n",
        "### ASIGNATURA: Indexación, búsqueda y análisis en repositorios multimedia\n",
        "### PARTE: Multimedia (imagen, video)\n",
        "### Práctica 1: Introducción al diseño de redes neuronales convolucionales con Pytorch mediante Google Colaboratory\n",
        "\n",
        "---\n",
        "\n",
        "Autor: Juan C. SanMiguel (juancarlos.sanmiguel@uam.es), Universidad Autónoma de Madrid"
      ]
    },
    {
      "metadata": {
        "id": "H7_EXhmb8zwb",
        "colab_type": "text"
      },
      "cell_type": "markdown",
      "source": [
        "# 3. Definición de la red neuronal convolucional"
      ]
    },
    {
      "metadata": {
        "id": "9zoOE4V7l5tS",
        "colab_type": "text"
      },
      "cell_type": "markdown",
      "source": [
        "## Preparación del entorno de trabajo\n",
        "\n",
        "A continuación tiene un conjunto de instrucciones que instalan el software necesario para esta parte de la práctica.\n",
        "\n",
        "Para ello se proporciona un fichero *utils.zip* que contiene ficheros y utilidades necesarios."
      ]
    },
    {
      "metadata": {
        "id": "Dm_31ZAnl8wl",
        "colab_type": "code",
        "outputId": "64e6c69d-cf1d-442f-dec1-72e5bc26a548",
        "colab": {
          "base_uri": "https://localhost:8080/",
          "height": 768
        }
      },
      "cell_type": "code",
      "source": [
        "!wget http://www-vpu.eps.uam.es/~jcs/pub/utils.zip #download utils\n",
        "!unzip -o -q utils.zip -d . #unzip file\n",
        "\n",
        "#install software requirements (pytorch, pillow, google-drive-ocamlfuse)\n",
        "!pip install -r ./utils/requirements.txt"
      ],
      "execution_count": 0,
      "outputs": [
        {
          "output_type": "stream",
          "text": [
            "--2019-02-09 10:26:11--  http://www-vpu.eps.uam.es/~jcs/pub/utils.zip\n",
            "Resolving www-vpu.eps.uam.es (www-vpu.eps.uam.es)... 150.244.57.170\n",
            "Connecting to www-vpu.eps.uam.es (www-vpu.eps.uam.es)|150.244.57.170|:80... connected.\n",
            "HTTP request sent, awaiting response... 200 OK\n",
            "Length: 2404 (2.3K) [application/zip]\n",
            "Saving to: ‘utils.zip’\n",
            "\n",
            "utils.zip           100%[===================>]   2.35K  --.-KB/s    in 0s      \n",
            "\n",
            "2019-02-09 10:26:11 (145 MB/s) - ‘utils.zip’ saved [2404/2404]\n",
            "\n",
            "Collecting torch==0.3.1 from http://download.pytorch.org/whl/cpu/torch-0.3.1-cp27-cp27mu-linux_x86_64.whl (from -r ./utils/requirements.txt (line 2))\n",
            "\u001b[?25l  Downloading http://download.pytorch.org/whl/cpu/torch-0.3.1-cp27-cp27mu-linux_x86_64.whl (47.2MB)\n",
            "\u001b[K    100% |████████████████████████████████| 47.2MB 59.7MB/s \n",
            "\u001b[?25hRequirement already satisfied: torchvision in /usr/local/lib/python2.7/dist-packages (from -r ./utils/requirements.txt (line 8)) (0.2.1)\n",
            "Collecting Pillow==5.0.0 (from -r ./utils/requirements.txt (line 11))\n",
            "\u001b[?25l  Downloading https://files.pythonhosted.org/packages/89/bd/1d9a10f3e8157b7df275740b0782a892a0db387f8286620110c41e5146c7/Pillow-5.0.0-cp27-cp27mu-manylinux1_x86_64.whl (5.8MB)\n",
            "\u001b[K    100% |████████████████████████████████| 5.9MB 5.3MB/s \n",
            "\u001b[?25hRequirement already satisfied: matplotlib in /usr/local/lib/python2.7/dist-packages (from -r ./utils/requirements.txt (line 13)) (2.2.3)\n",
            "Requirement already satisfied: numpy in /usr/local/lib/python2.7/dist-packages (from torch==0.3.1->-r ./utils/requirements.txt (line 2)) (1.14.6)\n",
            "Requirement already satisfied: pyyaml in /usr/local/lib/python2.7/dist-packages (from torch==0.3.1->-r ./utils/requirements.txt (line 2)) (3.13)\n",
            "Requirement already satisfied: six in /usr/local/lib/python2.7/dist-packages (from torchvision->-r ./utils/requirements.txt (line 8)) (1.11.0)\n",
            "Requirement already satisfied: cycler>=0.10 in /usr/local/lib/python2.7/dist-packages (from matplotlib->-r ./utils/requirements.txt (line 13)) (0.10.0)\n",
            "Requirement already satisfied: backports.functools-lru-cache in /usr/local/lib/python2.7/dist-packages (from matplotlib->-r ./utils/requirements.txt (line 13)) (1.5)\n",
            "Requirement already satisfied: subprocess32 in /usr/local/lib/python2.7/dist-packages (from matplotlib->-r ./utils/requirements.txt (line 13)) (3.5.3)\n",
            "Requirement already satisfied: kiwisolver>=1.0.1 in /usr/local/lib/python2.7/dist-packages (from matplotlib->-r ./utils/requirements.txt (line 13)) (1.0.1)\n",
            "Requirement already satisfied: pytz in /usr/local/lib/python2.7/dist-packages (from matplotlib->-r ./utils/requirements.txt (line 13)) (2018.9)\n",
            "Requirement already satisfied: python-dateutil>=2.1 in /usr/local/lib/python2.7/dist-packages (from matplotlib->-r ./utils/requirements.txt (line 13)) (2.5.3)\n",
            "Requirement already satisfied: pyparsing!=2.0.4,!=2.1.2,!=2.1.6,>=2.0.1 in /usr/local/lib/python2.7/dist-packages (from matplotlib->-r ./utils/requirements.txt (line 13)) (2.3.1)\n",
            "Requirement already satisfied: setuptools in /usr/local/lib/python2.7/dist-packages (from kiwisolver>=1.0.1->matplotlib->-r ./utils/requirements.txt (line 13)) (40.8.0)\n",
            "Installing collected packages: torch, Pillow\n",
            "  Found existing installation: torch 1.0.0\n",
            "    Uninstalling torch-1.0.0:\n",
            "      Successfully uninstalled torch-1.0.0\n",
            "  Found existing installation: Pillow 4.0.0\n",
            "    Uninstalling Pillow-4.0.0:\n",
            "      Successfully uninstalled Pillow-4.0.0\n",
            "Successfully installed Pillow-5.0.0 torch-0.3.1\n"
          ],
          "name": "stdout"
        },
        {
          "output_type": "display_data",
          "data": {
            "application/vnd.colab-display-data+json": {
              "pip_warning": {
                "packages": [
                  "PIL"
                ]
              }
            }
          },
          "metadata": {
            "tags": []
          }
        }
      ]
    },
    {
      "metadata": {
        "id": "2vqnHhs1cUOJ",
        "colab_type": "text"
      },
      "cell_type": "markdown",
      "source": [
        "## Red Convolucional Neuronal (CNN)\n",
        "\n",
        "En esta parte vamos a describir los elementos básicos para definir una red neuronal de tipo *feed-forward*. Este tipo de redes toman una serie de datos de entrada (*input*), éstos son procesados por una serie de capas (*layers*) de manera secuencial y finalmente se genera una salida (*output*) relacionada con la tarea a resolver.\n",
        "\n",
        "En general, para definir la mayoría de redes convolucionales necesitamos conocer los siguientes pasos:\n",
        "\n",
        "*   Definir la estructura de la red, que tendrá algunos parámetros entrenables (i.e. *weights*).\n",
        "*   Definir la secuencia de procesado de los datos para obtener una salida (i.e. *forward pass*).\n",
        "*   Calcular la función de pérdidas que indique la precisión de la salida con respecto a nuestras anotaciones (i.e. *loss function*).\n",
        "*   Calcular los gradientes de retropropagación ejecutando en modo inverso la red (i.e. *backward propagation*)\n",
        "*   Actualización de los parámetros de la red acorde a los gradientes anteriores\n",
        "\n",
        "En esta parte, vamos a tomar como ejemplo la red LENET http://yann.lecun.com/exdb/lenet/ cuya estructura se visualiza a continuacion:\n",
        "\n",
        "\n",
        "![alt text](http://pytorch.org/tutorials/_images/mnist.png)"
      ]
    },
    {
      "metadata": {
        "id": "K05iyB_ykEjj",
        "colab_type": "text"
      },
      "cell_type": "markdown",
      "source": [
        "### Capas de una red (layers)\n",
        "Para definir las capas una red, Pytorch hace uso del paquete ``torch.nn``.\n",
        "\n",
        "Primeramente podemos definir *capas convolucionales 2D* mediante la función ``nn.Conv2d`` que tiene los principales argumentos:\n",
        "*   **in_channels**: valor para la tercera dimension del tensor de entrada (e.g. 3 para imágenes RGB, 1 para imágenes en Gris). \n",
        "*   **out_channels**: número de mapas de salida (i.e. número de convoluciones o *kernels* que aplicamos sobre los datos de entrada).\n",
        "*   **kernel_size**: tamaño del *kernel* aplicado (tamaño x tamaño)\n",
        "*   **stride**: desplazamiento de la aplicación del operador de convolución\n",
        "*   **padding**: tipo de padding applicado"
      ]
    },
    {
      "metadata": {
        "id": "FOqUpwekkyQZ",
        "colab_type": "code",
        "outputId": "26fcae9c-6c23-4fe2-9721-24f74eadaaff",
        "colab": {
          "base_uri": "https://localhost:8080/",
          "height": 34
        }
      },
      "cell_type": "code",
      "source": [
        "import torch.nn as nn\n",
        "\n",
        "conv1 = nn.Conv2d(1, out_channels=6, kernel_size=5, stride=1, padding=0)\n",
        "\n",
        "print(conv1)"
      ],
      "execution_count": 0,
      "outputs": [
        {
          "output_type": "stream",
          "text": [
            "Conv2d(1, 6, kernel_size=(5, 5), stride=(1, 1))\n"
          ],
          "name": "stdout"
        }
      ]
    },
    {
      "metadata": {
        "id": "aJIlDKF2l5lZ",
        "colab_type": "text"
      },
      "cell_type": "markdown",
      "source": [
        "Posteriormente tenemos *capas con conexión completa* (*fully connected*) mediante la función ``nn.Linear``. Como comparación con la capa convolucional, en esta se asume que todas los datos de entrada están conectados a todos los datos de salida, hecho que aumenta significativamente el número de parámetros. La función tiene los principales argumentos:\n",
        "*   **in_features**: numero de unidades de entrada. \n",
        "*   **out_features**: numero de unidades de entrada"
      ]
    },
    {
      "metadata": {
        "id": "KcjtXoj6mQHZ",
        "colab_type": "code",
        "outputId": "5f1a7372-e657-46d9-c8e2-8da6bc96b2c8",
        "colab": {
          "base_uri": "https://localhost:8080/",
          "height": 34
        }
      },
      "cell_type": "code",
      "source": [
        "import torch.nn as nn\n",
        "\n",
        "fc1 = nn.Linear(in_features=240, out_features=120)\n",
        "\n",
        "print(fc1)"
      ],
      "execution_count": 0,
      "outputs": [
        {
          "output_type": "stream",
          "text": [
            "Linear(in_features=240, out_features=120, bias=True)\n"
          ],
          "name": "stdout"
        }
      ]
    },
    {
      "metadata": {
        "id": "xnPxR0_nmutN",
        "colab_type": "text"
      },
      "cell_type": "markdown",
      "source": [
        "También exite una etapa dedicada a reducir la dimensionalidad de los datos, cuya nomenclatura es ``nn.MaxPool2d``. Tiene los siguientes argumentos de interés:\n",
        "\n",
        "*   **kernel_size**: tamaño del *kernel* aplicado (tamaño x tamaño)\n",
        "*   **stride**: desplazamiento de la aplicación del operador de convolución\n",
        "*   **padding**: tipo de padding applicado\n",
        "\n",
        "Es importante resaltar el efecto de esta etapa. Por ejemplo con *kernel_size=2* y *stride=2*, estaremos reduciendo la dimensionalidad de la imagen por dos.\n"
      ]
    },
    {
      "metadata": {
        "id": "H9q5LZ3DnLry",
        "colab_type": "code",
        "outputId": "b7a70c87-2fae-49ac-fa00-55ea62138908",
        "colab": {
          "base_uri": "https://localhost:8080/",
          "height": 34
        }
      },
      "cell_type": "code",
      "source": [
        "import torch.nn as nn\n",
        "\n",
        "pool1 = nn.MaxPool2d(kernel_size=2, stride=2, padding=0)\n",
        "\n",
        "print(pool1)"
      ],
      "execution_count": 0,
      "outputs": [
        {
          "output_type": "stream",
          "text": [
            "MaxPool2d(kernel_size=(2, 2), stride=(2, 2), dilation=(1, 1), ceil_mode=False)\n"
          ],
          "name": "stdout"
        }
      ]
    },
    {
      "metadata": {
        "id": "3w9gOWoBoKjW",
        "colab_type": "text"
      },
      "cell_type": "markdown",
      "source": [
        "Por último se destaca la operación de activación, implementada mayoritariamente mediante funciones ``ReLU``. En el siguiente código se encuentra comentada debido a que, para ser efectiva, necesita datos 'x' a procesar. Estos datos 'x' se corresponderán con tensor, que no utilizan/cargan en el siguiente bloque de código."
      ]
    },
    {
      "metadata": {
        "id": "WdBqua3OoY5m",
        "colab_type": "code",
        "outputId": "90aa6eb8-a69e-4343-9bbf-fce3ab8794a3",
        "colab": {
          "base_uri": "https://localhost:8080/",
          "height": 34
        }
      },
      "cell_type": "code",
      "source": [
        "import torch.nn as nn\n",
        "import torch.nn.functional as F\n",
        "\n",
        "fc1 = nn.Linear(in_features=240, out_features=120)\n",
        "#x = F.relu(fc1(x)) #fc1(x) corresponde con aplicar la capa fc1 a unos datos 'x'\n",
        "\n",
        "print(fc1)"
      ],
      "execution_count": 0,
      "outputs": [
        {
          "output_type": "stream",
          "text": [
            "Linear(in_features=240, out_features=120, bias=True)\n"
          ],
          "name": "stdout"
        }
      ]
    },
    {
      "metadata": {
        "id": "yW-MovTyk3-q",
        "colab_type": "text"
      },
      "cell_type": "markdown",
      "source": [
        "### Definición red completa\n",
        "Tras las definiciones anteriores, estamos en condición de mostrar un esquema de la red LENET. \n",
        "\n",
        "Una definición básica requiere (al menos) implementar dos funciones:\n",
        "\n",
        "\n",
        "*   **__init__(self)**: indica el tipo de capas existentes en la red\n",
        "*   **forward**: indica el flujo de datos, es decir, la secuencia de ejecución cuando llegan nuevos datos a la entrada.\n",
        "\n"
      ]
    },
    {
      "metadata": {
        "id": "1l7o03z8kD1m",
        "colab_type": "code",
        "colab": {}
      },
      "cell_type": "code",
      "source": [
        "import torch\n",
        "from torch.autograd import Variable\n",
        "import torch.nn as nn\n",
        "import torch.nn.functional as F\n",
        "\n",
        "class Net(nn.Module):\n",
        "\n",
        "    def __init__(self):\n",
        "        super(Net, self).__init__()\n",
        "        \n",
        "        # Convolutional layer 1\n",
        "        # 1-channel input image, 6 output channels, 5x5 square convolution \n",
        "        self.conv1 = nn.Conv2d(1, out_channels=6, kernel_size=5, stride=1, padding=0)\n",
        "        \n",
        "        # Max pooling over a (2, 2) window\n",
        "        self.pool = nn.MaxPool2d(kernel_size=2, stride=2, padding=0)\n",
        "        \n",
        "        # Convolutional layer 2\n",
        "        # 6-channel input data, 16 output channels, 5x5 square convolution \n",
        "        self.conv2 = nn.Conv2d(in_channels=6, out_channels=16, kernel_size=5) \n",
        "        \n",
        "        # Fully connected neural network layers \n",
        "        # implement an affine operation: y = Wx + b\n",
        "        # where x-input\n",
        "        #       y-output\n",
        "        #       W-weights\n",
        "        #       b-bias\n",
        "        self.fc1 = nn.Linear(16 * 5 * 5, 120) #fully connected layer 1\n",
        "        self.fc2 = nn.Linear(120, 84)         #fully connected layer 2\n",
        "        self.fc3 = nn.Linear(84, 10)          #fully connected layer 3\n",
        "        \n",
        "        #weight initializacion\n",
        "        #...\n",
        "\n",
        "    def forward(self, x):\n",
        "      \n",
        "        #layer 1: conv + ReLU + pooling\n",
        "        x = self.pool(F.relu(self.conv1(x)))\n",
        "        #x = F.max_pool2d(F.relu(self.conv1(x)), (2, 2)) # definicion alternativa\n",
        "\n",
        "        #layer 2: conv + ReLU + pooling\n",
        "        x = self.pool(F.relu(self.conv2(x)))\n",
        "        #x = F.max_pool2d(F.relu(self.conv2(x)), 2) #  definicion alternativa\n",
        "\n",
        "        #flatten data: convert 2D data into a 1D column vector\n",
        "        x = x.view(-1, 16 * 5 * 5)\n",
        "        \n",
        "        #layer 3: fully connected\n",
        "        x = F.relu(self.fc1(x))\n",
        "        \n",
        "        #layer 4: fully connected\n",
        "        x = F.relu(self.fc2(x))\n",
        "        \n",
        "        #layer 5: fully connected\n",
        "        x = self.fc3(x)\n",
        "        return x"
      ],
      "execution_count": 0,
      "outputs": []
    },
    {
      "metadata": {
        "id": "92BcHzrjqjvY",
        "colab_type": "text"
      },
      "cell_type": "markdown",
      "source": [
        "NOTA1: observe que *out_channels* de la capa ``conv1`` debe coincidir con la variable *in_channels* de la capa ``conv2``.\n",
        "\n",
        "NOTA2: similarmente, la salida de la capa ``fc1`` coincide con la entrada de la capa ``fc2``, cuya salida tambien coincide con la entrada de la capa ``fc3``\n",
        "\n",
        "NOTA3: observe que la salida de la capa ``fc3`` es 10, el número de clases del problema de clasificación que se quiere resolver con la red LENET\n",
        "\n",
        "\n",
        "Por último, para utilizar esta red debemos crear un objeto de ella:"
      ]
    },
    {
      "metadata": {
        "id": "zCkgCBrxqksQ",
        "colab_type": "code",
        "colab": {}
      },
      "cell_type": "code",
      "source": [
        "net = Net()"
      ],
      "execution_count": 0,
      "outputs": []
    },
    {
      "metadata": {
        "id": "xNrNgG6gqxm0",
        "colab_type": "text"
      },
      "cell_type": "markdown",
      "source": [
        "Adicionalmente podemos las capas que componen la red creada"
      ]
    },
    {
      "metadata": {
        "id": "LCAflIStq2ga",
        "colab_type": "code",
        "outputId": "988afbe6-1b0c-4ac7-a14a-a7f15e8dec8e",
        "colab": {
          "base_uri": "https://localhost:8080/",
          "height": 153
        }
      },
      "cell_type": "code",
      "source": [
        "print(net)"
      ],
      "execution_count": 0,
      "outputs": [
        {
          "output_type": "stream",
          "text": [
            "Net(\n",
            "  (conv1): Conv2d(1, 6, kernel_size=(5, 5), stride=(1, 1))\n",
            "  (pool): MaxPool2d(kernel_size=(2, 2), stride=(2, 2), dilation=(1, 1), ceil_mode=False)\n",
            "  (conv2): Conv2d(6, 16, kernel_size=(5, 5), stride=(1, 1))\n",
            "  (fc1): Linear(in_features=400, out_features=120, bias=True)\n",
            "  (fc2): Linear(in_features=120, out_features=84, bias=True)\n",
            "  (fc3): Linear(in_features=84, out_features=10, bias=True)\n",
            ")\n"
          ],
          "name": "stdout"
        }
      ]
    },
    {
      "metadata": {
        "id": "ssmo9JBssNzA",
        "colab_type": "text"
      },
      "cell_type": "markdown",
      "source": [
        "Y también podemos ver los parámetros que se pueden aprender mediante entrenamiento."
      ]
    },
    {
      "metadata": {
        "id": "4SaimAl7sTqz",
        "colab_type": "code",
        "outputId": "420d758c-965c-439e-96d5-3d6279b4c4f8",
        "colab": {
          "base_uri": "https://localhost:8080/",
          "height": 119
        }
      },
      "cell_type": "code",
      "source": [
        "params = list(net.parameters())\n",
        "print(len(params))\n",
        "print(params[0].size())  # conv1's .weight\n",
        "print(params[2].size())  # conv2's .weight\n",
        "print(params[4].size())  # fc1's .weight\n",
        "print(params[6].size())  # fc2's .weight\n",
        "print(params[8].size())  # fc3's .weight"
      ],
      "execution_count": 0,
      "outputs": [
        {
          "output_type": "stream",
          "text": [
            "10\n",
            "torch.Size([6, 1, 5, 5])\n",
            "torch.Size([16, 6, 5, 5])\n",
            "torch.Size([120, 400])\n",
            "torch.Size([84, 120])\n",
            "torch.Size([10, 84])\n"
          ],
          "name": "stdout"
        }
      ]
    },
    {
      "metadata": {
        "id": "SUkD4nHDsgSX",
        "colab_type": "text"
      },
      "cell_type": "markdown",
      "source": [
        "### Ejecución (forward pass)\n",
        "\n",
        "La ejecución de una red es sencilla:"
      ]
    },
    {
      "metadata": {
        "id": "QT5b9VrOslRW",
        "colab_type": "code",
        "outputId": "3b93cd45-d2ea-47e5-e1a7-7532f1314202",
        "colab": {
          "base_uri": "https://localhost:8080/",
          "height": 85
        }
      },
      "cell_type": "code",
      "source": [
        "from torch.autograd import Variable\n",
        "\n",
        "#create random data with 32x32 dimenssions\n",
        "input = Variable(torch.randn(1, 1, 32, 32))\n",
        "\n",
        "#process the data with the network\n",
        "out = net(input)\n",
        "\n",
        "#visualize network output\n",
        "print(out)"
      ],
      "execution_count": 0,
      "outputs": [
        {
          "output_type": "stream",
          "text": [
            "Variable containing:\n",
            "-0.0250 -0.0101 -0.0474  0.1302 -0.0032  0.0205  0.1075 -0.0810 -0.0822  0.0782\n",
            "[torch.FloatTensor of size 1x10]\n",
            "\n"
          ],
          "name": "stdout"
        }
      ]
    },
    {
      "metadata": {
        "id": "JRmZxod7tjPX",
        "colab_type": "text"
      },
      "cell_type": "markdown",
      "source": [
        "Cuando deba ejecutar su red, considere los siguientes puntos:\n",
        "\n",
        "\n",
        "*   Tamaño de entrada esperado: la red que acabamos de definir (Lenet) procesa imágenes de tamaño 32x32. Es decir, si quiere utilizar otro dataset deberá redimensionar las imágenes de entrada.\n",
        "*   *torch.nn* solamente procesa mini-batches de datos/imágenes (no imágenes individuales). Por ejemplo la función *nn.Conv2d* toma como entrada un tensor 4D ``nSamples x nChannels x Height x Width``\n",
        "*   La función **Variable** convierte los datos a procesar (tensores) en estructuras enriquecidas que permiten funcionalidades avanzadas (e.g. historial operaciones).\n",
        "\n",
        "```\n",
        "# This is formatted as code\n",
        "```\n",
        "\n",
        " "
      ]
    },
    {
      "metadata": {
        "id": "Cm72BAOKs_Yq",
        "colab_type": "code",
        "colab": {}
      },
      "cell_type": "code",
      "source": [
        "net.zero_grad()\n",
        "out.backward(torch.randn(1, 10))"
      ],
      "execution_count": 0,
      "outputs": []
    },
    {
      "metadata": {
        "id": "vBI7veQJuwFb",
        "colab_type": "text"
      },
      "cell_type": "markdown",
      "source": [
        "### Función de pérdidas (loss function)\n",
        "\n",
        "Una función de pérdida toma el par de entradas (salida, objetivo) y calcula un valor que calcula qué tan lejos está la salida del objetivo. Existen varias [funciones de pérdida](http://pytorch.org/docs/nn.html#loss-functions) en el paquete *nn*.\n",
        "\n",
        "Una pérdida simple es: `` nn.MSELoss`` que calcula el error cuadrático medio entre la entrada y el objetivo.\n",
        "Una pérdida simple es: `` nn.CrossEntropyLoss`` que calcula el error entropía cruzada entre la entrada y el objetivo.\n",
        "\n",
        "A continuación se muestra un ejemplo de ejecución\n"
      ]
    },
    {
      "metadata": {
        "id": "JFCOWcBNu4QQ",
        "colab_type": "code",
        "outputId": "e0c50882-0c0a-4ccd-e3bf-401fc87a75ee",
        "colab": {
          "base_uri": "https://localhost:8080/",
          "height": 85
        }
      },
      "cell_type": "code",
      "source": [
        "#generate fake input/output\n",
        "output = net(input)\n",
        "target = Variable(torch.arange(1, 11))  # a dummy target, for example\n",
        "\n",
        "#define criterion for loss function\n",
        "criterion = nn.MSELoss()\n",
        "\n",
        "#apply loss function\n",
        "loss = criterion(output, target)\n",
        "print(loss)"
      ],
      "execution_count": 0,
      "outputs": [
        {
          "output_type": "stream",
          "text": [
            "Variable containing:\n",
            " 38.3877\n",
            "[torch.FloatTensor of size 1]\n",
            "\n"
          ],
          "name": "stdout"
        }
      ]
    },
    {
      "metadata": {
        "id": "K70IjjOFs_C2",
        "colab_type": "text"
      },
      "cell_type": "markdown",
      "source": [
        "### Retropropagación (backpropagation)\n",
        "\n",
        "Para poder calcular el error cometido por la red en cada etapa, debemos ejecutar la red en modo inverso mediante la funcion `` loss.backward() ``. Esta función se calcular a partir de la función `` forward `` que hemos proporcionado en la definición de la red. \n",
        "\n",
        "Para retropropagar el error, han de seguirse los siguientes pasos:"
      ]
    },
    {
      "metadata": {
        "id": "PxhGvQfHxfKP",
        "colab_type": "code",
        "outputId": "5a0e12cf-1230-4172-e931-d1a2004a0443",
        "colab": {
          "base_uri": "https://localhost:8080/",
          "height": 374
        }
      },
      "cell_type": "code",
      "source": [
        "# You need to clear the existing gradients though, else gradients will be accumulated to existing gradients\n",
        "net.zero_grad()     # zeroes the gradient buffers of all parameters\n",
        "\n",
        "#have a look at conv1's bias gradients before and after the backward.\n",
        "print('conv1.bias.grad before backward')\n",
        "print(net.conv1.bias.grad)\n",
        "\n",
        "loss.backward()\n",
        "\n",
        "print('conv1.bias.grad after backward')\n",
        "print(net.conv1.bias.grad)"
      ],
      "execution_count": 0,
      "outputs": [
        {
          "output_type": "stream",
          "text": [
            "conv1.bias.grad before backward\n",
            "Variable containing:\n",
            " 0\n",
            " 0\n",
            " 0\n",
            " 0\n",
            " 0\n",
            " 0\n",
            "[torch.FloatTensor of size 6]\n",
            "\n",
            "conv1.bias.grad after backward\n",
            "Variable containing:\n",
            "1.00000e-02 *\n",
            " -1.6395\n",
            "  0.7217\n",
            "  8.5431\n",
            " -1.0702\n",
            " -6.5111\n",
            " -1.0680\n",
            "[torch.FloatTensor of size 6]\n",
            "\n"
          ],
          "name": "stdout"
        }
      ]
    },
    {
      "metadata": {
        "id": "FA1qm-42xs2l",
        "colab_type": "text"
      },
      "cell_type": "markdown",
      "source": [
        "### Actualización de parámetros/pesos (update the weights)\n",
        "\n",
        "En esta parte procedemos a explicar muy brevement el proceso de actualización de los pesos.\n",
        "\n",
        "Primeramente necesitamos una herramienta de optimización. La ténica más sencilla y comúnmente utilizada es el \"descenso estocástico por gradiente\" (Stochastic Gradient\n",
        "Descent, SGD):\n",
        "\n",
        "     ``weight = weight - learning_rate * gradient``\n",
        "     \n",
        "Que podemos implementar fácilmente en Python\n",
        "\n",
        "    learning_rate = 0.01\n",
        "    for f in net.parameters():\n",
        "        f.data.sub_(f.grad.data * learning_rate)\n",
        "        \n",
        "No obstante, existen otras aproximaciones para el proceso de optimización: SGD, Nesterov-SGD, Adam, RMSProp,... que están contenidas en el paquete ``torch.optim``. El siguiente código muestra un ejemplo de utilización del optimizador.\n"
      ]
    },
    {
      "metadata": {
        "id": "yuQ636VtxxPN",
        "colab_type": "code",
        "colab": {}
      },
      "cell_type": "code",
      "source": [
        "import torch.optim as optim\n",
        "\n",
        "# create your optimizer\n",
        "optimizer = optim.SGD(net.parameters(), lr=0.01)\n",
        "\n",
        "# in your training loop:\n",
        "optimizer.zero_grad()   # zero the gradient buffers\n",
        "output = net(input)\n",
        "loss = criterion(output, target)\n",
        "loss.backward()\n",
        "optimizer.step()    # Does the update"
      ],
      "execution_count": 0,
      "outputs": []
    },
    {
      "metadata": {
        "id": "PBllBDwhy8iS",
        "colab_type": "text"
      },
      "cell_type": "markdown",
      "source": [
        "## Bonus: definición de red con entrada genérica\n",
        "Como se ha comentado anteriormente, la red Lenet solamente puede trabajar con imágenes de gris y tamaño 32x32. En el siguiente bloque de código se muestra una adaptación de la red para procesar imágenes de mayor tamaño (en el ejemplo 224x224) y con varios canales de color (en el ejemplo 3). Observe que se ha añadido la función  ``_get_conv_output`` para calcular las dimensiones de los datos a la entrada de la capa fc1. "
      ]
    },
    {
      "metadata": {
        "id": "BmRjmTMtzE8g",
        "colab_type": "code",
        "colab": {}
      },
      "cell_type": "code",
      "source": [
        "#Original Lenet network\n",
        "#https://github.com/kuangliu/pytorch-cifar/tree/master/models\n",
        "\n",
        "#Possible extensions\n",
        "#https://discuss.pytorch.org/t/inferring-shape-via-flatten-operator/138/3\n",
        "#https://stackoverflow.com/questions/42479902/how-view-method-works-for-tensor-in-torch\n",
        "\n",
        "import torch.nn as nn\n",
        "import torch.nn.functional as F\n",
        "\n",
        "class Net(nn.Module):\n",
        "  \n",
        "    #define the structure of the network\n",
        "    def __init__(self, input_shape=(3, 224, 224),num_outputs=15):\n",
        "        super(Net, self).__init__()\n",
        "        # Convolutional layer - 3 input image channel, 6 output channels, 5x5 square convolution \n",
        "        self.conv1 = nn.Conv2d(in_channels=input_shape[0], out_channels=6, kernel_size=5, stride=1, padding=0)\n",
        "        \n",
        "        # Max pooling over a (2, 2) window\n",
        "        self.pool = nn.MaxPool2d(kernel_size=2, stride=2, padding=0)\n",
        "        \n",
        "        # Convolutional layer - 6 input data channel, 16 output channels, 5x5 square convolution \n",
        "        self.conv2 = nn.Conv2d(in_channels=6, out_channels=16, kernel_size=5)       \n",
        "\n",
        "        n_size = self._get_conv_output(input_shape)\n",
        "        \n",
        "        # Fully connected neural network layers       \n",
        "        self.fc1 = nn.Linear(in_features=n_size, out_features=120)\n",
        "        self.fc2 = nn.Linear(in_features=120,    out_features=84)\n",
        "        self.fc3 = nn.Linear(in_features=84,     out_features=num_outputs)\n",
        "\n",
        "    #define how data flows through the network\n",
        "    def forward(self, x):\n",
        "        x = self.pool(F.relu(self.conv1(x)))\n",
        "        x = self.pool(F.relu(self.conv2(x)))\n",
        "        \n",
        "        #The view function is meant to reshape the tensor (flatten operator).\n",
        "        x = x.view( x.size(0),-1)\n",
        "                \n",
        "        x = F.relu(self.fc1(x))\n",
        "        x = F.relu(self.fc2(x))\n",
        "        x = self.fc3(x)\n",
        "        return x \n",
        "        \n",
        "    def _get_conv_output(self, shape):\n",
        "        bs = 1\n",
        "        x = Variable(torch.rand(bs, *shape))\n",
        "        x = self.pool(F.relu(self.conv1(x)))\n",
        "        output_feat = self.pool(F.relu(self.conv2(x)))\n",
        "               \n",
        "        n_size = output_feat.data.view(bs, -1).size(1)\n",
        "        return n_size"
      ],
      "execution_count": 0,
      "outputs": []
    },
    {
      "metadata": {
        "id": "yx95-m6B1fX7",
        "colab_type": "text"
      },
      "cell_type": "markdown",
      "source": [
        "A continuación, podemos crear una red para un problema dado:"
      ]
    },
    {
      "metadata": {
        "id": "buKPAQwj1gYc",
        "colab_type": "code",
        "outputId": "bb0e20ec-501c-48e7-bb26-3a248f4a15c5",
        "colab": {
          "base_uri": "https://localhost:8080/",
          "height": 153
        }
      },
      "cell_type": "code",
      "source": [
        "class_names = ('clase1', 'clase2', 'clase3')\n",
        "\n",
        "#creamos una red con \n",
        "# input = imágenes RGB de tamaño 128x128\n",
        "# output = tres clases\n",
        "net = Net(input_shape=(3,128,128), num_outputs=len(class_names))\n",
        "  \n",
        "print(net)"
      ],
      "execution_count": 0,
      "outputs": [
        {
          "output_type": "stream",
          "text": [
            "Net(\n",
            "  (conv1): Conv2d(3, 6, kernel_size=(5, 5), stride=(1, 1))\n",
            "  (pool): MaxPool2d(kernel_size=(2, 2), stride=(2, 2), dilation=(1, 1), ceil_mode=False)\n",
            "  (conv2): Conv2d(6, 16, kernel_size=(5, 5), stride=(1, 1))\n",
            "  (fc1): Linear(in_features=13456, out_features=120, bias=True)\n",
            "  (fc2): Linear(in_features=120, out_features=84, bias=True)\n",
            "  (fc3): Linear(in_features=84, out_features=3, bias=True)\n",
            ")\n"
          ],
          "name": "stdout"
        }
      ]
    },
    {
      "metadata": {
        "id": "vlSreI5J1tcb",
        "colab_type": "text"
      },
      "cell_type": "markdown",
      "source": [
        "Si cambiamos el problema, las dimensiones de la red cambian como puede observarse tras ejecutar ``print``:"
      ]
    },
    {
      "metadata": {
        "id": "ip3gY-Ct1xZ1",
        "colab_type": "code",
        "outputId": "926fca77-f830-4bc6-91df-b0515aa08c82",
        "colab": {
          "base_uri": "https://localhost:8080/",
          "height": 153
        }
      },
      "cell_type": "code",
      "source": [
        "      \n",
        "classes = ('clase1', 'clase2', 'clase3', 'clase4', 'clase5')\n",
        "\n",
        "#creamos una red con \n",
        "# input = imágenes RGB de tamaño 128x128\n",
        "# output = tres clases\n",
        "net = Net(input_shape=(3,512,512), num_outputs=len(classes))\n",
        "  \n",
        "print(net)"
      ],
      "execution_count": 0,
      "outputs": [
        {
          "output_type": "stream",
          "text": [
            "Net(\n",
            "  (conv1): Conv2d(3, 6, kernel_size=(5, 5), stride=(1, 1))\n",
            "  (pool): MaxPool2d(kernel_size=(2, 2), stride=(2, 2), dilation=(1, 1), ceil_mode=False)\n",
            "  (conv2): Conv2d(6, 16, kernel_size=(5, 5), stride=(1, 1))\n",
            "  (fc1): Linear(in_features=250000, out_features=120, bias=True)\n",
            "  (fc2): Linear(in_features=120, out_features=84, bias=True)\n",
            "  (fc3): Linear(in_features=84, out_features=5, bias=True)\n",
            ")\n"
          ],
          "name": "stdout"
        }
      ]
    }
  ]
}