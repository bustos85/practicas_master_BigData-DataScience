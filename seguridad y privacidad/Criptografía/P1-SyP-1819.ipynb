{
 "cells": [
  {
   "cell_type": "markdown",
   "metadata": {},
   "source": [
    "<Table border=\"1\">\n",
    "<tr><td>\n",
    "<img alt=\"INTRO Seguridad y Privacidad Python\" title=\"INTRO Seguridad y Privacidad Python\" src=\"./Logo-UAM.gif\" width=\"300\">\n",
    "</td><td>\n",
    "<img alt=\"INTRO Seguridad y Privacidad Python\" title=\"INTRO Seguridad y Privacidad Python\" src=\"./logo_eps.gif\" width=\"300\">\n",
    "</td></tr>\n",
    "</table>"
   ]
  },
  {
   "cell_type": "markdown",
   "metadata": {},
   "source": [
    "# Seguridad y Privacidad - Master Big Data y Data Science - 2018/2019"
   ]
  },
  {
   "cell_type": "markdown",
   "metadata": {},
   "source": [
    "# Práctica 1: Tecnologías criptográficas para la protección de la seguridad y privacidad"
   ]
  },
  {
   "cell_type": "markdown",
   "metadata": {},
   "source": [
    "En esta práctica continua se estudiarán y analizarán algunas de las funciones criptográficas que existen a través de Python, que nos pueden proporcionar seguridad y privacidad.\n",
    "\n",
    "El paquete de Python que se utilizará es:\n",
    "\n",
    "[pycrypto](https://pypi.python.org/pypi/pycrypto): Es un paquete que tiene varias funciones criptográficas de cifrado y funciones hash. Si no estuviera instalado y al importar diese error, se sigue el siguiente procedimiento en vuestro computador:\n",
    "- Descargar de la página https://pypi.python.org/pypi/pycrypto el paquete \"pycrypto-2.6.1.tar.gz\"\n",
    "- Descomprimirlo, por ejemplo en el directorio de Documentos\n",
    "- En una \"shell\" de sistema colocarse en el directorio a través del comando \"cd c:\\Users\\frodrig\\Documents\\pycrypto-2.6.1\\\" \n",
    "- Allí ejecutar \"python setup.py install\"\n",
    "\n",
    "No obstante exiten otros paquetes en Python sobre criptofrafía que se están desarrollando muy rápidamente como [cryptography](https://pypi.python.org/pypi/cryptography). [Aquí](https://python.libhunt.com/project/cryptography/vs/pycrypto) podéis comparar los dos paquetes. De todas formas en las prácticas nosotros utilizaremos [pycrypto](https://pypi.python.org/pypi/pycrypto).\n"
   ]
  },
  {
   "cell_type": "markdown",
   "metadata": {},
   "source": [
    "## 1) Cifrados simétricos: DES"
   ]
  },
  {
   "cell_type": "code",
   "execution_count": 3,
   "metadata": {
    "collapsed": false,
    "scrolled": true
   },
   "outputs": [
    {
     "name": "stdout",
     "output_type": "stream",
     "text": [
      "('Mensaje plano -->', '22222221')\n",
      "('Mensaje cifrado -->', '6b?\\xf3mj\\t\\xfc')\n",
      "('Mensaje descifrado -->', '22222221')\n"
     ]
    }
   ],
   "source": [
    "# DES 64 bits clave y bloque, modo ECB,\n",
    "# Recordar que es un cifrado de bloques.\n",
    "# la librería  PycCypto soporta AES, ARC2, Blowfish, CAST, DES, DES3, IDEA, RC5\n",
    "from Crypto.Cipher import DES\n",
    "from Crypto import Random\n",
    "import base64 \n",
    "\n",
    "key = b'11111111'         # para expresar que son bytes ya que la codificacion en python es diferente,\n",
    "                          # por ejemplo el caracter S puede tener una codificación diferente en función del python y\n",
    "                          # la plataforma en la que se ejecute.\n",
    "cipher = DES.new(key, DES.MODE_ECB)\n",
    "msg = b'22222222' # bloque de 8 bytes\n",
    "print('Mensaje plano -->', msg)\n",
    "# Cifrado\n",
    "msgc = cipher.encrypt(msg)\n",
    "print('Mensaje cifrado -->', msgc)\n",
    "# Descifrado\n",
    "msgd = cipher.decrypt(msgc)\n",
    "print('Mensaje descifrado -->', msgd)"
   ]
  },
  {
   "cell_type": "code",
   "execution_count": 23,
   "metadata": {
    "collapsed": false
   },
   "outputs": [
    {
     "name": "stdout",
     "output_type": "stream",
     "text": [
      "('mensaje cifrado -->', \"\\xf9'\\x14\\xe8\\x0e\\x83.\\xdc\")\n",
      "�'\u0014�\u000e�.�\n",
      "f9:27:14:e8:e:83:2e:dc\n",
      "f9:27:14:e8:e:83:2e:dc\n"
     ]
    }
   ],
   "source": [
    "# Nota: en la salida de los mesajes cifrados, cuando el byte no se puede imprimir (por ejempo caracteres de control), \n",
    "# se pone en notacion hexadecimal: \\x??\n",
    "print('mensaje cifrado -->', msgc) # convierte a hexadecimal los no imprimibles\n",
    "print msgc # los no imprimibles saca �\n",
    "print(':'.join(hex(ord(x))[2:] for x in msgc)) # transforma tod la cadena a hexadecimal\n",
    "# Podemos hacer una funcion mínima sobre la marcha, lo que se llama función lambda: \n",
    "# In[1]: g = lambda x: x*2, In[2]: g(3), Out[1]: 6\n",
    "# Definición de la función lambda que combierte una cadena a hexadecimal.\n",
    "HEXA= lambda xx: ':'.join(hex(ord(x))[2:] for x in xx)\n",
    "print(HEXA(msgc))"
   ]
  },
  {
   "cell_type": "code",
   "execution_count": 37,
   "metadata": {
    "collapsed": false,
    "scrolled": false
   },
   "outputs": [
    {
     "name": "stdout",
     "output_type": "stream",
     "text": [
      "('IV -->', '\\x90U=\\xaa\\x07\\xf4\\x93\\xee')\n",
      "('Mensaje plano -->', '2222222233333333')\n",
      "('IV + Mensaje cifrado -->', '\\x90U=\\xaa\\x07\\xf4\\x93\\xee\\x07\\xf3\\xcf\\x8b\\xe5\\xa1\\x9e\\x0c\\x88\\xd4\\xed\\x8e\\x05\\x91\\\\\\xb6')\n",
      "-->\n",
      "-->\n",
      "Envio de mensaje cifrado por canal inseguro\n",
      "-->\n",
      "-->\n",
      "('Mensaje cifrado -->', '\\x07\\xf3\\xcf\\x8b\\xe5\\xa1\\x9e\\x0c\\x88\\xd4\\xed\\x8e\\x05\\x91\\\\\\xb6')\n",
      "('IV_enviado -->', '\\x90U=\\xaa\\x07\\xf4\\x93\\xee')\n",
      "('Mensaje descifrado -->', '2222222233333333')\n"
     ]
    }
   ],
   "source": [
    "# DES 64 bits clave y bloque, modo CFB\n",
    "# El objeto de cifrador tiene un estado interno cuando se utiliza en el modos de en cadenado como CBC, \n",
    "# por lo que si intenta cifrar el mismo texto con el mismo cifrador una vez más, obtendrá resultados diferentes. \n",
    "# Por lo tanto, hay que tener cudado cuidado de crear un nuevo objeto cifrador para cualquier trabajo de cifrado / descifrado.\n",
    "# También cuando desciframos tenemos que crear un nuevo objeto. Con este nuevo objeto de descifrado tenemos que utilizar el\n",
    "# IV adecuado y normalmente se pasa en linea, poniendolo al principio del mensaje cifrado.\n",
    "# \n",
    "from Crypto.Cipher import DES\n",
    "from Crypto import Random\n",
    "\n",
    "key = b'11111111'         # para expresar que son bytes ya que la codificacion en python es diferente,\n",
    "                          # por ejemplo el caracter S puede tener una codificación diferente en función del python y\n",
    "                          # la plataforma en la que se ejecute.\n",
    "iv = Random.new().read(DES.block_size)\n",
    "print('IV -->', iv)\n",
    "cipher1 = DES.new(key, DES.MODE_CFB, iv) # se crea un cifrador\n",
    "msg = b'2222222233333333' # 2 bloques de 8 bytes\n",
    "print('Mensaje plano -->', msg)\n",
    "# Cifrado, Emisor\n",
    "msgc = iv + cipher1.encrypt(msg) # El iv se añade al principio en el mensaje a enviar para luego al decifrar cogerlo\n",
    "print('IV + Mensaje cifrado -->', msgc)\n",
    "\n",
    "####\n",
    "####\n",
    "# Ahora el Emisor envia el mensaje por la red al Receptor\n",
    "print('-->')\n",
    "print('-->')\n",
    "print('Envio de mensaje cifrado por canal inseguro')\n",
    "print('-->')\n",
    "print('-->')\n",
    "####\n",
    "####\n",
    "\n",
    "# Descifrado, Receptor\n",
    "iv_enviado = msgc[:DES.block_size] # primero se saca el iv  del mensaje que estaba al principio\n",
    "cipher2 = DES.new(key, DES.MODE_CFB, iv_enviado) # se crea un nuevo cifrador \n",
    "solo_mensaje=msgc[DES.block_size:]\n",
    "print('Mensaje cifrado -->', solo_mensaje)\n",
    "msgd = cipher2.decrypt(solo_mensaje) # Deciframos el mensaje sin el iv\n",
    "print('IV_enviado -->', iv_enviado)\n",
    "print('Mensaje descifrado -->', msgd)"
   ]
  },
  {
   "cell_type": "markdown",
   "metadata": {},
   "source": [
    "## 2) Padding: ISO7816-4"
   ]
  },
  {
   "cell_type": "code",
   "execution_count": 74,
   "metadata": {
    "collapsed": false
   },
   "outputs": [
    {
     "data": {
      "text/plain": [
       "'11111\\x80\\x00\\x00'"
      ]
     },
     "execution_count": 74,
     "metadata": {},
     "output_type": "execute_result"
    }
   ],
   "source": [
    "# Un mecanismo de relleno definido en el ISO7816-4 es el siguiente: el primer byte del relleno es el\n",
    "# valor 0x80 y los bytes restantes del relleno están formados por ceros (0x00).\n",
    "# Vamos a hacer unas funciones para poner padding y quitarlo siguiendo este simple estándar\n",
    "\n",
    "# función que añade padding\n",
    "def rellena_datos(datos, tamano_bloque):\n",
    "    # devuelve datos si no se necsita rellenar\n",
    "    if len(datos) % tamano_bloque == 0: \n",
    "        return datos\n",
    "\n",
    "  \n",
    "    relleno_requerido     =  tamano_bloque - (len(datos) % tamano_bloque) # un 0x80 y (relleno_requerido - 1) 0x00\n",
    " \n",
    "    # formateo de cadenas en python: \"<FORMATO>\" % (<VALORES>)\n",
    "    # >>> \"Sus nombres son %s y %s.\"  % (\"Paco\", \"Sandra\")\n",
    "    # 'Sus nombres son Paco y Sandra.'\n",
    "    datos = '%s\\x80' % datos\n",
    "    datos = '%s%s' % (datos, '\\x00' * (relleno_requerido-1))\n",
    "\n",
    "    return datos\n",
    "\n",
    "# ejemplo\n",
    "rellena_datos('11111',8)\n"
   ]
  },
  {
   "cell_type": "code",
   "execution_count": 2,
   "metadata": {
    "collapsed": false
   },
   "outputs": [
    {
     "data": {
      "text/plain": [
       "'123456789'"
      ]
     },
     "execution_count": 2,
     "metadata": {},
     "output_type": "execute_result"
    }
   ],
   "source": [
    "# Función que quita el el padding de los datos descifrados\n",
    "def quita_relleno_datos(datos, tamano_bloque):\n",
    "    if not datos: \n",
    "        return datos\n",
    " \n",
    "    datos = datos.rstrip('\\x00') # quita todos los 0x00 del final de la cadena\n",
    "    datos = datos.rstrip('\\x80') # quita todos los 0x00 del final de la cadena\n",
    "    return datos\n",
    "\n",
    "    #if datos[-1] == '\\x80':\n",
    "    #    return datos[:-1]\n",
    "    #else:\n",
    "    #    return datos\n",
    "# ejemplo\n",
    "cadena=rellena_datos('123456789',8)\n",
    "quita_relleno_datos(cadena,8)"
   ]
  },
  {
   "cell_type": "markdown",
   "metadata": {},
   "source": [
    "## 3) Cifrados simétricos: AES"
   ]
  },
  {
   "cell_type": "code",
   "execution_count": 15,
   "metadata": {
    "collapsed": false
   },
   "outputs": [
    {
     "name": "stdout",
     "output_type": "stream",
     "text": [
      "('Mensaje plano -->', '2222222222222222')\n",
      "('Mensaje cifrado -->', '2\\x88\\xa9\\x84\\xdd\\x06\\xffX\\xe99`\\xb1\\xde\\xc5\\x0f\\x1e')\n",
      "('Mensaje descifrado -->', '2222222222222222')\n"
     ]
    }
   ],
   "source": [
    "# AES 128 bit bloque y 128 bits clave, modo ECB\n",
    "from Crypto.Cipher import AES\n",
    "from Crypto import Random\n",
    "# Definición de la función lambda que comvierte una cadena a hexadecimal.\n",
    "HEXA= lambda xx: ':'.join(hex(ord(x))[2:] for x in xx)\n",
    "\n",
    "key = b'1111111111111111' # para expresar que son bytes ya que la codificacion en python es diferente,\n",
    "                          # por ejemplo el caracter S puede tener una codificación diferente en función del python y\n",
    "                          # la plataforma en la que se ejecute.\n",
    "cipher = AES.new(key, AES.MODE_ECB)\n",
    "msg = b'2222222222222222' # Mensaje de 16 bytes\n",
    "print('Mensaje plano -->', msg)\n",
    "# Cifrado\n",
    "msgc = cipher.encrypt(msg)\n",
    "print('Mensaje cifrado -->', msgc)\n",
    "# Descifrado\n",
    "msgd = cipher.decrypt(msgc)\n",
    "print('Mensaje descifrado -->', msgd)"
   ]
  },
  {
   "cell_type": "code",
   "execution_count": 70,
   "metadata": {
    "collapsed": false,
    "scrolled": true
   },
   "outputs": [
    {
     "name": "stdout",
     "output_type": "stream",
     "text": [
      "('Mensaje plano -->', '2222222222222222333')\n",
      "('Mensaje plano con padding-->', '2222222222222222333\\x80\\x00\\x00\\x00\\x00\\x00\\x00\\x00\\x00\\x00\\x00\\x00\\x00')\n",
      "('Mensaje cifrado -->', '2\\x88\\xa9\\x84\\xdd\\x06\\xffX\\xe99`\\xb1\\xde\\xc5\\x0f\\x1e\\xc7_^\\xc7\\xea-\\xb8~\\x04\\x92\\xa0ZM3\\xf3\\x8e')\n",
      "('Mensaje descifrado sin quitar el padding-->', '2222222222222222333\\x80\\x00\\x00\\x00\\x00\\x00\\x00\\x00\\x00\\x00\\x00\\x00\\x00')\n",
      "('Mensaje descifrado quitando el padding-->', '2222222222222222333')\n"
     ]
    }
   ],
   "source": [
    "# AES 128 bit bloque y 128 bits clave, modo ECB, pero con necesidad de añadir padding\n",
    "from Crypto.Cipher import AES\n",
    "from Crypto import Random\n",
    "# Definición de la función lambda que comvierte una cadena a hexadecimal.\n",
    "HEXA= lambda xx: ':'.join(hex(ord(x))[2:] for x in xx)\n",
    "\n",
    "key = b'1111111111111111' # para expresar que son bytes ya que la codificacion en python es diferente,\n",
    "                          # por ejemplo el caracter S puede tener una codificación diferente en función del python y\n",
    "                          # la plataforma en la que se ejecute.\n",
    "cipher = AES.new(key, AES.MODE_ECB)\n",
    "msg = b'2222222222222222333' # Mensaje de 19 bytes\n",
    "print('Mensaje plano -->', msg)\n",
    "msg=rellena_datos(msg, AES.block_size)\n",
    "print('Mensaje plano con padding-->', msg)\n",
    "# Cifrado\n",
    "msgc = cipher.encrypt(msg)\n",
    "print('Mensaje cifrado -->', msgc)\n",
    "# Descifrado\n",
    "msgd = cipher.decrypt(msgc)\n",
    "print('Mensaje descifrado sin quitar el padding-->', msgd)\n",
    "msgd=quita_relleno_datos(msgd,AES.block_size)\n",
    "print('Mensaje descifrado quitando el padding-->', msgd)"
   ]
  },
  {
   "cell_type": "markdown",
   "metadata": {},
   "source": [
    "## Tu turno 1: Probar el padding en el algoritmo DES en modo ECB. Probar el AES con el modo de operación CFB. Probar el AES con tamaños de claves superiores a 128 en modo CFB. Probar el DES3 con el modo de operación CFB."
   ]
  },
  {
   "cell_type": "markdown",
   "metadata": {},
   "source": [
    "## 4) Cifrados de flujo: ARC4 (RC4)"
   ]
  },
  {
   "cell_type": "code",
   "execution_count": 38,
   "metadata": {
    "collapsed": false
   },
   "outputs": [
    {
     "name": "stdout",
     "output_type": "stream",
     "text": [
      "('clave elegida por el Emisor y Receptor -->', 'Very long and confidential key')\n",
      "('nonce generado -->', '18:b:1b:50:d7:ac:20:a7:31:e8:f8:e3:a1:ea:bc:7f')\n",
      "('Mensaje cifrado -->', \"\\x18\\x0b\\x1bP\\xd7\\xac \\xa71\\xe8\\xf8\\xe3\\xa1\\xea\\xbc\\x7f\\xd6\\x98\\xca\\x97\\r\\xa2\\xdd\\x94\\xe1\\xce&\\xc6\\n\\x107\\xfe#\\xfcf'\\x91\\xaf]\\xf9\\x17T\\x03\\xbe\\x1fT\\xac\\x11\\xf0%V\\x07\\xe6\\xf6yf\\x89\\xad\\x06\")\n",
      "-->\n",
      "-->\n",
      "Envio de mensaje cifrado por canal inseguro\n",
      "-->\n",
      "-->\n",
      "('nonce recibido, extra\\xc3\\xaddo del mensaje cifrado recibido -->', '18:b:1b:50:d7:ac:20:a7:31:e8:f8:e3:a1:ea:bc:7f')\n",
      "('Mensaje decifrado -->', 'Hola, quiero que me cifres en flujo con rc4')\n"
     ]
    }
   ],
   "source": [
    "# RC4, recordar que este algoritmo trabaja byte a byte, es decir el tamaño de bloque es un byte, y el modo es ECB\n",
    "# # la librería  PycCypto soporta RC4, XOR\n",
    "from Crypto.Cipher import ARC4\n",
    "from Crypto.Hash import SHA\n",
    "from Crypto import Random\n",
    "# Definición de la función lambda que comvierte una cadena a hexadecimal.\n",
    "HEXA= lambda xx: ':'.join(hex(ord(x))[2:] for x in xx)\n",
    "msg='Hola, quiero que me cifres en flujo con rc4'\n",
    "key = b'Very long and confidential key'\n",
    "print('clave elegida por el Emisor y Receptor -->',\"%s\"  % key)\n",
    "nonce = Random.new().read(16) # Nonce de 16 bytes\n",
    "print('nonce generado -->',\"%s\"  % HEXA(nonce))\n",
    "key_temporal = SHA.new(key+nonce).digest() # combina la clave y el nonce de manera compleja\n",
    "cifrador1 = ARC4.new(key_temporal)\n",
    "cipher_text = nonce + cifrador1.encrypt(msg)\n",
    "print('Mensaje cifrado -->',\"%s\"  % cipher_text)\n",
    "\n",
    "\n",
    "####\n",
    "####\n",
    "# Ahora el Emisor envia el mensaje por la red al Receptor\n",
    "print('-->')\n",
    "print('-->')\n",
    "print('Envio de mensaje cifrado por canal inseguro')\n",
    "print('-->')\n",
    "print('-->')\n",
    "####\n",
    "####\n",
    "\n",
    "\n",
    "# el receptor conoce key = b'Very long and confidential key', ya que es un cifrado simétrico.\n",
    "# solo le hace falta sacar el nonce del mensaje de 16 bbytes para sacar la key_temporal a través del hash sha\n",
    "\n",
    "nonce_enviado = cipher_text[:16] # primero se saca el nonce del mensaje, ie los 16 primero bytes\n",
    "print('nonce recibido, extraído del mensaje cifrado recibido -->',\"%s\"  % HEXA(nonce))\n",
    "key_temporal = SHA.new(key+nonce_enviado).digest()\n",
    "cifrador2 = ARC4.new(key_temporal)\n",
    "plain_text=cifrador2.decrypt(cipher_text[16:]) # cifra solo el mensaje, ie a partir de lo 16 bytes de nonce\n",
    "print('Mensaje decifrado -->', \"%s\"  % plain_text)"
   ]
  },
  {
   "cell_type": "markdown",
   "metadata": {},
   "source": [
    "## Tu turno 2: Explicar con detalle porque para el cifrado de flujo RC4, como mostramos en el código anterior, la clave de largo plazo se combina complejamente con un Nonce a través de una función Hash ¿Porqué no se utiliza solo la clave de largo plazo? ¿Porqué no se utiliza ninguna función de Padding? ¿Qué relación tiene RC4 con OTP?"
   ]
  },
  {
   "cell_type": "markdown",
   "metadata": {},
   "source": [
    "## 5) Números grandes y primos"
   ]
  },
  {
   "cell_type": "code",
   "execution_count": 43,
   "metadata": {
    "collapsed": false
   },
   "outputs": [
    {
     "data": {
      "text/plain": [
       "2071807432749382749858321984570321740321403217098750948590849058904285904285908490589048590485094809583409859034285392L"
      ]
     },
     "execution_count": 43,
     "metadata": {},
     "output_type": "execute_result"
    }
   ],
   "source": [
    "# Aquí vemos algún ejemplo de utilización de nuúmeros grandes y primos, que se puede necesitar parra criptografía públlica.\n",
    "a=2071807432749382749858321984570321740321403217098750948590849058904285904285908490589048590485094809583409859034285392L\n",
    "b=221740321403217098750948590849058904285904285908490589048590485094809583409859034285392L\n",
    "c=a*b\n",
    "c/b"
   ]
  },
  {
   "cell_type": "code",
   "execution_count": 145,
   "metadata": {
    "collapsed": false
   },
   "outputs": [
    {
     "data": {
      "text/plain": [
       "787846249437932522671654181572402692503502549367608204764342867455585184879177068670792690016030583342889571706224356401133297787083868359715897400049813137408474182982735327393362882420311316991670717252919658184200512699982085359449098410182543086198605073037280691090511261013144716075175728195332727328264464406599537779684074325251675243088622321871496105788096876342189266498958652214827820269517525572998872152386292542290140186746019923440966885728505870971642109796852755795182811031209472694951375139395140601326963938147397745856028298521384744861587900744988651963586838247524747554835889882516073382390704785098898062832294164593390719373896308935455947963743843039655895826124183511541750693249817141656622318018410067441855194690446099576966985973297232949241276376073020767543426815680212907541664978997092472692944607208495072562564884324190700527310374293502479170669914258080292792253896296252900101387412274721027483941591062780088711786166951871107637244954931950091828228324944153686276662995712565130106091927559339643385648656204625793547923051319036179221685434931243579189846670311040326909308264464214640520010718753834494424970506082470015501517174535172683311958693930821170837884828744261146456941908399L"
      ]
     },
     "execution_count": 145,
     "metadata": {},
     "output_type": "execute_result"
    }
   ],
   "source": [
    "from  Crypto.Util import number\n",
    "p=number.getPrime(4096)\n",
    "p"
   ]
  },
  {
   "cell_type": "markdown",
   "metadata": {},
   "source": [
    "## 6) Obtención de parejas de claves Privada-Pública para RSA y su cifrado"
   ]
  },
  {
   "cell_type": "code",
   "execution_count": 144,
   "metadata": {
    "collapsed": false
   },
   "outputs": [
    {
     "name": "stdout",
     "output_type": "stream",
     "text": [
      "KEY --> <_RSAobj @0x6a6de48 n(1024),e,d,p,q,u,private>\n",
      "n --> 150077670675722883180157803361241725401389527952780778418285866635655559142100102260374664384342730942108701028520261591469926271268181919201270117265201312122266319126806372508178892803073084100074469441528445357123869452081180341332127932481391325470595398844825503006402883350593522948397482842161661804609\n",
      "e --> 65537\n",
      "d --> 49014487436763547180800122421594181767419037433836150285563737880427416388872096507027470230289329891281179132618943178720757769049913267293040352624385741794557490305935178212295217830705583869057731002013715066054634439831256361426795608229662164066937145745730200993610525976760352886036009075098697065793\n",
      "p --> 11877728438961850431115969975054643906272933459683561569608793197031009249957350556994214164312337554390082576084580212291340988666024394865599049242538821\n",
      "q --> 12635216527044974920344778919104673251363562402176254446095741316352896773957200226153341635102908089610858216518850491982360056022729826672244292417882829\n",
      "n=p*q --> 150077670675722883180157803361241725401389527952780778418285866635655559142100102260374664384342730942108701028520261591469926271268181919201270117265201312122266319126806372508178892803073084100074469441528445357123869452081180341332127932481391325470595398844825503006402883350593522948397482842161661804609\n",
      "¿Es primo p?--> 1\n",
      "¿Es primo q?--> 1\n",
      "¿Puede cifrar? --> True\n",
      "¿Puede firmar? --> True\n",
      "¿La clave privada está contenida ene el objeto? --> True\n",
      "¿Puede cifrar? --> False\n",
      "¿Puede firmar? --> True\n",
      "¿La clave privada está contenida ene el objeto? --> True\n",
      "public_key --> <_RSAobj @0x4ab8d88 n(1024),e>\n",
      "n --> 150077670675722883180157803361241725401389527952780778418285866635655559142100102260374664384342730942108701028520261591469926271268181919201270117265201312122266319126806372508178892803073084100074469441528445357123869452081180341332127932481391325470595398844825503006402883350593522948397482842161661804609\n",
      "e --> 65537\n",
      "y\u0000&�]��\u00038!�X���\b��M�^\u0019�*����:%I'h\u000f��4�nj�殟�پ\u0019g\u000e�ض����n��Oe\"\u0005d\u0013�\u000e!\u0000#��\u0006^s�\u0012��\u0019�}\u0007���eр/y\n",
      "msgc --> 88:cb:ce:c9:4:5c:5f:a6:72:66:6e:e0:83:e5:7d:88:b7:aa:3e:ab:ad:95:62:72:e5:99:f4:0:52:9b:95:d:79:0:7f:26:fe:5d:e8:97:ca:3:38:21:ed:58:ed:f9:a8:8:f0:d2:4d:7f:ec:5e:19:8e:2a:9a:ca:c3:e1:3a:25:49:27:68:f:bf:c7:34:d0:6e:6a:ec:8c:e6:ae:9f:99:d9:be:19:67:e:a8:d8:b6:82:b1:a8:ba:6e:87:c6:4f:65:22:5:64:13:c3:e:21:0:23:ab:b5:6:5e:73:fd:12:ad:9f:19:97:7d:7:ad:bc:8d:65:d1:80:2f:79\n",
      "Mensaje decifrado --> Hola, quiero que me cifres con RSA\n"
     ]
    }
   ],
   "source": [
    "from  Crypto.Util import number\n",
    "from Crypto.PublicKey import RSA\n",
    "from Crypto import Random\n",
    "# Definición de la función lambda que comvierte una cadena a hexadecimal.\n",
    "HEXA= lambda xx: ':'.join(hex(ord(x))[2:] for x in xx)\n",
    "\n",
    "generador_aleatorio = Random.new().read\n",
    "numero_bits_clave=1024\n",
    "key = RSA.generate(numero_bits_clave, generador_aleatorio) # la clave tiene toda la información que se necesita mas lo métodos asociados\n",
    "print('KEY --> ' \"%s\"  % key)\n",
    "print('n --> ' \"%s\"  % key.n)\n",
    "print('e --> ' \"%s\"  % key.e)\n",
    "print('d --> ' \"%s\"  % key.d)\n",
    "print('p --> ' \"%s\"  % key.p)\n",
    "print('q --> ' \"%s\"  % key.q)\n",
    "print('n=p*q --> ' \"%s\"  % (key.p*key.q))\n",
    "print('¿Es primo p?--> ' \"%s\"  % (number.isPrime(key.p)))\n",
    "print('¿Es primo q?--> ' \"%s\"  % (number.isPrime(key.q)))\n",
    "\n",
    "# Se pueden chequear las posibilidades de la clave generada para el objeto RSA:\n",
    "print('¿Puede cifrar? --> ' \"%s\"  % key.can_encrypt())\n",
    "print('¿Puede firmar? --> ' \"%s\"  % key.can_sign())\n",
    "print('¿La clave privada está contenida ene el objeto? --> ' \"%s\"  % key.has_private())\n",
    "\n",
    "# Por ejemplo para el estandar de firma digital DSA, cambian las cosas\n",
    "from Crypto.Random import random\n",
    "from Crypto.PublicKey import DSA\n",
    "key_DSA = DSA.generate(1024)\n",
    "print('¿Puede cifrar? --> ' \"%s\"  % key_DSA.can_encrypt())\n",
    "print('¿Puede firmar? --> ' \"%s\"  % key_DSA.can_sign())\n",
    "print('¿La clave privada está contenida ene el objeto? --> ' \"%s\"  % key_DSA.has_private())\n",
    "\n",
    "# Volvemos al RSA y sacamos las claves de manera conveniente para cifrar y decifrar\n",
    "public_key = key.publickey() # hay que generar la nueva clave pública, para publicarla en algún sitio y que el receptor la pueda leer \n",
    "print('public_key --> ' \"%s\"  % public_key)  # es un objeto compuesto por e y n que tiene asociado métodos para cifrar y descifrar\n",
    "print('n --> ' \"%s\"  % key.n)\n",
    "print('e --> ' \"%s\"  % key.e)\n",
    "msg='Hola, quiero que me cifres con RSA' # mensaje a cifrar\n",
    "msgc = public_key.encrypt(msg, 8) # cifrar con clave pública, 8 es un parámetro aleatorio (podemos meter el número u byte que queramos) \n",
    "                                  # sino quieres meter ningún parámetro aleatorio msgc = public_key.encrypt(msg, '')\n",
    "print('msgc --> ' \"%s\"  % msgc) # Si nos damos cuenta es una lista de un elemento que es cifrado y otro elemento vacio ('...',)\n",
    "print('msgc --> ' \"%s\"  % HEXA(msgc[0])) # Así le pasamos el primer elemento a HEXA  \n",
    "msg_descifrado = key.decrypt(msgc) # Descifrado con la clave privada\n",
    "print('Mensaje decifrado --> ' \"%s\"  % msg_descifrado)\n",
    "\n",
    "\n"
   ]
  },
  {
   "cell_type": "markdown",
   "metadata": {},
   "source": [
    "## Tu turno 3: Utiliza RSA para cifrar un mensaje pero invirtiendo el procedimiento: primero utiliza la clave privada y luego la clave pública. Prueba que recuperas el mensaje. ¿Explica que diferencia hay con el procedimiento anterior?"
   ]
  },
  {
   "cell_type": "markdown",
   "metadata": {},
   "source": [
    "## 7) Firma y verificacion de un mensaje con RSA"
   ]
  },
  {
   "cell_type": "code",
   "execution_count": 143,
   "metadata": {
    "collapsed": false,
    "scrolled": true
   },
   "outputs": [
    {
     "name": "stdout",
     "output_type": "stream",
     "text": [
      "Digest de SHA512--> ee:b9:9b:86:4b:3b:52:e7:eb:b6:65:ea:2b:7c:32:cd:ec:75:d9:f2:ed:ad:31:18:e5:e9:7c:88:5d:b6:3e:8d:e4:28:89:98:52:a4:60:75:4d:90:80:9a:bc:ee:4c:56:9a:4e:9a:49:e6:25:a3:0:7e:c5:1e:42:27:b7:9c:de\n",
      "Firma--> 20229297136493782426380562140419192712171280443563600014437991282758859407222594718306540474446908466775541650535112409929629030514424001295632167558162634835300085835940199261702568973333531740163328143943747392594771368813448790659704925805553134271620576393521153748065954379578250899266449472476720746457\n",
      "-->\n",
      "-->\n",
      "Envio de mensaje y firma por canal inseguro\n",
      "-->\n",
      "-->\n",
      "La verificación de la firma es --> True\n"
     ]
    }
   ],
   "source": [
    "from Crypto.Hash import SHA512 # digest de 512\n",
    "from Crypto.Hash import SHA256 # digest de 256\n",
    "\n",
    "from Crypto.PublicKey import RSA\n",
    "from Crypto import Random\n",
    "# Definición de la función lambda que comvierte una cadena a hexadecimal.\n",
    "HEXA= lambda xx: ':'.join(hex(ord(x))[2:] for x in xx)\n",
    "\n",
    "generador_aleatorio = Random.new().read\n",
    "numero_bits_clave=1024\n",
    "key = RSA.generate(numero_bits_clave, generador_aleatorio) # la clave tiene toda la información que se necesita mas lo métodos asociados\n",
    "msg='Hola, quiero firmar este mensaje con RSA' # mensaje a firmar\n",
    "hash = SHA512.new(msg).digest()\n",
    "print('Digest de SHA512--> ' \"%s\"  % (HEXA(hash)))\n",
    "public_key = key.publickey() # hay que generar la nueva clave pública, para publicarla en algún sitio y que el receptor la pueda leer \n",
    "firma = key.sign(hash, '')\n",
    "print('Firma--> ' \"%s\"  % firma)\n",
    "\n",
    "\n",
    "####\n",
    "####\n",
    "# Ahora el Emisor envia el mensaje y su firma por la red al Receptor\n",
    "print('-->')\n",
    "print('-->')\n",
    "print('Envio de mensaje y firma por canal inseguro')\n",
    "print('-->')\n",
    "print('-->')\n",
    "####\n",
    "####\n",
    "\n",
    "hash_receptor= SHA512.new(msg).digest()\n",
    "verificacion=public_key.verify(hash_receptor, firma) # en la función de vrificación está cogiendo información de la clave pública\n",
    "                                                     # publicada por el emisor\n",
    "print('La verificación de la firma es --> ' \"%s\"  % verificacion)\n",
    "\n",
    "\n",
    "\n",
    "\n",
    "\n"
   ]
  },
  {
   "cell_type": "markdown",
   "metadata": {},
   "source": [
    "## 8) Intercambio de Claves Diffie–Hellman"
   ]
  },
  {
   "cell_type": "code",
   "execution_count": 47,
   "metadata": {
    "collapsed": false
   },
   "outputs": [
    {
     "name": "stdout",
     "output_type": "stream",
     "text": [
      "primo_compartido--> 67\n",
      "g--> 50\n",
      "secreto_Alice--> 27\n",
      "secreto_Bob--> 13\n",
      "Alice envía Bob A = g^a mod p --> 58\n",
      "Bob envía Alice B = g^b mod p --> 61\n",
      "K_Alice --> 53\n",
      "K_Bob --> 53\n"
     ]
    }
   ],
   "source": [
    "# función de exponenciación modular rápida\n",
    "# Ejemplo 88^7=187 --> pow_mod(88,7,187)\n",
    "def pow_mod(x,e,m):\n",
    "    X = x\n",
    "    E = e\n",
    "    Y = 1\n",
    "    while E > 0:\n",
    "        if E % 2 == 0:\n",
    "            X = (X * X) % m\n",
    "            E = E/2\n",
    "        else:\n",
    "            Y = (X * Y) % m\n",
    "            E = E - 1\n",
    "    return Y\n",
    "########\n",
    " \n",
    "\n",
    "# Números públicos\n",
    "primo_compartido=67\n",
    "print('primo_compartido--> ' \"%s\"  % primo_compartido)\n",
    "g=50\n",
    "print('g--> ' \"%s\"  % g)\n",
    "# Alice elige su secreto\n",
    "secreto_Alice = 27\n",
    "print('secreto_Alice--> ' \"%s\"  % secreto_Alice)\n",
    "# Bob elige su secreto\n",
    "secreto_Bob = 13\n",
    "print('secreto_Bob--> ' \"%s\"  % secreto_Bob)\n",
    "\n",
    "# Alice envía Bob A = g^a mod p\n",
    "A = pow_mod(g,secreto_Alice,primo_compartido)\n",
    "print('Alice envía Bob A = g^a mod p --> ' \"%s\"  % A)\n",
    "\n",
    "# Bob envía Alice B = g^b mod p\n",
    "B = pow_mod(g,secreto_Bob,primo_compartido)\n",
    "print('Bob envía Alice B = g^b mod p --> ' \"%s\"  % B)\n",
    "\n",
    "# Ahora cada uno de ellos calculan secretamente la clave para el cifrado\n",
    "\n",
    "# Alice calcula la clave de cifrado: s = B^a mod p\n",
    "K_Alice = pow_mod(B, secreto_Alice, primo_compartido)\n",
    "print('K_Alice --> ' \"%s\"  % K_Alice)\n",
    "\n",
    "# Bob calcula la clave de cifrado: s = A^b mod p\n",
    "K_Bob = pow_mod(A, secreto_Bob, primo_compartido)\n",
    "print('K_Bob --> ' \"%s\"  % K_Bob)\n",
    "\n"
   ]
  },
  {
   "cell_type": "markdown",
   "metadata": {},
   "source": [
    "## Tu turno 4: Explicar porque Alice y Bob tienen una clave secreta común, k=53, cuando no se han pasado explicitamente la clave k=53."
   ]
  },
  {
   "cell_type": "markdown",
   "metadata": {},
   "source": [
    "## 9) Funciones Hash"
   ]
  },
  {
   "cell_type": "code",
   "execution_count": 73,
   "metadata": {
    "collapsed": false,
    "scrolled": true
   },
   "outputs": [
    {
     "name": "stdout",
     "output_type": "stream",
     "text": [
      "d256 --> e5ae018c198ddb056d81e80b8f46e4466ce663213513a31dc4933b79e5748b10\n",
      "d256 con espacio al final --> 41f74ce2bef0fc6945a17fc8252cfd8a25ce3c3f0a557ac8ffa6915aba324531\n",
      "d512 --> 0599286b29a02e1618bc69f97912e8aa8c3c484f4d3412c0fa3b5b1fe2211980f6e84940087ba864f9ea5601d21aacfadc6b7e3af1dc167b80a2990b52571b30\n",
      "d512 con espacio al final --> e58ba2e1ed71816c0135750e0ed9d5cb195ee75e14c90c07b2025fe46d2d1185cdaeb1a7bf42cbaf2d61ed89e3394ee86d35b6f5c846e9e8b271d744eb472195\n",
      "OK --> False\n",
      "OK --> True\n",
      "MD5 del fichero Logo-UAM.gif--> 381eb171f5c7e0e7705a181c0cd8ef8e\n"
     ]
    }
   ],
   "source": [
    "from Crypto.Hash import SHA256\n",
    "from Crypto.Hash import SHA512\n",
    "\n",
    "\n",
    "msg = 'Hola, quiero un hash de este mensaje' # mensaje para hash\n",
    "d256 = SHA256.new(msg).hexdigest()\n",
    "print('d256 --> ' \"%s\"  % d256)\n",
    "\n",
    "# metiendo un espacio al final\n",
    "msg = 'Hola, quiero un hash de este mensaje ' # mensaje para hash\n",
    "d256_ = SHA256.new(msg).hexdigest()\n",
    "print('d256 con espacio al final --> ' \"%s\"  % d256_)\n",
    "\n",
    "msg = 'Hola, quiero un hash de este mensaje' # mensaje para hash\n",
    "d512 = SHA512.new(msg).hexdigest()\n",
    "print('d512 --> ' \"%s\"  % d512)\n",
    "\n",
    "# metiendo un espacio al final\n",
    "msg = 'Hola, quiero un hash de este mensaje ' # mensaje para hash\n",
    "d512_ = SHA512.new(msg).hexdigest()\n",
    "print('d512 con espacio al final --> ' \"%s\"  % d512_)\n",
    "\n",
    "# Las funciones hash se puede utilizar para muchas cosas\n",
    "# por ejemplo para passwords o para chequear la integridad de ficheros eu se descargan por la red.\n",
    "def chequear_password(mi_password, hash_mi_password):\n",
    "    return SHA512.new(mi_password).hexdigest() == hash_mi_password\n",
    "\n",
    "ok=chequear_password('pepito', 'e58ba2e1ed71816c0135750e0ed9d5cb195ee75e14c90c07b2025fe46d2d1185cdaeb1a7bf42cbaf2d61ed89e3394ee86d35b6f5c846e9e8b271d744eb472195')\n",
    "print('OK --> ' \"%s\"  % ok)\n",
    "\n",
    "ok=chequear_password('pepito', '7182aec1a70db349e8843575acbfc34877020381519f7821c03fdb837dac89cb7d7d830ff95771da682a039f992f7f5b465191e061e4d580dba58bf9a5bd1d45')\n",
    "print('OK --> ' \"%s\"  % ok)\n",
    "\n",
    "\n",
    "# para calcular la integridad de un fichero que te descargas por md5\n",
    "# Cualquier modificación de un fichero se puede detectar con un hash\n",
    "import os\n",
    "from Crypto.Hash import MD5\n",
    "\n",
    "def obtener_md5_fichero(nombre_fichero):\n",
    "    hash_md5 = MD5.new()\n",
    "    tamano_trozo_fichero = 8192\n",
    "    with open(nombre_fichero, 'rb') as f:\n",
    "        while True:\n",
    "            trozo_fichero = f.read(tamano_trozo_fichero)\n",
    "            if len(trozo_fichero) == 0:\n",
    "                break\n",
    "            hash_md5.update(trozo_fichero) # Al utilizar 'update' por trozos del fichero la memoria no se recarga\n",
    "    return hash_md5.hexdigest()\n",
    "\n",
    "h=obtener_md5_fichero('Logo-UAM.gif')\n",
    "print('MD5 del fichero Logo-UAM.gif--> ' \"%s\"  % h)\n"
   ]
  },
  {
   "cell_type": "markdown",
   "metadata": {},
   "source": [
    "## Tu turno 5: Implementa el esquema Firma Digital y Confidencialidad:\n",
    "<Table border=\"1\">\n",
    "<tr><td>\n",
    "<img alt=\"INTRO Seguridad y Privacidad Python\" title=\"INTRO Seguridad y Privacidad Python\" src=\"./FirmayConfidencialidad.png\" width=\"1000\">\n",
    "</td></tr>\n",
    "</table>"
   ]
  },
  {
   "cell_type": "markdown",
   "metadata": {},
   "source": [
    "## Tu turno 6: Implementa este esquema de distribución de claves:\n",
    "<Table border=\"1\">\n",
    "<tr><td>\n",
    "<img alt=\"INTRO Seguridad y Privacidad Python\" title=\"INTRO Seguridad y Privacidad Python\" src=\"./KDC.png\" width=\"1000\">\n",
    "</td></tr>\n",
    "</table>"
   ]
  },
  {
   "cell_type": "code",
   "execution_count": null,
   "metadata": {
    "collapsed": true
   },
   "outputs": [],
   "source": []
  }
 ],
 "metadata": {
  "anaconda-cloud": {},
  "kernelspec": {
   "display_name": "Python [default]",
   "language": "python",
   "name": "python2"
  },
  "language_info": {
   "codemirror_mode": {
    "name": "ipython",
    "version": 2
   },
   "file_extension": ".py",
   "mimetype": "text/x-python",
   "name": "python",
   "nbconvert_exporter": "python",
   "pygments_lexer": "ipython2",
   "version": "2.7.12"
  }
 },
 "nbformat": 4,
 "nbformat_minor": 2
}
