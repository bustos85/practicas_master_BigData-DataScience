{
 "cells": [
  {
   "cell_type": "markdown",
   "metadata": {},
   "source": [
    "# Proyecto\n",
    "A los largo de la asignatura de Análisis de Datos vamos a realizar un proyecto en parejas para analizar uno de los siguientes conjuntos de datos (debéis elegir uno de los dos conjuntos):\n",
    "\n",
    "- GiveMeSomeCredit: Es un problema de clasificación de credit scoring con dos clases, muy desequilibrado. Tiene bastantes missing values, outliers, valores mal introducidos, etc. Los datos se pueden descargar <a href=\"https://www.kaggle.com/c/GiveMeSomeCredit/data\"> aquí</a>\n",
    "- Bike-Sharing-Dataset: Tiene como objetivo el predecir el uso diario y horario de un sistema de alquiler de bicicletas basandose en datos climatológicos, día de la semana, temporada, etc.  El dataset incluye dos años de uso de bicicletas del sistema público de Washington DC. Los datos se pueden descargar <a href=\"https://github.com/kylecho/nd101_p1_neural_network/tree/master/Bike-Sharing-Dataset\">aquí</a>\n",
    "\n",
    "### Estructura del proyecto\n",
    "El proyecto se debe entregar en fases a través de un notebook de python que incluya:\n",
    "- Preparación, auditoria y análisis de variables (**Fecha de entrega 13 abril**): Descripción estadística de los datos: Número de clases, distribución de las clases, otras estadísticas y análisis. (ver pdf en formacion.uam.es con más detalles)\n",
    "- Reducción de dimensionalidad e información no estructurada (**Fecha de entrega 19 mayo**): Descripción de los distintos atributos  propuestos y cómo se obtienen. Más detalles próximamente en moodle.\n",
    "- Utilización de técnicas de clústering para el análisis (**Fecha de entrega 1 junio**). Más detalles próximamente en moodle.\n",
    "- Máquinas de soporte vectorial: descripción del protocolo experimental, estimación de parámetros, etc: En esta sección se debe especificar toda la información necesaria para que otra persona, sin acceso a vuestro código, pueda reproducir los experimentos que habéis hecho. Debe quedar claro en la descripción que no se usan los datos de test para entrenar los modelos.\n",
    "- Resultados obtenidos en forma tabular y/o usando gráficas. Se debe describir que muestra cada tabla o gráfica.  (**Fecha de entrega 23 junio**) Más detalles próximamente en moodle.\n",
    "- Uso de otro modelos como redes o conjuntos de clasificadores.\n",
    "- Conclusiones y discusión de los resultados obtenidos y conclusiones (**sobre esta cuestión y sobre el proyecto en general habrá una pregunta abierta en el examen**)\n",
    "\n",
    "\n"
   ]
  },
  {
   "cell_type": "code",
   "execution_count": null,
   "metadata": {
    "collapsed": true
   },
   "outputs": [],
   "source": []
  }
 ],
 "metadata": {
  "kernelspec": {
   "display_name": "Python 3",
   "language": "python",
   "name": "python3"
  },
  "language_info": {
   "codemirror_mode": {
    "name": "ipython",
    "version": 3
   },
   "file_extension": ".py",
   "mimetype": "text/x-python",
   "name": "python",
   "nbconvert_exporter": "python",
   "pygments_lexer": "ipython3",
   "version": "3.6.2"
  }
 },
 "nbformat": 4,
 "nbformat_minor": 2
}
