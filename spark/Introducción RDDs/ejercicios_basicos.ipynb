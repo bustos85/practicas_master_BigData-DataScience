{
 "cells": [
  {
   "cell_type": "markdown",
   "metadata": {},
   "source": [
    "# Práctica 1: Introducción a RDDs: tranformaciones y acciones Esta práctica es una introducción al uso de RDDs con spark. Trabajaremos con colecciones de datos sin esquema (RDD) y utilizaremos transformaciones y acciones para procesarlos. "
   ]
  },
  {
   "cell_type": "raw",
   "metadata": {},
   "source": [
    "1. Calcular la media y la desviación típica de un fichero con alturas (alturas_v0.csv). Cada fila tiene una altura (en cm). Sin embargo, algunas filas tienen errores y pone -100. Asimismo, en algunas filas las alturas están en metros en vez de en centímetros. Antes de calcular la media y la desviación, hay que filtrar los datos erróneos y corregir los datos en otras unidades. Transformaciones y acciones sugeridas: textFile, map, reduce, float(str) (Convierte una cadena a float), filter, count, etc."
   ]
  },
  {
   "cell_type": "code",
   "execution_count": 1,
   "metadata": {},
   "outputs": [
    {
     "name": "stdout",
     "output_type": "stream",
     "text": [
      "La media es:  168.93825222396651\n",
      "La desviación típica es:  7.8340557833708955\n"
     ]
    }
   ],
   "source": [
    "import math\n",
    "\n",
    "# Cargamos el ficheros de alturas. Eliminamos los datos con '.' para pasar metros a centimetros y los datos como numéricos.\n",
    "# También se filtran los datos para eliminar datos negativos, y como algunos datos al eliminar los '.' han podido quedar erroneos\n",
    "# porque estaban por ejemplo como \"1.8\" en lugar de \"1.80\" se multiplican por 10 para que estén correctamente pasados a cms.\n",
    "rdd_alt = sc.textFile(\"alturas_v0.csv\").map(lambda a: a.replace('.','')).map(lambda a: int(a))\n",
    "rdd_alt = rdd_alt.filter(lambda a: a>=0).map(lambda a: a*10 if len(str(a))<3 else a)\n",
    "\n",
    "# se mapea una tupla y reduce para conseguir tener una tupla con el número de registros, la suma de ellos y la suma de los \n",
    "# productos. Con estos tres datos se puede calcular la media y desviación.\n",
    "rdd_alt = rdd_alt.map(lambda a: (1,a,a*a)).reduce(lambda a, b: ((a[0]+b[0]),(a[1]+b[1]),(a[2]+b[2])))\n",
    "\n",
    "print(\"La media es: \", rdd_alt[1]/rdd_alt[0])\n",
    "print(\"La desviación típica es: \", math.sqrt((rdd_alt[2]/rdd_alt[0] - (rdd_alt[1]/rdd_alt[0])**2)))\n"
   ]
  },
  {
   "cell_type": "raw",
   "metadata": {},
   "source": [
    "2. Calcular la media y la desviación típica de un fichero con alturas (alturas.csv) por género. Cada fila tiene género y altura (en cm). Se presentan los mismos errores que en el caso precedente. Transformaciones y acciones sugeridas: textFile, map, reduce, float(str) (Convierte una cadena a float), filter, count, split, etc."
   ]
  },
  {
   "cell_type": "code",
   "execution_count": 2,
   "metadata": {},
   "outputs": [
    {
     "name": "stdout",
     "output_type": "stream",
     "text": [
      "La media de los hombres es:  173.46075433231397\n",
      "La media de las mujeres es:  164.16774193548386\n",
      "La desviación típica de los hombres es:  7.53122883663738\n",
      "La desviación típica de las mujeres es:  4.684891325217995\n"
     ]
    }
   ],
   "source": [
    "# Cargamos el ficheros de alturas. Eliminamos los datos con '.' para pasar metros a centimetros y los datos como numéricos.\n",
    "# También se filtran los datos para eliminar datos negativos, y como algunos datos al eliminar los '.' han podido quedar erroneos\n",
    "# porque estaban por ejemplo como \"1.8\" en lugar de \"1.80\" se multiplican por 10 para que estén correctamente pasados a cms.\n",
    "# La diferencia a tener en cuenta es que en este fichero hay dos columnas, lo que implica uso de índices por ejemplo.\n",
    "rdd_alt2 = sc.textFile(\"alturas.csv\").map(lambda a: a.split(','))\n",
    "rdd_alt2 = rdd_alt2.map(lambda a: (a[0],a[1].replace('.',''))).map(lambda a: (a[0],(int(a[1])*10)) if len(a[1])<3 else (a[0],a[1]))\n",
    "rdd_alt2 = rdd_alt2.map(lambda a: (a[0],int(a[1]))).filter(lambda a: int(a[1])>=0)\n",
    "\n",
    "rdd_alt2 = rdd_alt2.map(lambda a: (a[0],(1,a[1],a[1]*a[1]))).reduceByKey(lambda a, b: ((a[0]+b[0]),(a[1]+b[1]),(a[2]+b[2])))\n",
    "rdd_alt2.cache()\n",
    "\n",
    "# se ha obtenido un RDD con dos registros, uno para hombres y otro para mujeres con los datos requeridos en cada caso para \n",
    "# calcular la media y la desviación. Filtramos para obtener cada una de las tuplas de valores y realizar los cálculos.\n",
    "rdd_h = rdd_alt2.filter(lambda a: a[0]=='H').map(lambda a: a[1]).reduce(lambda a: a)\n",
    "rdd_m = rdd_alt2.filter(lambda a: a[0]=='M').map(lambda a: a[1]).reduce(lambda a: a)\n",
    "\n",
    "print(\"La media de los hombres es: \", rdd_h[1]/rdd_h[0])\n",
    "print(\"La media de las mujeres es: \", rdd_m[1]/rdd_m[0])\n",
    "print(\"La desviación típica de los hombres es: \", math.sqrt((rdd_h[2]/rdd_h[0] - (rdd_h[1]/rdd_h[0])**2)))\n",
    "print(\"La desviación típica de las mujeres es: \", math.sqrt((rdd_m[2]/rdd_m[0] - (rdd_m[1]/rdd_m[0])**2)))\n"
   ]
  }
 ],
 "metadata": {
  "kernelspec": {
   "display_name": "Pyspark (Py3)",
   "language": "",
   "name": "pyspark"
  },
  "language_info": {
   "codemirror_mode": {
    "name": "ipython",
    "version": 3
   },
   "file_extension": ".py",
   "mimetype": "text/x-python",
   "name": "python",
   "nbconvert_exporter": "python",
   "pygments_lexer": "ipython3",
   "version": "3.5.2"
  }
 },
 "nbformat": 4,
 "nbformat_minor": 2
}
